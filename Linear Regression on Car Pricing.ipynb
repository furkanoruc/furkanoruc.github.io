{
 "cells": [
  {
   "cell_type": "code",
   "execution_count": 1,
   "metadata": {},
   "outputs": [],
   "source": [
    "#importing the necessary libraries and methods - \n",
    "\n",
    "import pandas as pd\n",
    "import numpy as np\n",
    "import matplotlib\n",
    "\n",
    "from sklearn.linear_model import LinearRegression\n",
    "from sklearn.metrics import mean_squared_error, mean_absolute_error\n",
    "from sklearn.model_selection import train_test_split\n",
    "from sklearn.preprocessing import MinMaxScaler\n"
   ]
  },
  {
   "cell_type": "code",
   "execution_count": 2,
   "metadata": {},
   "outputs": [],
   "source": [
    "#Import plot as plt\n",
    "from matplotlib import pyplot as plt"
   ]
  },
  {
   "cell_type": "code",
   "execution_count": 3,
   "metadata": {},
   "outputs": [],
   "source": [
    "import seaborn as sns"
   ]
  },
  {
   "cell_type": "code",
   "execution_count": 4,
   "metadata": {},
   "outputs": [],
   "source": [
    "#Reading data from the csv file (The file is in the same folder, so \"current working directory\")\n",
    "\n",
    "df = pd.read_csv(\"car-pricing-data.csv\")"
   ]
  },
  {
   "cell_type": "code",
   "execution_count": 5,
   "metadata": {},
   "outputs": [
    {
     "data": {
      "text/html": [
       "<div>\n",
       "<style scoped>\n",
       "    .dataframe tbody tr th:only-of-type {\n",
       "        vertical-align: middle;\n",
       "    }\n",
       "\n",
       "    .dataframe tbody tr th {\n",
       "        vertical-align: top;\n",
       "    }\n",
       "\n",
       "    .dataframe thead th {\n",
       "        text-align: right;\n",
       "    }\n",
       "</style>\n",
       "<table border=\"1\" class=\"dataframe\">\n",
       "  <thead>\n",
       "    <tr style=\"text-align: right;\">\n",
       "      <th></th>\n",
       "      <th>name</th>\n",
       "      <th>year</th>\n",
       "      <th>selling_price</th>\n",
       "      <th>km_driven</th>\n",
       "      <th>fuel</th>\n",
       "      <th>seller_type</th>\n",
       "      <th>transmission</th>\n",
       "      <th>owner</th>\n",
       "      <th>mileage</th>\n",
       "      <th>engine</th>\n",
       "      <th>max_power</th>\n",
       "      <th>seats</th>\n",
       "    </tr>\n",
       "  </thead>\n",
       "  <tbody>\n",
       "    <tr>\n",
       "      <th>0</th>\n",
       "      <td>Maruti Swift Dzire VDI</td>\n",
       "      <td>2014</td>\n",
       "      <td>450000</td>\n",
       "      <td>145500</td>\n",
       "      <td>Diesel</td>\n",
       "      <td>Individual</td>\n",
       "      <td>Manual</td>\n",
       "      <td>First Owner</td>\n",
       "      <td>23.4 kmpl</td>\n",
       "      <td>1248 CC</td>\n",
       "      <td>74 bhp</td>\n",
       "      <td>5.0</td>\n",
       "    </tr>\n",
       "    <tr>\n",
       "      <th>1</th>\n",
       "      <td>Skoda Rapid 1.5 TDI Ambition</td>\n",
       "      <td>2014</td>\n",
       "      <td>370000</td>\n",
       "      <td>120000</td>\n",
       "      <td>Diesel</td>\n",
       "      <td>Individual</td>\n",
       "      <td>Manual</td>\n",
       "      <td>Second Owner</td>\n",
       "      <td>21.14 kmpl</td>\n",
       "      <td>1498 CC</td>\n",
       "      <td>103.52 bhp</td>\n",
       "      <td>5.0</td>\n",
       "    </tr>\n",
       "    <tr>\n",
       "      <th>2</th>\n",
       "      <td>Honda City 2017-2020 EXi</td>\n",
       "      <td>2006</td>\n",
       "      <td>158000</td>\n",
       "      <td>140000</td>\n",
       "      <td>Petrol</td>\n",
       "      <td>Individual</td>\n",
       "      <td>Manual</td>\n",
       "      <td>Third Owner</td>\n",
       "      <td>17.7 kmpl</td>\n",
       "      <td>1497 CC</td>\n",
       "      <td>78 bhp</td>\n",
       "      <td>5.0</td>\n",
       "    </tr>\n",
       "    <tr>\n",
       "      <th>3</th>\n",
       "      <td>Hyundai i20 Sportz Diesel</td>\n",
       "      <td>2010</td>\n",
       "      <td>225000</td>\n",
       "      <td>127000</td>\n",
       "      <td>Diesel</td>\n",
       "      <td>Individual</td>\n",
       "      <td>Manual</td>\n",
       "      <td>First Owner</td>\n",
       "      <td>23.0 kmpl</td>\n",
       "      <td>1396 CC</td>\n",
       "      <td>90 bhp</td>\n",
       "      <td>5.0</td>\n",
       "    </tr>\n",
       "    <tr>\n",
       "      <th>4</th>\n",
       "      <td>Maruti Swift VXI BSIII</td>\n",
       "      <td>2007</td>\n",
       "      <td>130000</td>\n",
       "      <td>120000</td>\n",
       "      <td>Petrol</td>\n",
       "      <td>Individual</td>\n",
       "      <td>Manual</td>\n",
       "      <td>First Owner</td>\n",
       "      <td>16.1 kmpl</td>\n",
       "      <td>1298 CC</td>\n",
       "      <td>88.2 bhp</td>\n",
       "      <td>5.0</td>\n",
       "    </tr>\n",
       "    <tr>\n",
       "      <th>5</th>\n",
       "      <td>Hyundai Xcent 1.2 VTVT E Plus</td>\n",
       "      <td>2017</td>\n",
       "      <td>440000</td>\n",
       "      <td>45000</td>\n",
       "      <td>Petrol</td>\n",
       "      <td>Individual</td>\n",
       "      <td>Manual</td>\n",
       "      <td>First Owner</td>\n",
       "      <td>20.14 kmpl</td>\n",
       "      <td>1197 CC</td>\n",
       "      <td>81.86 bhp</td>\n",
       "      <td>5.0</td>\n",
       "    </tr>\n",
       "    <tr>\n",
       "      <th>6</th>\n",
       "      <td>Maruti Wagon R LXI DUO BSIII</td>\n",
       "      <td>2007</td>\n",
       "      <td>96000</td>\n",
       "      <td>175000</td>\n",
       "      <td>LPG</td>\n",
       "      <td>Individual</td>\n",
       "      <td>Manual</td>\n",
       "      <td>First Owner</td>\n",
       "      <td>17.3 km/kg</td>\n",
       "      <td>1061 CC</td>\n",
       "      <td>57.5 bhp</td>\n",
       "      <td>5.0</td>\n",
       "    </tr>\n",
       "    <tr>\n",
       "      <th>7</th>\n",
       "      <td>Maruti 800 DX BSII</td>\n",
       "      <td>2001</td>\n",
       "      <td>45000</td>\n",
       "      <td>5000</td>\n",
       "      <td>Petrol</td>\n",
       "      <td>Individual</td>\n",
       "      <td>Manual</td>\n",
       "      <td>Second Owner</td>\n",
       "      <td>16.1 kmpl</td>\n",
       "      <td>796 CC</td>\n",
       "      <td>37 bhp</td>\n",
       "      <td>4.0</td>\n",
       "    </tr>\n",
       "    <tr>\n",
       "      <th>8</th>\n",
       "      <td>Toyota Etios VXD</td>\n",
       "      <td>2011</td>\n",
       "      <td>350000</td>\n",
       "      <td>90000</td>\n",
       "      <td>Diesel</td>\n",
       "      <td>Individual</td>\n",
       "      <td>Manual</td>\n",
       "      <td>First Owner</td>\n",
       "      <td>23.59 kmpl</td>\n",
       "      <td>1364 CC</td>\n",
       "      <td>67.1 bhp</td>\n",
       "      <td>5.0</td>\n",
       "    </tr>\n",
       "    <tr>\n",
       "      <th>9</th>\n",
       "      <td>Ford Figo Diesel Celebration Edition</td>\n",
       "      <td>2013</td>\n",
       "      <td>200000</td>\n",
       "      <td>169000</td>\n",
       "      <td>Diesel</td>\n",
       "      <td>Individual</td>\n",
       "      <td>Manual</td>\n",
       "      <td>First Owner</td>\n",
       "      <td>20.0 kmpl</td>\n",
       "      <td>1399 CC</td>\n",
       "      <td>68.1 bhp</td>\n",
       "      <td>5.0</td>\n",
       "    </tr>\n",
       "  </tbody>\n",
       "</table>\n",
       "</div>"
      ],
      "text/plain": [
       "                                   name  year  selling_price  km_driven  \\\n",
       "0                Maruti Swift Dzire VDI  2014         450000     145500   \n",
       "1          Skoda Rapid 1.5 TDI Ambition  2014         370000     120000   \n",
       "2              Honda City 2017-2020 EXi  2006         158000     140000   \n",
       "3             Hyundai i20 Sportz Diesel  2010         225000     127000   \n",
       "4                Maruti Swift VXI BSIII  2007         130000     120000   \n",
       "5         Hyundai Xcent 1.2 VTVT E Plus  2017         440000      45000   \n",
       "6          Maruti Wagon R LXI DUO BSIII  2007          96000     175000   \n",
       "7                    Maruti 800 DX BSII  2001          45000       5000   \n",
       "8                      Toyota Etios VXD  2011         350000      90000   \n",
       "9  Ford Figo Diesel Celebration Edition  2013         200000     169000   \n",
       "\n",
       "     fuel seller_type transmission         owner     mileage   engine  \\\n",
       "0  Diesel  Individual       Manual   First Owner   23.4 kmpl  1248 CC   \n",
       "1  Diesel  Individual       Manual  Second Owner  21.14 kmpl  1498 CC   \n",
       "2  Petrol  Individual       Manual   Third Owner   17.7 kmpl  1497 CC   \n",
       "3  Diesel  Individual       Manual   First Owner   23.0 kmpl  1396 CC   \n",
       "4  Petrol  Individual       Manual   First Owner   16.1 kmpl  1298 CC   \n",
       "5  Petrol  Individual       Manual   First Owner  20.14 kmpl  1197 CC   \n",
       "6     LPG  Individual       Manual   First Owner  17.3 km/kg  1061 CC   \n",
       "7  Petrol  Individual       Manual  Second Owner   16.1 kmpl   796 CC   \n",
       "8  Diesel  Individual       Manual   First Owner  23.59 kmpl  1364 CC   \n",
       "9  Diesel  Individual       Manual   First Owner   20.0 kmpl  1399 CC   \n",
       "\n",
       "    max_power  seats  \n",
       "0      74 bhp    5.0  \n",
       "1  103.52 bhp    5.0  \n",
       "2      78 bhp    5.0  \n",
       "3      90 bhp    5.0  \n",
       "4    88.2 bhp    5.0  \n",
       "5   81.86 bhp    5.0  \n",
       "6    57.5 bhp    5.0  \n",
       "7      37 bhp    4.0  \n",
       "8    67.1 bhp    5.0  \n",
       "9    68.1 bhp    5.0  "
      ]
     },
     "execution_count": 5,
     "metadata": {},
     "output_type": "execute_result"
    }
   ],
   "source": [
    "#Visualizing Top 10 Rows of the dataframe\n",
    "\n",
    "df.head(10)"
   ]
  },
  {
   "cell_type": "code",
   "execution_count": 6,
   "metadata": {},
   "outputs": [
    {
     "data": {
      "text/plain": [
       "(8128, 12)"
      ]
     },
     "execution_count": 6,
     "metadata": {},
     "output_type": "execute_result"
    }
   ],
   "source": [
    "#Printing the number of rows and columns included in the dataframe\n",
    "\n",
    "df.shape"
   ]
  },
  {
   "cell_type": "code",
   "execution_count": 7,
   "metadata": {},
   "outputs": [
    {
     "data": {
      "text/html": [
       "<div>\n",
       "<style scoped>\n",
       "    .dataframe tbody tr th:only-of-type {\n",
       "        vertical-align: middle;\n",
       "    }\n",
       "\n",
       "    .dataframe tbody tr th {\n",
       "        vertical-align: top;\n",
       "    }\n",
       "\n",
       "    .dataframe thead th {\n",
       "        text-align: right;\n",
       "    }\n",
       "</style>\n",
       "<table border=\"1\" class=\"dataframe\">\n",
       "  <thead>\n",
       "    <tr style=\"text-align: right;\">\n",
       "      <th></th>\n",
       "      <th>name</th>\n",
       "      <th>year</th>\n",
       "      <th>selling_price</th>\n",
       "      <th>km_driven</th>\n",
       "      <th>fuel</th>\n",
       "      <th>seller_type</th>\n",
       "      <th>transmission</th>\n",
       "      <th>owner</th>\n",
       "      <th>mileage</th>\n",
       "      <th>engine</th>\n",
       "      <th>max_power</th>\n",
       "      <th>seats</th>\n",
       "    </tr>\n",
       "  </thead>\n",
       "  <tbody>\n",
       "    <tr>\n",
       "      <th>8123</th>\n",
       "      <td>Hyundai i20 Magna</td>\n",
       "      <td>2013</td>\n",
       "      <td>320000</td>\n",
       "      <td>110000</td>\n",
       "      <td>Petrol</td>\n",
       "      <td>Individual</td>\n",
       "      <td>Manual</td>\n",
       "      <td>First Owner</td>\n",
       "      <td>18.5 kmpl</td>\n",
       "      <td>1197 CC</td>\n",
       "      <td>82.85 bhp</td>\n",
       "      <td>5.0</td>\n",
       "    </tr>\n",
       "    <tr>\n",
       "      <th>8124</th>\n",
       "      <td>Hyundai Verna CRDi SX</td>\n",
       "      <td>2007</td>\n",
       "      <td>135000</td>\n",
       "      <td>119000</td>\n",
       "      <td>Diesel</td>\n",
       "      <td>Individual</td>\n",
       "      <td>Manual</td>\n",
       "      <td>Fourth &amp; Above Owner</td>\n",
       "      <td>16.8 kmpl</td>\n",
       "      <td>1493 CC</td>\n",
       "      <td>110 bhp</td>\n",
       "      <td>5.0</td>\n",
       "    </tr>\n",
       "    <tr>\n",
       "      <th>8125</th>\n",
       "      <td>Maruti Swift Dzire ZDi</td>\n",
       "      <td>2009</td>\n",
       "      <td>382000</td>\n",
       "      <td>120000</td>\n",
       "      <td>Diesel</td>\n",
       "      <td>Individual</td>\n",
       "      <td>Manual</td>\n",
       "      <td>First Owner</td>\n",
       "      <td>19.3 kmpl</td>\n",
       "      <td>1248 CC</td>\n",
       "      <td>73.9 bhp</td>\n",
       "      <td>5.0</td>\n",
       "    </tr>\n",
       "    <tr>\n",
       "      <th>8126</th>\n",
       "      <td>Tata Indigo CR4</td>\n",
       "      <td>2013</td>\n",
       "      <td>290000</td>\n",
       "      <td>25000</td>\n",
       "      <td>Diesel</td>\n",
       "      <td>Individual</td>\n",
       "      <td>Manual</td>\n",
       "      <td>First Owner</td>\n",
       "      <td>23.57 kmpl</td>\n",
       "      <td>1396 CC</td>\n",
       "      <td>70 bhp</td>\n",
       "      <td>5.0</td>\n",
       "    </tr>\n",
       "    <tr>\n",
       "      <th>8127</th>\n",
       "      <td>Tata Indigo CR4</td>\n",
       "      <td>2013</td>\n",
       "      <td>290000</td>\n",
       "      <td>25000</td>\n",
       "      <td>Diesel</td>\n",
       "      <td>Individual</td>\n",
       "      <td>Manual</td>\n",
       "      <td>First Owner</td>\n",
       "      <td>23.57 kmpl</td>\n",
       "      <td>1396 CC</td>\n",
       "      <td>70 bhp</td>\n",
       "      <td>5.0</td>\n",
       "    </tr>\n",
       "  </tbody>\n",
       "</table>\n",
       "</div>"
      ],
      "text/plain": [
       "                        name  year  selling_price  km_driven    fuel  \\\n",
       "8123       Hyundai i20 Magna  2013         320000     110000  Petrol   \n",
       "8124   Hyundai Verna CRDi SX  2007         135000     119000  Diesel   \n",
       "8125  Maruti Swift Dzire ZDi  2009         382000     120000  Diesel   \n",
       "8126         Tata Indigo CR4  2013         290000      25000  Diesel   \n",
       "8127         Tata Indigo CR4  2013         290000      25000  Diesel   \n",
       "\n",
       "     seller_type transmission                 owner     mileage   engine  \\\n",
       "8123  Individual       Manual           First Owner   18.5 kmpl  1197 CC   \n",
       "8124  Individual       Manual  Fourth & Above Owner   16.8 kmpl  1493 CC   \n",
       "8125  Individual       Manual           First Owner   19.3 kmpl  1248 CC   \n",
       "8126  Individual       Manual           First Owner  23.57 kmpl  1396 CC   \n",
       "8127  Individual       Manual           First Owner  23.57 kmpl  1396 CC   \n",
       "\n",
       "      max_power  seats  \n",
       "8123  82.85 bhp    5.0  \n",
       "8124    110 bhp    5.0  \n",
       "8125   73.9 bhp    5.0  \n",
       "8126     70 bhp    5.0  \n",
       "8127     70 bhp    5.0  "
      ]
     },
     "execution_count": 7,
     "metadata": {},
     "output_type": "execute_result"
    }
   ],
   "source": [
    "#Exploring the data\n",
    "\n",
    "df.tail(5)"
   ]
  },
  {
   "cell_type": "code",
   "execution_count": 8,
   "metadata": {},
   "outputs": [
    {
     "name": "stdout",
     "output_type": "stream",
     "text": [
      "<class 'pandas.core.frame.DataFrame'>\n",
      "RangeIndex: 8128 entries, 0 to 8127\n",
      "Data columns (total 12 columns):\n",
      " #   Column         Non-Null Count  Dtype  \n",
      "---  ------         --------------  -----  \n",
      " 0   name           8128 non-null   object \n",
      " 1   year           8128 non-null   int64  \n",
      " 2   selling_price  8128 non-null   int64  \n",
      " 3   km_driven      8128 non-null   int64  \n",
      " 4   fuel           8128 non-null   object \n",
      " 5   seller_type    8128 non-null   object \n",
      " 6   transmission   8128 non-null   object \n",
      " 7   owner          8128 non-null   object \n",
      " 8   mileage        7907 non-null   object \n",
      " 9   engine         7907 non-null   object \n",
      " 10  max_power      7913 non-null   object \n",
      " 11  seats          7907 non-null   float64\n",
      "dtypes: float64(1), int64(3), object(8)\n",
      "memory usage: 762.1+ KB\n"
     ]
    }
   ],
   "source": [
    "#Gathering info about dtypes of columns: objects, ints and floats\n",
    "\n",
    "df.info()"
   ]
  },
  {
   "cell_type": "code",
   "execution_count": 9,
   "metadata": {},
   "outputs": [
    {
     "name": "stdout",
     "output_type": "stream",
     "text": [
      "Index(['name', 'year', 'selling_price', 'km_driven', 'fuel', 'seller_type',\n",
      "       'transmission', 'owner', 'mileage', 'engine', 'max_power', 'seats'],\n",
      "      dtype='object')\n"
     ]
    }
   ],
   "source": [
    "#Finding about Included Columns in the Dataset\n",
    "\n",
    "columns = df.columns\n",
    "print(columns)"
   ]
  },
  {
   "cell_type": "code",
   "execution_count": 10,
   "metadata": {},
   "outputs": [
    {
     "data": {
      "text/plain": [
       "2013.8040108267717"
      ]
     },
     "execution_count": 10,
     "metadata": {},
     "output_type": "execute_result"
    }
   ],
   "source": [
    "# Statistical Preliminary Exploration on the dataset\n",
    "#Average Production Year (Later will be converted to age)\n",
    "\n",
    "df.year.mean()"
   ]
  },
  {
   "cell_type": "code",
   "execution_count": 11,
   "metadata": {},
   "outputs": [
    {
     "data": {
      "text/plain": [
       "638271.8077017716"
      ]
     },
     "execution_count": 11,
     "metadata": {},
     "output_type": "execute_result"
    }
   ],
   "source": [
    "# Statistical Preliminary Exploration on the dataset\n",
    "\n",
    "df.selling_price.mean()"
   ]
  },
  {
   "cell_type": "code",
   "execution_count": 12,
   "metadata": {},
   "outputs": [
    {
     "name": "stdout",
     "output_type": "stream",
     "text": [
      "29999\n",
      "10000000\n"
     ]
    }
   ],
   "source": [
    "#Since mean for the price is high for all kind of currencies, check min & max value\n",
    "\n",
    "print(df.selling_price.min())\n",
    "print(df.selling_price.max())"
   ]
  },
  {
   "cell_type": "code",
   "execution_count": 13,
   "metadata": {},
   "outputs": [
    {
     "name": "stdout",
     "output_type": "stream",
     "text": [
      "69819.51082677166\n",
      "56550.554958218585\n"
     ]
    }
   ],
   "source": [
    "#Check km_driven statistical outcomes\n",
    "\n",
    "print(df.km_driven.mean())\n",
    "print(df.km_driven.std())"
   ]
  },
  {
   "cell_type": "code",
   "execution_count": 14,
   "metadata": {},
   "outputs": [
    {
     "data": {
      "text/plain": [
       "name               0\n",
       "year               0\n",
       "selling_price      0\n",
       "km_driven          0\n",
       "fuel               0\n",
       "seller_type        0\n",
       "transmission       0\n",
       "owner              0\n",
       "mileage          221\n",
       "engine           221\n",
       "max_power        215\n",
       "seats            221\n",
       "dtype: int64"
      ]
     },
     "execution_count": 14,
     "metadata": {},
     "output_type": "execute_result"
    }
   ],
   "source": [
    "#Check Null Values\n",
    "\n",
    "df.isnull().sum()"
   ]
  },
  {
   "cell_type": "code",
   "execution_count": 15,
   "metadata": {},
   "outputs": [],
   "source": [
    "#Drop Null Values\n",
    "\n",
    "df.dropna(inplace=True)"
   ]
  },
  {
   "cell_type": "code",
   "execution_count": 16,
   "metadata": {},
   "outputs": [
    {
     "data": {
      "text/plain": [
       "name             0\n",
       "year             0\n",
       "selling_price    0\n",
       "km_driven        0\n",
       "fuel             0\n",
       "seller_type      0\n",
       "transmission     0\n",
       "owner            0\n",
       "mileage          0\n",
       "engine           0\n",
       "max_power        0\n",
       "seats            0\n",
       "dtype: int64"
      ]
     },
     "execution_count": 16,
     "metadata": {},
     "output_type": "execute_result"
    }
   ],
   "source": [
    "#Check if dropped\n",
    "\n",
    "df.isnull().sum()"
   ]
  },
  {
   "cell_type": "code",
   "execution_count": 17,
   "metadata": {},
   "outputs": [
    {
     "data": {
      "text/plain": [
       "Index(['year', 'selling_price', 'km_driven', 'seats'], dtype='object')"
      ]
     },
     "execution_count": 17,
     "metadata": {},
     "output_type": "execute_result"
    }
   ],
   "source": [
    "#Identify Numeric Only Columns\n",
    "\n",
    "numeric_columns = df._get_numeric_data().columns\n",
    "numeric_columns"
   ]
  },
  {
   "cell_type": "code",
   "execution_count": 18,
   "metadata": {},
   "outputs": [
    {
     "data": {
      "text/plain": [
       "Index(['name', 'fuel', 'seller_type', 'transmission', 'owner', 'mileage',\n",
       "       'engine', 'max_power'],\n",
       "      dtype='object')"
      ]
     },
     "execution_count": 18,
     "metadata": {},
     "output_type": "execute_result"
    }
   ],
   "source": [
    "#Identifying columns including string unit inside\n",
    "\n",
    "df.select_dtypes(include=[\"object\"]).columns"
   ]
  },
  {
   "cell_type": "code",
   "execution_count": 19,
   "metadata": {},
   "outputs": [
    {
     "data": {
      "text/plain": [
       "Index(['seats'], dtype='object')"
      ]
     },
     "execution_count": 19,
     "metadata": {},
     "output_type": "execute_result"
    }
   ],
   "source": [
    "#Although Object function included 8 columns, some of those are made of alphanumeric values with units. \n",
    "\n",
    "df.select_dtypes(include=[ \"float\"]).columns"
   ]
  },
  {
   "cell_type": "code",
   "execution_count": 20,
   "metadata": {},
   "outputs": [],
   "source": [
    "#In this step, transform unit including columns to non-unit ones\n",
    "\n",
    "\n",
    "df['mileage'] = df['mileage'].str.rstrip(' kmpl')\n",
    "df['engine'] = df['engine'].str.rstrip(' CC')\n",
    "df['max_power'] = df['max_power'].str.rstrip(' bhp')"
   ]
  },
  {
   "cell_type": "code",
   "execution_count": 21,
   "metadata": {},
   "outputs": [],
   "source": [
    "#Additional rstrip operation required on mileage column\n",
    "\n",
    "df['mileage'] = df['mileage'].str.rstrip(' km/kg')\n"
   ]
  },
  {
   "cell_type": "code",
   "execution_count": 22,
   "metadata": {},
   "outputs": [
    {
     "name": "stdout",
     "output_type": "stream",
     "text": [
      "0     23.4\n",
      "1    21.14\n",
      "2     17.7\n",
      "3     23.0\n",
      "4     16.1\n",
      "Name: mileage, dtype: object\n",
      "0    1248\n",
      "1    1498\n",
      "2    1497\n",
      "3    1396\n",
      "4    1298\n",
      "Name: engine, dtype: object\n",
      "0        74\n",
      "1    103.52\n",
      "2        78\n",
      "3        90\n",
      "4      88.2\n",
      "Name: max_power, dtype: object\n"
     ]
    }
   ],
   "source": [
    "#Check Unstripped string values for the status: Still Object Type\n",
    "\n",
    "print(df.mileage.head(5))\n",
    "print(df.engine.head(5))\n",
    "print(df.max_power.head(5))"
   ]
  },
  {
   "cell_type": "code",
   "execution_count": 23,
   "metadata": {},
   "outputs": [
    {
     "name": "stdout",
     "output_type": "stream",
     "text": [
      "0       23.4\n",
      "1      21.14\n",
      "2       17.7\n",
      "3       23.0\n",
      "4       16.1\n",
      "       ...  \n",
      "99     22.54\n",
      "100    21.79\n",
      "101     18.8\n",
      "102    21.21\n",
      "103    15.37\n",
      "Name: mileage, Length: 100, dtype: object\n"
     ]
    }
   ],
   "source": [
    "print(df.mileage.head(100))"
   ]
  },
  {
   "cell_type": "code",
   "execution_count": 24,
   "metadata": {},
   "outputs": [
    {
     "data": {
      "text/plain": [
       "array([[<matplotlib.axes._subplots.AxesSubplot object at 0x1a19635c10>,\n",
       "        <matplotlib.axes._subplots.AxesSubplot object at 0x1a1a36de50>],\n",
       "       [<matplotlib.axes._subplots.AxesSubplot object at 0x1a1aad8650>,\n",
       "        <matplotlib.axes._subplots.AxesSubplot object at 0x1a1ab0ae10>]],\n",
       "      dtype=object)"
      ]
     },
     "execution_count": 24,
     "metadata": {},
     "output_type": "execute_result"
    },
    {
     "data": {
      "image/png": "[encoded data removed]",
      "text/plain": [
       "<Figure size 432x288 with 4 Axes>"
      ]
     },
     "metadata": {
      "needs_background": "light"
     },
     "output_type": "display_data"
    }
   ],
   "source": [
    "#Visualize the entire data map to give a check\n",
    "\n",
    "df.hist(bins=10)"
   ]
  },
  {
   "cell_type": "code",
   "execution_count": 25,
   "metadata": {},
   "outputs": [],
   "source": [
    "#Transform object values to integer or float values to represent correctly & test continuity\n",
    "\n",
    "df['mileage'] = pd.to_numeric(df['mileage'])\n",
    "df['max_power'] = pd.to_numeric(df['max_power'])\n",
    "df['engine'] = pd.to_numeric(df['engine'])\n"
   ]
  },
  {
   "cell_type": "code",
   "execution_count": 26,
   "metadata": {},
   "outputs": [
    {
     "data": {
      "text/plain": [
       "Text(0.5, 0, 'mileage')"
      ]
     },
     "execution_count": 26,
     "metadata": {},
     "output_type": "execute_result"
    },
    {
     "data": {
      "image/png": "[encoded data removed]",
      "text/plain": [
       "<Figure size 432x288 with 1 Axes>"
      ]
     },
     "metadata": {
      "needs_background": "light"
     },
     "output_type": "display_data"
    }
   ],
   "source": [
    "#Plot mileage column in order to explore about continuity: decide if should be categorical or not\n",
    "\n",
    "df['mileage'].plot(kind='density', color='Green')\n",
    "plt.xlabel('mileage')\n"
   ]
  },
  {
   "cell_type": "code",
   "execution_count": 27,
   "metadata": {},
   "outputs": [
    {
     "data": {
      "text/plain": [
       "Text(0.5, 0, 'mileage')"
      ]
     },
     "execution_count": 27,
     "metadata": {},
     "output_type": "execute_result"
    },
    {
     "data": {
      "image/png": "[encoded data removed]",
      "text/plain": [
       "<Figure size 432x288 with 1 Axes>"
      ]
     },
     "metadata": {
      "needs_background": "light"
     },
     "output_type": "display_data"
    }
   ],
   "source": [
    "#Plot mileage column histogram in order to explore about continuity: decide if should be categorical or not\n",
    "\n",
    "df.mileage.hist()\n",
    "plt.xlabel('mileage')\n"
   ]
  },
  {
   "cell_type": "code",
   "execution_count": 28,
   "metadata": {},
   "outputs": [
    {
     "data": {
      "text/plain": [
       "Text(0.5, 0, 'max_power')"
      ]
     },
     "execution_count": 28,
     "metadata": {},
     "output_type": "execute_result"
    },
    {
     "data": {
      "image/png": "[encoded data removed]",
      "text/plain": [
       "<Figure size 432x288 with 1 Axes>"
      ]
     },
     "metadata": {
      "needs_background": "light"
     },
     "output_type": "display_data"
    }
   ],
   "source": [
    "#Plot max_power column in order to explore about continuity: decide if should be categorical or not\n",
    "\n",
    "df['max_power'].plot(kind='density', color='Blue')\n",
    "plt.xlabel('max_power')\n",
    "\n"
   ]
  },
  {
   "cell_type": "code",
   "execution_count": 29,
   "metadata": {},
   "outputs": [
    {
     "data": {
      "text/plain": [
       "Text(0.5, 0, 'max_power')"
      ]
     },
     "execution_count": 29,
     "metadata": {},
     "output_type": "execute_result"
    },
    {
     "data": {
      "image/png": "[encoded data removed]",
      "text/plain": [
       "<Figure size 432x288 with 1 Axes>"
      ]
     },
     "metadata": {
      "needs_background": "light"
     },
     "output_type": "display_data"
    }
   ],
   "source": [
    "#Plot max_power column histogram in order to explore about continuity: decide if should be categorical or not\n",
    "\n",
    "df.max_power.hist()\n",
    "plt.xlabel('max_power')\n"
   ]
  },
  {
   "cell_type": "code",
   "execution_count": 30,
   "metadata": {},
   "outputs": [
    {
     "data": {
      "text/plain": [
       "Text(0.5, 0, 'engine')"
      ]
     },
     "execution_count": 30,
     "metadata": {},
     "output_type": "execute_result"
    },
    {
     "data": {
      "image/png": "[encoded data removed]",
      "text/plain": [
       "<Figure size 432x288 with 1 Axes>"
      ]
     },
     "metadata": {
      "needs_background": "light"
     },
     "output_type": "display_data"
    }
   ],
   "source": [
    "#Plot engine column in order to explore about continuity: decide if should be categorical or not\n",
    "\n",
    "df['engine'].plot(kind='density', color='Red')\n",
    "plt.xlabel('engine')\n",
    "\n"
   ]
  },
  {
   "cell_type": "code",
   "execution_count": 31,
   "metadata": {},
   "outputs": [
    {
     "data": {
      "text/plain": [
       "Text(0.5, 0, 'engine')"
      ]
     },
     "execution_count": 31,
     "metadata": {},
     "output_type": "execute_result"
    },
    {
     "data": {
      "image/png": "[encoded data removed]",
      "text/plain": [
       "<Figure size 432x288 with 1 Axes>"
      ]
     },
     "metadata": {
      "needs_background": "light"
     },
     "output_type": "display_data"
    }
   ],
   "source": [
    "#Plot engine column histogram in order to explore about continuity: decide if should be categorical or not\n",
    "\n",
    "df.engine.hist()\n",
    "plt.xlabel('engine')\n"
   ]
  },
  {
   "cell_type": "code",
   "execution_count": 32,
   "metadata": {},
   "outputs": [
    {
     "name": "stdout",
     "output_type": "stream",
     "text": [
      "<class 'pandas.core.frame.DataFrame'>\n",
      "Int64Index: 7907 entries, 0 to 8127\n",
      "Data columns (total 12 columns):\n",
      " #   Column         Non-Null Count  Dtype  \n",
      "---  ------         --------------  -----  \n",
      " 0   name           7907 non-null   object \n",
      " 1   year           7907 non-null   int64  \n",
      " 2   selling_price  7907 non-null   int64  \n",
      " 3   km_driven      7907 non-null   int64  \n",
      " 4   fuel           7907 non-null   object \n",
      " 5   seller_type    7907 non-null   object \n",
      " 6   transmission   7907 non-null   object \n",
      " 7   owner          7907 non-null   object \n",
      " 8   mileage        7907 non-null   float64\n",
      " 9   engine         7907 non-null   int64  \n",
      " 10  max_power      7906 non-null   float64\n",
      " 11  seats          7907 non-null   float64\n",
      "dtypes: float64(3), int64(4), object(5)\n",
      "memory usage: 803.1+ KB\n"
     ]
    }
   ],
   "source": [
    "#Numeric Data Type Double Check\n",
    "\n",
    "df.info()\n",
    "\n",
    "#It's undersood that engine is int, mileage is float and max_power is also float due to suitability."
   ]
  },
  {
   "cell_type": "code",
   "execution_count": 33,
   "metadata": {
    "scrolled": true
   },
   "outputs": [
    {
     "data": {
      "text/plain": [
       "Text(0, 0.5, 'selling price')"
      ]
     },
     "execution_count": 33,
     "metadata": {},
     "output_type": "execute_result"
    },
    {
     "data": {
      "image/png": "[encoded data removed]",
      "text/plain": [
       "<Figure size 432x288 with 1 Axes>"
      ]
     },
     "metadata": {
      "needs_background": "light"
     },
     "output_type": "display_data"
    }
   ],
   "source": [
    "#Visualize Relationship between Selling Price and km_driven\n",
    "\n",
    "plt.scatter(df['km_driven'], df['selling_price'])\n",
    "plt.xlabel('km_driven')\n",
    "plt.ylabel('selling price')\n",
    "\n",
    "#df['selling_price'], df['km_driven'].hist(bins=10)\n",
    "\n",
    "#Outcome: In this shape, plots are meaningless. Firstly, all data will be converted to 0-1 scale version."
   ]
  },
  {
   "cell_type": "code",
   "execution_count": 34,
   "metadata": {},
   "outputs": [],
   "source": [
    "#Transform year data to age data\n",
    "\n",
    "df.year = 2020 - df.year\n"
   ]
  },
  {
   "cell_type": "code",
   "execution_count": 35,
   "metadata": {
    "scrolled": true
   },
   "outputs": [
    {
     "name": "stdout",
     "output_type": "stream",
     "text": [
      "0        6\n",
      "1        6\n",
      "2       14\n",
      "3       10\n",
      "4       13\n",
      "        ..\n",
      "8123     7\n",
      "8124    13\n",
      "8125    11\n",
      "8126     7\n",
      "8127     7\n",
      "Name: year, Length: 7907, dtype: int64\n",
      "6.017832300493234\n"
     ]
    }
   ],
   "source": [
    "#Test Year Data\n",
    "\n",
    "print(df.year)\n",
    "print(df.year.mean())\n",
    "\n",
    "#6 Years Mean Age per car"
   ]
  },
  {
   "cell_type": "code",
   "execution_count": 36,
   "metadata": {},
   "outputs": [
    {
     "data": {
      "text/plain": [
       "Text(0, 0.5, 'selling price')"
      ]
     },
     "execution_count": 36,
     "metadata": {},
     "output_type": "execute_result"
    },
    {
     "data": {
      "image/png": "[encoded data removed]",
      "text/plain": [
       "<Figure size 432x288 with 1 Axes>"
      ]
     },
     "metadata": {
      "needs_background": "light"
     },
     "output_type": "display_data"
    }
   ],
   "source": [
    "#Visualize Relationship between Selling Price and a dependent variable\n",
    "\n",
    "plt.scatter(df['year'], df['selling_price'])\n",
    "plt.xlabel('year')\n",
    "plt.ylabel('selling price')\n",
    "\n",
    "#df['selling_price','year'].hist(bins=10)\n",
    "\n",
    "#Outcome: In this shape, plots are meaningless. Firstly, all data will be converted to 0-1 scale version."
   ]
  },
  {
   "cell_type": "code",
   "execution_count": 37,
   "metadata": {},
   "outputs": [
    {
     "data": {
      "text/plain": [
       "Text(0, 0.5, 'selling price')"
      ]
     },
     "execution_count": 37,
     "metadata": {},
     "output_type": "execute_result"
    },
    {
     "data": {
      "image/png": "[encoded data removed]",
      "text/plain": [
       "<Figure size 432x288 with 1 Axes>"
      ]
     },
     "metadata": {
      "needs_background": "light"
     },
     "output_type": "display_data"
    }
   ],
   "source": [
    "#Visualize Relationship between Selling Price and a dependent variable\n",
    "\n",
    "plt.scatter(df['fuel'], df['selling_price'])\n",
    "plt.xlabel('fuel')\n",
    "plt.ylabel('selling price')\n",
    "\n",
    "#Outcome: In this shape, plots are meaningless. Firstly, all data will be converted to 0-1 scale version."
   ]
  },
  {
   "cell_type": "code",
   "execution_count": 38,
   "metadata": {},
   "outputs": [
    {
     "data": {
      "text/plain": [
       "Text(0, 0.5, 'selling price')"
      ]
     },
     "execution_count": 38,
     "metadata": {},
     "output_type": "execute_result"
    },
    {
     "data": {
      "image/png": "[encoded data removed]",
      "text/plain": [
       "<Figure size 432x288 with 1 Axes>"
      ]
     },
     "metadata": {
      "needs_background": "light"
     },
     "output_type": "display_data"
    }
   ],
   "source": [
    "#Visualize Relationship between Selling Price and a dependent variable\n",
    "\n",
    "plt.scatter(df['seller_type'], df['selling_price'])\n",
    "plt.xlabel('seller_type')\n",
    "plt.ylabel('selling price')"
   ]
  },
  {
   "cell_type": "code",
   "execution_count": 39,
   "metadata": {},
   "outputs": [
    {
     "data": {
      "text/plain": [
       "Text(0, 0.5, 'selling price')"
      ]
     },
     "execution_count": 39,
     "metadata": {},
     "output_type": "execute_result"
    },
    {
     "data": {
      "image/png": "[encoded data removed]",
      "text/plain": [
       "<Figure size 432x288 with 1 Axes>"
      ]
     },
     "metadata": {
      "needs_background": "light"
     },
     "output_type": "display_data"
    }
   ],
   "source": [
    "#Visualize Relationship between Selling Price and a dependent variable\n",
    "\n",
    "plt.scatter(df['transmission'], df['selling_price'])\n",
    "plt.xlabel('transmission')\n",
    "plt.ylabel('selling price')"
   ]
  },
  {
   "cell_type": "code",
   "execution_count": null,
   "metadata": {},
   "outputs": [],
   "source": []
  },
  {
   "cell_type": "code",
   "execution_count": 40,
   "metadata": {},
   "outputs": [
    {
     "data": {
      "text/plain": [
       "Text(0, 0.5, 'selling price')"
      ]
     },
     "execution_count": 40,
     "metadata": {},
     "output_type": "execute_result"
    },
    {
     "data": {
      "image/png": "[encoded data removed]",
      "text/plain": [
       "<Figure size 432x288 with 1 Axes>"
      ]
     },
     "metadata": {
      "needs_background": "light"
     },
     "output_type": "display_data"
    }
   ],
   "source": [
    "#Visualize Relationship between Selling Price and a dependent variable\n",
    "\n",
    "plt.scatter(df['mileage'], df['selling_price'])\n",
    "plt.xlabel('mileage')\n",
    "plt.ylabel('selling price')"
   ]
  },
  {
   "cell_type": "code",
   "execution_count": 41,
   "metadata": {},
   "outputs": [
    {
     "data": {
      "text/plain": [
       "Text(0, 0.5, 'selling price')"
      ]
     },
     "execution_count": 41,
     "metadata": {},
     "output_type": "execute_result"
    },
    {
     "data": {
      "image/png": "[encoded data removed]",
      "text/plain": [
       "<Figure size 432x288 with 1 Axes>"
      ]
     },
     "metadata": {
      "needs_background": "light"
     },
     "output_type": "display_data"
    }
   ],
   "source": [
    "#Visualize Relationship between Selling Price and a dependent variable\n",
    "\n",
    "plt.scatter(df['engine'], df['selling_price'])\n",
    "plt.xlabel('engine')\n",
    "plt.ylabel('selling price')"
   ]
  },
  {
   "cell_type": "code",
   "execution_count": 42,
   "metadata": {},
   "outputs": [
    {
     "data": {
      "text/plain": [
       "Text(0, 0.5, 'selling price')"
      ]
     },
     "execution_count": 42,
     "metadata": {},
     "output_type": "execute_result"
    },
    {
     "data": {
      "image/png": "[encoded data removed]",
      "text/plain": [
       "<Figure size 432x288 with 1 Axes>"
      ]
     },
     "metadata": {
      "needs_background": "light"
     },
     "output_type": "display_data"
    }
   ],
   "source": [
    "#Visualize Relationship between Selling Price and a dependent variable\n",
    "\n",
    "plt.scatter(df['max_power'], df['selling_price'])\n",
    "plt.xlabel('max_power')\n",
    "plt.ylabel('selling price')"
   ]
  },
  {
   "cell_type": "code",
   "execution_count": 43,
   "metadata": {},
   "outputs": [
    {
     "data": {
      "text/plain": [
       "Text(0, 0.5, 'selling price')"
      ]
     },
     "execution_count": 43,
     "metadata": {},
     "output_type": "execute_result"
    },
    {
     "data": {
      "image/png": "[encoded data removed]",
      "text/plain": [
       "<Figure size 432x288 with 1 Axes>"
      ]
     },
     "metadata": {
      "needs_background": "light"
     },
     "output_type": "display_data"
    }
   ],
   "source": [
    "#Visualize Relationship between Selling Price and a dependent variable\n",
    "\n",
    "plt.scatter(df['seats'], df['selling_price'])\n",
    "plt.xlabel('seats')\n",
    "plt.ylabel('selling price')"
   ]
  },
  {
   "cell_type": "code",
   "execution_count": 44,
   "metadata": {},
   "outputs": [
    {
     "data": {
      "text/html": [
       "<div>\n",
       "<style scoped>\n",
       "    .dataframe tbody tr th:only-of-type {\n",
       "        vertical-align: middle;\n",
       "    }\n",
       "\n",
       "    .dataframe tbody tr th {\n",
       "        vertical-align: top;\n",
       "    }\n",
       "\n",
       "    .dataframe thead th {\n",
       "        text-align: right;\n",
       "    }\n",
       "</style>\n",
       "<table border=\"1\" class=\"dataframe\">\n",
       "  <thead>\n",
       "    <tr style=\"text-align: right;\">\n",
       "      <th></th>\n",
       "      <th>year</th>\n",
       "      <th>selling_price</th>\n",
       "      <th>km_driven</th>\n",
       "      <th>mileage</th>\n",
       "      <th>engine</th>\n",
       "      <th>max_power</th>\n",
       "      <th>seats</th>\n",
       "    </tr>\n",
       "  </thead>\n",
       "  <tbody>\n",
       "    <tr>\n",
       "      <th>year</th>\n",
       "      <td>1.000000</td>\n",
       "      <td>-0.412268</td>\n",
       "      <td>0.428434</td>\n",
       "      <td>-0.329145</td>\n",
       "      <td>-0.018848</td>\n",
       "      <td>-0.226598</td>\n",
       "      <td>0.009144</td>\n",
       "    </tr>\n",
       "    <tr>\n",
       "      <th>selling_price</th>\n",
       "      <td>-0.412268</td>\n",
       "      <td>1.000000</td>\n",
       "      <td>-0.222196</td>\n",
       "      <td>-0.126054</td>\n",
       "      <td>0.455734</td>\n",
       "      <td>0.749674</td>\n",
       "      <td>0.041358</td>\n",
       "    </tr>\n",
       "    <tr>\n",
       "      <th>km_driven</th>\n",
       "      <td>0.428434</td>\n",
       "      <td>-0.222196</td>\n",
       "      <td>1.000000</td>\n",
       "      <td>-0.173073</td>\n",
       "      <td>0.205914</td>\n",
       "      <td>-0.038159</td>\n",
       "      <td>0.227336</td>\n",
       "    </tr>\n",
       "    <tr>\n",
       "      <th>mileage</th>\n",
       "      <td>-0.329145</td>\n",
       "      <td>-0.126054</td>\n",
       "      <td>-0.173073</td>\n",
       "      <td>1.000000</td>\n",
       "      <td>-0.575831</td>\n",
       "      <td>-0.374621</td>\n",
       "      <td>-0.452085</td>\n",
       "    </tr>\n",
       "    <tr>\n",
       "      <th>engine</th>\n",
       "      <td>-0.018848</td>\n",
       "      <td>0.455734</td>\n",
       "      <td>0.205914</td>\n",
       "      <td>-0.575831</td>\n",
       "      <td>1.000000</td>\n",
       "      <td>0.703975</td>\n",
       "      <td>0.610309</td>\n",
       "    </tr>\n",
       "    <tr>\n",
       "      <th>max_power</th>\n",
       "      <td>-0.226598</td>\n",
       "      <td>0.749674</td>\n",
       "      <td>-0.038159</td>\n",
       "      <td>-0.374621</td>\n",
       "      <td>0.703975</td>\n",
       "      <td>1.000000</td>\n",
       "      <td>0.191999</td>\n",
       "    </tr>\n",
       "    <tr>\n",
       "      <th>seats</th>\n",
       "      <td>0.009144</td>\n",
       "      <td>0.041358</td>\n",
       "      <td>0.227336</td>\n",
       "      <td>-0.452085</td>\n",
       "      <td>0.610309</td>\n",
       "      <td>0.191999</td>\n",
       "      <td>1.000000</td>\n",
       "    </tr>\n",
       "  </tbody>\n",
       "</table>\n",
       "</div>"
      ],
      "text/plain": [
       "                   year  selling_price  km_driven   mileage    engine  \\\n",
       "year           1.000000      -0.412268   0.428434 -0.329145 -0.018848   \n",
       "selling_price -0.412268       1.000000  -0.222196 -0.126054  0.455734   \n",
       "km_driven      0.428434      -0.222196   1.000000 -0.173073  0.205914   \n",
       "mileage       -0.329145      -0.126054  -0.173073  1.000000 -0.575831   \n",
       "engine        -0.018848       0.455734   0.205914 -0.575831  1.000000   \n",
       "max_power     -0.226598       0.749674  -0.038159 -0.374621  0.703975   \n",
       "seats          0.009144       0.041358   0.227336 -0.452085  0.610309   \n",
       "\n",
       "               max_power     seats  \n",
       "year           -0.226598  0.009144  \n",
       "selling_price   0.749674  0.041358  \n",
       "km_driven      -0.038159  0.227336  \n",
       "mileage        -0.374621 -0.452085  \n",
       "engine          0.703975  0.610309  \n",
       "max_power       1.000000  0.191999  \n",
       "seats           0.191999  1.000000  "
      ]
     },
     "execution_count": 44,
     "metadata": {},
     "output_type": "execute_result"
    }
   ],
   "source": [
    "#Check Correlation\n",
    "\n",
    "df_corr = df.corr(method= \"pearson\")\n",
    "df_corr"
   ]
  },
  {
   "cell_type": "code",
   "execution_count": 45,
   "metadata": {},
   "outputs": [
    {
     "data": {
      "text/plain": [
       "<matplotlib.axes._subplots.AxesSubplot at 0x1a1bd596d0>"
      ]
     },
     "execution_count": 45,
     "metadata": {},
     "output_type": "execute_result"
    },
    {
     "data": {
      "image/png": "[encoded data removed]",
      "text/plain": [
       "<Figure size 432x288 with 2 Axes>"
      ]
     },
     "metadata": {
      "needs_background": "light"
     },
     "output_type": "display_data"
    }
   ],
   "source": [
    "#Correlation Heatmap\n",
    "\n",
    "sns.heatmap(df_corr)\n",
    "\n",
    "#Selling price is the most correlated with engine and max_power based on the preliminary observation."
   ]
  },
  {
   "cell_type": "code",
   "execution_count": 46,
   "metadata": {},
   "outputs": [],
   "source": [
    "#Only Categorical Features to one-hot dummies\n",
    "#Categorical Data are: seats, fuel, transmission, owner, name, seller_type\n",
    "\n",
    "df = pd.get_dummies(df, columns=['seats'])\n",
    "df = pd.get_dummies(df, columns=['owner'])\n",
    "df = pd.get_dummies(df, columns=['fuel'])\n",
    "df = pd.get_dummies(df, columns=['transmission'])\n",
    "df = pd.get_dummies(df, columns=['seller_type'])\n",
    "\n"
   ]
  },
  {
   "cell_type": "code",
   "execution_count": 47,
   "metadata": {},
   "outputs": [
    {
     "data": {
      "text/html": [
       "<div>\n",
       "<style scoped>\n",
       "    .dataframe tbody tr th:only-of-type {\n",
       "        vertical-align: middle;\n",
       "    }\n",
       "\n",
       "    .dataframe tbody tr th {\n",
       "        vertical-align: top;\n",
       "    }\n",
       "\n",
       "    .dataframe thead th {\n",
       "        text-align: right;\n",
       "    }\n",
       "</style>\n",
       "<table border=\"1\" class=\"dataframe\">\n",
       "  <thead>\n",
       "    <tr style=\"text-align: right;\">\n",
       "      <th></th>\n",
       "      <th>name</th>\n",
       "      <th>year</th>\n",
       "      <th>selling_price</th>\n",
       "      <th>km_driven</th>\n",
       "      <th>mileage</th>\n",
       "      <th>engine</th>\n",
       "      <th>max_power</th>\n",
       "      <th>seats_2.0</th>\n",
       "      <th>seats_4.0</th>\n",
       "      <th>seats_5.0</th>\n",
       "      <th>...</th>\n",
       "      <th>owner_Third Owner</th>\n",
       "      <th>fuel_CNG</th>\n",
       "      <th>fuel_Diesel</th>\n",
       "      <th>fuel_LPG</th>\n",
       "      <th>fuel_Petrol</th>\n",
       "      <th>transmission_Automatic</th>\n",
       "      <th>transmission_Manual</th>\n",
       "      <th>seller_type_Dealer</th>\n",
       "      <th>seller_type_Individual</th>\n",
       "      <th>seller_type_Trustmark Dealer</th>\n",
       "    </tr>\n",
       "  </thead>\n",
       "  <tbody>\n",
       "    <tr>\n",
       "      <th>0</th>\n",
       "      <td>Maruti Swift Dzire VDI</td>\n",
       "      <td>6</td>\n",
       "      <td>450000</td>\n",
       "      <td>145500</td>\n",
       "      <td>23.40</td>\n",
       "      <td>1248</td>\n",
       "      <td>74.00</td>\n",
       "      <td>0</td>\n",
       "      <td>0</td>\n",
       "      <td>1</td>\n",
       "      <td>...</td>\n",
       "      <td>0</td>\n",
       "      <td>0</td>\n",
       "      <td>1</td>\n",
       "      <td>0</td>\n",
       "      <td>0</td>\n",
       "      <td>0</td>\n",
       "      <td>1</td>\n",
       "      <td>0</td>\n",
       "      <td>1</td>\n",
       "      <td>0</td>\n",
       "    </tr>\n",
       "    <tr>\n",
       "      <th>1</th>\n",
       "      <td>Skoda Rapid 1.5 TDI Ambition</td>\n",
       "      <td>6</td>\n",
       "      <td>370000</td>\n",
       "      <td>120000</td>\n",
       "      <td>21.14</td>\n",
       "      <td>1498</td>\n",
       "      <td>103.52</td>\n",
       "      <td>0</td>\n",
       "      <td>0</td>\n",
       "      <td>1</td>\n",
       "      <td>...</td>\n",
       "      <td>0</td>\n",
       "      <td>0</td>\n",
       "      <td>1</td>\n",
       "      <td>0</td>\n",
       "      <td>0</td>\n",
       "      <td>0</td>\n",
       "      <td>1</td>\n",
       "      <td>0</td>\n",
       "      <td>1</td>\n",
       "      <td>0</td>\n",
       "    </tr>\n",
       "    <tr>\n",
       "      <th>2</th>\n",
       "      <td>Honda City 2017-2020 EXi</td>\n",
       "      <td>14</td>\n",
       "      <td>158000</td>\n",
       "      <td>140000</td>\n",
       "      <td>17.70</td>\n",
       "      <td>1497</td>\n",
       "      <td>78.00</td>\n",
       "      <td>0</td>\n",
       "      <td>0</td>\n",
       "      <td>1</td>\n",
       "      <td>...</td>\n",
       "      <td>1</td>\n",
       "      <td>0</td>\n",
       "      <td>0</td>\n",
       "      <td>0</td>\n",
       "      <td>1</td>\n",
       "      <td>0</td>\n",
       "      <td>1</td>\n",
       "      <td>0</td>\n",
       "      <td>1</td>\n",
       "      <td>0</td>\n",
       "    </tr>\n",
       "    <tr>\n",
       "      <th>3</th>\n",
       "      <td>Hyundai i20 Sportz Diesel</td>\n",
       "      <td>10</td>\n",
       "      <td>225000</td>\n",
       "      <td>127000</td>\n",
       "      <td>23.00</td>\n",
       "      <td>1396</td>\n",
       "      <td>90.00</td>\n",
       "      <td>0</td>\n",
       "      <td>0</td>\n",
       "      <td>1</td>\n",
       "      <td>...</td>\n",
       "      <td>0</td>\n",
       "      <td>0</td>\n",
       "      <td>1</td>\n",
       "      <td>0</td>\n",
       "      <td>0</td>\n",
       "      <td>0</td>\n",
       "      <td>1</td>\n",
       "      <td>0</td>\n",
       "      <td>1</td>\n",
       "      <td>0</td>\n",
       "    </tr>\n",
       "    <tr>\n",
       "      <th>4</th>\n",
       "      <td>Maruti Swift VXI BSIII</td>\n",
       "      <td>13</td>\n",
       "      <td>130000</td>\n",
       "      <td>120000</td>\n",
       "      <td>16.10</td>\n",
       "      <td>1298</td>\n",
       "      <td>88.20</td>\n",
       "      <td>0</td>\n",
       "      <td>0</td>\n",
       "      <td>1</td>\n",
       "      <td>...</td>\n",
       "      <td>0</td>\n",
       "      <td>0</td>\n",
       "      <td>0</td>\n",
       "      <td>0</td>\n",
       "      <td>1</td>\n",
       "      <td>0</td>\n",
       "      <td>1</td>\n",
       "      <td>0</td>\n",
       "      <td>1</td>\n",
       "      <td>0</td>\n",
       "    </tr>\n",
       "    <tr>\n",
       "      <th>...</th>\n",
       "      <td>...</td>\n",
       "      <td>...</td>\n",
       "      <td>...</td>\n",
       "      <td>...</td>\n",
       "      <td>...</td>\n",
       "      <td>...</td>\n",
       "      <td>...</td>\n",
       "      <td>...</td>\n",
       "      <td>...</td>\n",
       "      <td>...</td>\n",
       "      <td>...</td>\n",
       "      <td>...</td>\n",
       "      <td>...</td>\n",
       "      <td>...</td>\n",
       "      <td>...</td>\n",
       "      <td>...</td>\n",
       "      <td>...</td>\n",
       "      <td>...</td>\n",
       "      <td>...</td>\n",
       "      <td>...</td>\n",
       "      <td>...</td>\n",
       "    </tr>\n",
       "    <tr>\n",
       "      <th>8123</th>\n",
       "      <td>Hyundai i20 Magna</td>\n",
       "      <td>7</td>\n",
       "      <td>320000</td>\n",
       "      <td>110000</td>\n",
       "      <td>18.50</td>\n",
       "      <td>1197</td>\n",
       "      <td>82.85</td>\n",
       "      <td>0</td>\n",
       "      <td>0</td>\n",
       "      <td>1</td>\n",
       "      <td>...</td>\n",
       "      <td>0</td>\n",
       "      <td>0</td>\n",
       "      <td>0</td>\n",
       "      <td>0</td>\n",
       "      <td>1</td>\n",
       "      <td>0</td>\n",
       "      <td>1</td>\n",
       "      <td>0</td>\n",
       "      <td>1</td>\n",
       "      <td>0</td>\n",
       "    </tr>\n",
       "    <tr>\n",
       "      <th>8124</th>\n",
       "      <td>Hyundai Verna CRDi SX</td>\n",
       "      <td>13</td>\n",
       "      <td>135000</td>\n",
       "      <td>119000</td>\n",
       "      <td>16.80</td>\n",
       "      <td>1493</td>\n",
       "      <td>110.00</td>\n",
       "      <td>0</td>\n",
       "      <td>0</td>\n",
       "      <td>1</td>\n",
       "      <td>...</td>\n",
       "      <td>0</td>\n",
       "      <td>0</td>\n",
       "      <td>1</td>\n",
       "      <td>0</td>\n",
       "      <td>0</td>\n",
       "      <td>0</td>\n",
       "      <td>1</td>\n",
       "      <td>0</td>\n",
       "      <td>1</td>\n",
       "      <td>0</td>\n",
       "    </tr>\n",
       "    <tr>\n",
       "      <th>8125</th>\n",
       "      <td>Maruti Swift Dzire ZDi</td>\n",
       "      <td>11</td>\n",
       "      <td>382000</td>\n",
       "      <td>120000</td>\n",
       "      <td>19.30</td>\n",
       "      <td>1248</td>\n",
       "      <td>73.90</td>\n",
       "      <td>0</td>\n",
       "      <td>0</td>\n",
       "      <td>1</td>\n",
       "      <td>...</td>\n",
       "      <td>0</td>\n",
       "      <td>0</td>\n",
       "      <td>1</td>\n",
       "      <td>0</td>\n",
       "      <td>0</td>\n",
       "      <td>0</td>\n",
       "      <td>1</td>\n",
       "      <td>0</td>\n",
       "      <td>1</td>\n",
       "      <td>0</td>\n",
       "    </tr>\n",
       "    <tr>\n",
       "      <th>8126</th>\n",
       "      <td>Tata Indigo CR4</td>\n",
       "      <td>7</td>\n",
       "      <td>290000</td>\n",
       "      <td>25000</td>\n",
       "      <td>23.57</td>\n",
       "      <td>1396</td>\n",
       "      <td>70.00</td>\n",
       "      <td>0</td>\n",
       "      <td>0</td>\n",
       "      <td>1</td>\n",
       "      <td>...</td>\n",
       "      <td>0</td>\n",
       "      <td>0</td>\n",
       "      <td>1</td>\n",
       "      <td>0</td>\n",
       "      <td>0</td>\n",
       "      <td>0</td>\n",
       "      <td>1</td>\n",
       "      <td>0</td>\n",
       "      <td>1</td>\n",
       "      <td>0</td>\n",
       "    </tr>\n",
       "    <tr>\n",
       "      <th>8127</th>\n",
       "      <td>Tata Indigo CR4</td>\n",
       "      <td>7</td>\n",
       "      <td>290000</td>\n",
       "      <td>25000</td>\n",
       "      <td>23.57</td>\n",
       "      <td>1396</td>\n",
       "      <td>70.00</td>\n",
       "      <td>0</td>\n",
       "      <td>0</td>\n",
       "      <td>1</td>\n",
       "      <td>...</td>\n",
       "      <td>0</td>\n",
       "      <td>0</td>\n",
       "      <td>1</td>\n",
       "      <td>0</td>\n",
       "      <td>0</td>\n",
       "      <td>0</td>\n",
       "      <td>1</td>\n",
       "      <td>0</td>\n",
       "      <td>1</td>\n",
       "      <td>0</td>\n",
       "    </tr>\n",
       "  </tbody>\n",
       "</table>\n",
       "<p>7907 rows × 30 columns</p>\n",
       "</div>"
      ],
      "text/plain": [
       "                              name  year  selling_price  km_driven  mileage  \\\n",
       "0           Maruti Swift Dzire VDI     6         450000     145500    23.40   \n",
       "1     Skoda Rapid 1.5 TDI Ambition     6         370000     120000    21.14   \n",
       "2         Honda City 2017-2020 EXi    14         158000     140000    17.70   \n",
       "3        Hyundai i20 Sportz Diesel    10         225000     127000    23.00   \n",
       "4           Maruti Swift VXI BSIII    13         130000     120000    16.10   \n",
       "...                            ...   ...            ...        ...      ...   \n",
       "8123             Hyundai i20 Magna     7         320000     110000    18.50   \n",
       "8124         Hyundai Verna CRDi SX    13         135000     119000    16.80   \n",
       "8125        Maruti Swift Dzire ZDi    11         382000     120000    19.30   \n",
       "8126               Tata Indigo CR4     7         290000      25000    23.57   \n",
       "8127               Tata Indigo CR4     7         290000      25000    23.57   \n",
       "\n",
       "      engine  max_power  seats_2.0  seats_4.0  seats_5.0  ...  \\\n",
       "0       1248      74.00          0          0          1  ...   \n",
       "1       1498     103.52          0          0          1  ...   \n",
       "2       1497      78.00          0          0          1  ...   \n",
       "3       1396      90.00          0          0          1  ...   \n",
       "4       1298      88.20          0          0          1  ...   \n",
       "...      ...        ...        ...        ...        ...  ...   \n",
       "8123    1197      82.85          0          0          1  ...   \n",
       "8124    1493     110.00          0          0          1  ...   \n",
       "8125    1248      73.90          0          0          1  ...   \n",
       "8126    1396      70.00          0          0          1  ...   \n",
       "8127    1396      70.00          0          0          1  ...   \n",
       "\n",
       "      owner_Third Owner  fuel_CNG  fuel_Diesel  fuel_LPG  fuel_Petrol  \\\n",
       "0                     0         0            1         0            0   \n",
       "1                     0         0            1         0            0   \n",
       "2                     1         0            0         0            1   \n",
       "3                     0         0            1         0            0   \n",
       "4                     0         0            0         0            1   \n",
       "...                 ...       ...          ...       ...          ...   \n",
       "8123                  0         0            0         0            1   \n",
       "8124                  0         0            1         0            0   \n",
       "8125                  0         0            1         0            0   \n",
       "8126                  0         0            1         0            0   \n",
       "8127                  0         0            1         0            0   \n",
       "\n",
       "      transmission_Automatic  transmission_Manual  seller_type_Dealer  \\\n",
       "0                          0                    1                   0   \n",
       "1                          0                    1                   0   \n",
       "2                          0                    1                   0   \n",
       "3                          0                    1                   0   \n",
       "4                          0                    1                   0   \n",
       "...                      ...                  ...                 ...   \n",
       "8123                       0                    1                   0   \n",
       "8124                       0                    1                   0   \n",
       "8125                       0                    1                   0   \n",
       "8126                       0                    1                   0   \n",
       "8127                       0                    1                   0   \n",
       "\n",
       "      seller_type_Individual  seller_type_Trustmark Dealer  \n",
       "0                          1                             0  \n",
       "1                          1                             0  \n",
       "2                          1                             0  \n",
       "3                          1                             0  \n",
       "4                          1                             0  \n",
       "...                      ...                           ...  \n",
       "8123                       1                             0  \n",
       "8124                       1                             0  \n",
       "8125                       1                             0  \n",
       "8126                       1                             0  \n",
       "8127                       1                             0  \n",
       "\n",
       "[7907 rows x 30 columns]"
      ]
     },
     "execution_count": 47,
     "metadata": {},
     "output_type": "execute_result"
    }
   ],
   "source": [
    "#Test dataframe with dummies\n",
    "\n",
    "df"
   ]
  },
  {
   "cell_type": "code",
   "execution_count": 48,
   "metadata": {},
   "outputs": [
    {
     "name": "stdout",
     "output_type": "stream",
     "text": [
      "Index(['name', 'year', 'selling_price', 'km_driven', 'mileage', 'engine',\n",
      "       'max_power', 'seats_2.0', 'seats_4.0', 'seats_5.0', 'seats_6.0',\n",
      "       'seats_7.0', 'seats_8.0', 'seats_9.0', 'seats_10.0', 'seats_14.0',\n",
      "       'owner_First Owner', 'owner_Fourth & Above Owner', 'owner_Second Owner',\n",
      "       'owner_Test Drive Car', 'owner_Third Owner', 'fuel_CNG', 'fuel_Diesel',\n",
      "       'fuel_LPG', 'fuel_Petrol', 'transmission_Automatic',\n",
      "       'transmission_Manual', 'seller_type_Dealer', 'seller_type_Individual',\n",
      "       'seller_type_Trustmark Dealer'],\n",
      "      dtype='object')\n"
     ]
    }
   ],
   "source": [
    "#Check Columns and Ranks\n",
    "\n",
    "print(df.columns)"
   ]
  },
  {
   "cell_type": "code",
   "execution_count": 49,
   "metadata": {},
   "outputs": [],
   "source": [
    "#Apply 0-1 Scale to the dataset: only Continuous / Numeric Values\n",
    "\n",
    "\n",
    "scaler = MinMaxScaler(feature_range=(0, 1))\n",
    "\n",
    "#scale all, 1 by 1\n",
    "\n",
    "list_max_power = scaler.fit_transform(df[[\"max_power\"]])\n",
    "df.loc[:, \"max_power_scaled\"] = list_max_power\n",
    "\n",
    "list_year = scaler.fit_transform(df[[\"year\"]])\n",
    "df.loc[:, \"year_scaled\"] = list_year\n",
    "\n",
    "list_selling_price = scaler.fit_transform(df[[\"selling_price\"]])\n",
    "df.loc[:, \"selling_price_scaled\"] = list_selling_price\n",
    "\n",
    "list_km_driven = scaler.fit_transform(df[[\"km_driven\"]])\n",
    "df.loc[:, \"km_driven_scaled\"] = list_km_driven\n",
    "\n",
    "list_mileage = scaler.fit_transform(df[[\"mileage\"]])\n",
    "df.loc[:, \"mileage_scaled\"] = list_mileage\n",
    "\n",
    "list_engine = scaler.fit_transform(df[[\"engine\"]])\n",
    "df.loc[:, \"engine_scaled\"] = list_engine\n",
    "\n",
    "list_selling_price = scaler.fit_transform(df[[\"selling_price\"]])\n",
    "df.loc[:, \"selling_price\"] = list_selling_price\n"
   ]
  },
  {
   "cell_type": "code",
   "execution_count": 50,
   "metadata": {},
   "outputs": [],
   "source": [
    "#Drop Null Values\n",
    "\n",
    "df.dropna(inplace=True)"
   ]
  },
  {
   "cell_type": "code",
   "execution_count": 51,
   "metadata": {},
   "outputs": [
    {
     "data": {
      "text/plain": [
       "Index(['name', 'year', 'selling_price', 'km_driven', 'mileage', 'engine',\n",
       "       'max_power', 'seats_2.0', 'seats_4.0', 'seats_5.0', 'seats_6.0',\n",
       "       'seats_7.0', 'seats_8.0', 'seats_9.0', 'seats_10.0', 'seats_14.0',\n",
       "       'owner_First Owner', 'owner_Fourth & Above Owner', 'owner_Second Owner',\n",
       "       'owner_Test Drive Car', 'owner_Third Owner', 'fuel_CNG', 'fuel_Diesel',\n",
       "       'fuel_LPG', 'fuel_Petrol', 'transmission_Automatic',\n",
       "       'transmission_Manual', 'seller_type_Dealer', 'seller_type_Individual',\n",
       "       'seller_type_Trustmark Dealer', 'max_power_scaled', 'year_scaled',\n",
       "       'selling_price_scaled', 'km_driven_scaled', 'mileage_scaled',\n",
       "       'engine_scaled'],\n",
       "      dtype='object')"
      ]
     },
     "execution_count": 51,
     "metadata": {},
     "output_type": "execute_result"
    }
   ],
   "source": [
    "#Test new Dataframe\n",
    "\n",
    "df.columns"
   ]
  },
  {
   "cell_type": "code",
   "execution_count": 52,
   "metadata": {},
   "outputs": [],
   "source": [
    "list_df = []\n",
    "list_df.append(df.columns)"
   ]
  },
  {
   "cell_type": "code",
   "execution_count": 53,
   "metadata": {},
   "outputs": [
    {
     "data": {
      "text/html": [
       "<div>\n",
       "<style scoped>\n",
       "    .dataframe tbody tr th:only-of-type {\n",
       "        vertical-align: middle;\n",
       "    }\n",
       "\n",
       "    .dataframe tbody tr th {\n",
       "        vertical-align: top;\n",
       "    }\n",
       "\n",
       "    .dataframe thead th {\n",
       "        text-align: right;\n",
       "    }\n",
       "</style>\n",
       "<table border=\"1\" class=\"dataframe\">\n",
       "  <thead>\n",
       "    <tr style=\"text-align: right;\">\n",
       "      <th></th>\n",
       "      <th>year</th>\n",
       "      <th>selling_price</th>\n",
       "      <th>km_driven</th>\n",
       "      <th>mileage</th>\n",
       "      <th>engine</th>\n",
       "      <th>max_power</th>\n",
       "      <th>seats_2.0</th>\n",
       "      <th>seats_4.0</th>\n",
       "      <th>seats_5.0</th>\n",
       "      <th>seats_6.0</th>\n",
       "      <th>...</th>\n",
       "      <th>transmission_Manual</th>\n",
       "      <th>seller_type_Dealer</th>\n",
       "      <th>seller_type_Individual</th>\n",
       "      <th>seller_type_Trustmark Dealer</th>\n",
       "      <th>max_power_scaled</th>\n",
       "      <th>year_scaled</th>\n",
       "      <th>selling_price_scaled</th>\n",
       "      <th>km_driven_scaled</th>\n",
       "      <th>mileage_scaled</th>\n",
       "      <th>engine_scaled</th>\n",
       "    </tr>\n",
       "  </thead>\n",
       "  <tbody>\n",
       "    <tr>\n",
       "      <th>year</th>\n",
       "      <td>1.000000</td>\n",
       "      <td>-0.412302</td>\n",
       "      <td>0.428548</td>\n",
       "      <td>-0.328544</td>\n",
       "      <td>-0.018263</td>\n",
       "      <td>-0.226598</td>\n",
       "      <td>-0.022711</td>\n",
       "      <td>0.241042</td>\n",
       "      <td>-0.083624</td>\n",
       "      <td>-0.069405</td>\n",
       "      <td>...</td>\n",
       "      <td>0.249002</td>\n",
       "      <td>-0.214525</td>\n",
       "      <td>0.243729</td>\n",
       "      <td>-0.100385</td>\n",
       "      <td>-0.226598</td>\n",
       "      <td>1.000000</td>\n",
       "      <td>-0.412302</td>\n",
       "      <td>0.428548</td>\n",
       "      <td>-0.328544</td>\n",
       "      <td>-0.018263</td>\n",
       "    </tr>\n",
       "    <tr>\n",
       "      <th>selling_price</th>\n",
       "      <td>-0.412302</td>\n",
       "      <td>1.000000</td>\n",
       "      <td>-0.222158</td>\n",
       "      <td>-0.126280</td>\n",
       "      <td>0.455682</td>\n",
       "      <td>0.749674</td>\n",
       "      <td>0.000991</td>\n",
       "      <td>-0.026217</td>\n",
       "      <td>-0.047281</td>\n",
       "      <td>-0.007455</td>\n",
       "      <td>...</td>\n",
       "      <td>-0.590269</td>\n",
       "      <td>0.401803</td>\n",
       "      <td>-0.386151</td>\n",
       "      <td>0.032779</td>\n",
       "      <td>0.749674</td>\n",
       "      <td>-0.412302</td>\n",
       "      <td>1.000000</td>\n",
       "      <td>-0.222158</td>\n",
       "      <td>-0.126280</td>\n",
       "      <td>0.455682</td>\n",
       "    </tr>\n",
       "    <tr>\n",
       "      <th>km_driven</th>\n",
       "      <td>0.428548</td>\n",
       "      <td>-0.222158</td>\n",
       "      <td>1.000000</td>\n",
       "      <td>-0.172980</td>\n",
       "      <td>0.206031</td>\n",
       "      <td>-0.038159</td>\n",
       "      <td>-0.007476</td>\n",
       "      <td>-0.022879</td>\n",
       "      <td>-0.196488</td>\n",
       "      <td>-0.040477</td>\n",
       "      <td>...</td>\n",
       "      <td>0.201186</td>\n",
       "      <td>-0.178725</td>\n",
       "      <td>0.202851</td>\n",
       "      <td>-0.083181</td>\n",
       "      <td>-0.038159</td>\n",
       "      <td>0.428548</td>\n",
       "      <td>-0.222158</td>\n",
       "      <td>1.000000</td>\n",
       "      <td>-0.172980</td>\n",
       "      <td>0.206031</td>\n",
       "    </tr>\n",
       "    <tr>\n",
       "      <th>mileage</th>\n",
       "      <td>-0.328544</td>\n",
       "      <td>-0.126280</td>\n",
       "      <td>-0.172980</td>\n",
       "      <td>1.000000</td>\n",
       "      <td>-0.576408</td>\n",
       "      <td>-0.374621</td>\n",
       "      <td>-0.076540</td>\n",
       "      <td>-0.029766</td>\n",
       "      <td>0.458146</td>\n",
       "      <td>0.012921</td>\n",
       "      <td>...</td>\n",
       "      <td>0.178986</td>\n",
       "      <td>0.004940</td>\n",
       "      <td>0.011862</td>\n",
       "      <td>-0.036248</td>\n",
       "      <td>-0.374621</td>\n",
       "      <td>-0.328544</td>\n",
       "      <td>-0.126280</td>\n",
       "      <td>-0.172980</td>\n",
       "      <td>1.000000</td>\n",
       "      <td>-0.576408</td>\n",
       "    </tr>\n",
       "    <tr>\n",
       "      <th>engine</th>\n",
       "      <td>-0.018263</td>\n",
       "      <td>0.455682</td>\n",
       "      <td>0.206031</td>\n",
       "      <td>-0.576408</td>\n",
       "      <td>1.000000</td>\n",
       "      <td>0.703975</td>\n",
       "      <td>0.033600</td>\n",
       "      <td>-0.134109</td>\n",
       "      <td>-0.551311</td>\n",
       "      <td>0.031206</td>\n",
       "      <td>...</td>\n",
       "      <td>-0.283206</td>\n",
       "      <td>0.124104</td>\n",
       "      <td>-0.132215</td>\n",
       "      <td>0.038690</td>\n",
       "      <td>0.703975</td>\n",
       "      <td>-0.018263</td>\n",
       "      <td>0.455682</td>\n",
       "      <td>0.206031</td>\n",
       "      <td>-0.576408</td>\n",
       "      <td>1.000000</td>\n",
       "    </tr>\n",
       "    <tr>\n",
       "      <th>max_power</th>\n",
       "      <td>-0.226598</td>\n",
       "      <td>0.749674</td>\n",
       "      <td>-0.038159</td>\n",
       "      <td>-0.374621</td>\n",
       "      <td>0.703975</td>\n",
       "      <td>1.000000</td>\n",
       "      <td>-0.009607</td>\n",
       "      <td>-0.127642</td>\n",
       "      <td>-0.168642</td>\n",
       "      <td>-0.006576</td>\n",
       "      <td>...</td>\n",
       "      <td>-0.541870</td>\n",
       "      <td>0.297039</td>\n",
       "      <td>-0.286493</td>\n",
       "      <td>0.026493</td>\n",
       "      <td>1.000000</td>\n",
       "      <td>-0.226598</td>\n",
       "      <td>0.749674</td>\n",
       "      <td>-0.038159</td>\n",
       "      <td>-0.374621</td>\n",
       "      <td>0.703975</td>\n",
       "    </tr>\n",
       "    <tr>\n",
       "      <th>seats_2.0</th>\n",
       "      <td>-0.022711</td>\n",
       "      <td>0.000991</td>\n",
       "      <td>-0.007476</td>\n",
       "      <td>-0.076540</td>\n",
       "      <td>0.033600</td>\n",
       "      <td>-0.009607</td>\n",
       "      <td>1.000000</td>\n",
       "      <td>-0.002081</td>\n",
       "      <td>-0.030950</td>\n",
       "      <td>-0.001414</td>\n",
       "      <td>...</td>\n",
       "      <td>0.006194</td>\n",
       "      <td>-0.006419</td>\n",
       "      <td>0.007196</td>\n",
       "      <td>-0.002790</td>\n",
       "      <td>-0.009607</td>\n",
       "      <td>-0.022711</td>\n",
       "      <td>0.000991</td>\n",
       "      <td>-0.007476</td>\n",
       "      <td>-0.076540</td>\n",
       "      <td>0.033600</td>\n",
       "    </tr>\n",
       "    <tr>\n",
       "      <th>seats_4.0</th>\n",
       "      <td>0.241042</td>\n",
       "      <td>-0.026217</td>\n",
       "      <td>-0.022879</td>\n",
       "      <td>-0.029766</td>\n",
       "      <td>-0.134109</td>\n",
       "      <td>-0.127642</td>\n",
       "      <td>-0.002081</td>\n",
       "      <td>1.000000</td>\n",
       "      <td>-0.254510</td>\n",
       "      <td>-0.011629</td>\n",
       "      <td>...</td>\n",
       "      <td>0.004399</td>\n",
       "      <td>-0.024439</td>\n",
       "      <td>0.032982</td>\n",
       "      <td>-0.022945</td>\n",
       "      <td>-0.127642</td>\n",
       "      <td>0.241042</td>\n",
       "      <td>-0.026217</td>\n",
       "      <td>-0.022879</td>\n",
       "      <td>-0.029766</td>\n",
       "      <td>-0.134109</td>\n",
       "    </tr>\n",
       "    <tr>\n",
       "      <th>seats_5.0</th>\n",
       "      <td>-0.083624</td>\n",
       "      <td>-0.047281</td>\n",
       "      <td>-0.196488</td>\n",
       "      <td>0.458146</td>\n",
       "      <td>-0.551311</td>\n",
       "      <td>-0.168642</td>\n",
       "      <td>-0.030950</td>\n",
       "      <td>-0.254510</td>\n",
       "      <td>1.000000</td>\n",
       "      <td>-0.172982</td>\n",
       "      <td>...</td>\n",
       "      <td>-0.072247</td>\n",
       "      <td>0.082764</td>\n",
       "      <td>-0.091652</td>\n",
       "      <td>0.033480</td>\n",
       "      <td>-0.168642</td>\n",
       "      <td>-0.083624</td>\n",
       "      <td>-0.047281</td>\n",
       "      <td>-0.196488</td>\n",
       "      <td>0.458146</td>\n",
       "      <td>-0.551311</td>\n",
       "    </tr>\n",
       "    <tr>\n",
       "      <th>seats_6.0</th>\n",
       "      <td>-0.069405</td>\n",
       "      <td>-0.007455</td>\n",
       "      <td>-0.040477</td>\n",
       "      <td>0.012921</td>\n",
       "      <td>0.031206</td>\n",
       "      <td>-0.006576</td>\n",
       "      <td>-0.001414</td>\n",
       "      <td>-0.011629</td>\n",
       "      <td>-0.172982</td>\n",
       "      <td>1.000000</td>\n",
       "      <td>...</td>\n",
       "      <td>0.034620</td>\n",
       "      <td>-0.023477</td>\n",
       "      <td>0.028762</td>\n",
       "      <td>-0.015595</td>\n",
       "      <td>-0.006576</td>\n",
       "      <td>-0.069405</td>\n",
       "      <td>-0.007455</td>\n",
       "      <td>-0.040477</td>\n",
       "      <td>0.012921</td>\n",
       "      <td>0.031206</td>\n",
       "    </tr>\n",
       "    <tr>\n",
       "      <th>seats_7.0</th>\n",
       "      <td>-0.024128</td>\n",
       "      <td>0.081453</td>\n",
       "      <td>0.152927</td>\n",
       "      <td>-0.361814</td>\n",
       "      <td>0.502895</td>\n",
       "      <td>0.241873</td>\n",
       "      <td>-0.006462</td>\n",
       "      <td>-0.053141</td>\n",
       "      <td>-0.790453</td>\n",
       "      <td>-0.036118</td>\n",
       "      <td>...</td>\n",
       "      <td>0.044490</td>\n",
       "      <td>-0.052080</td>\n",
       "      <td>0.050476</td>\n",
       "      <td>-0.005186</td>\n",
       "      <td>0.241873</td>\n",
       "      <td>-0.024128</td>\n",
       "      <td>0.081453</td>\n",
       "      <td>0.152927</td>\n",
       "      <td>-0.361814</td>\n",
       "      <td>0.502895</td>\n",
       "    </tr>\n",
       "    <tr>\n",
       "      <th>seats_8.0</th>\n",
       "      <td>0.081783</td>\n",
       "      <td>-0.013760</td>\n",
       "      <td>0.137468</td>\n",
       "      <td>-0.236530</td>\n",
       "      <td>0.229306</td>\n",
       "      <td>0.030309</td>\n",
       "      <td>-0.002784</td>\n",
       "      <td>-0.022895</td>\n",
       "      <td>-0.340551</td>\n",
       "      <td>-0.015561</td>\n",
       "      <td>...</td>\n",
       "      <td>0.030712</td>\n",
       "      <td>-0.034137</td>\n",
       "      <td>0.045459</td>\n",
       "      <td>-0.030702</td>\n",
       "      <td>0.030309</td>\n",
       "      <td>0.081783</td>\n",
       "      <td>-0.013760</td>\n",
       "      <td>0.137468</td>\n",
       "      <td>-0.236530</td>\n",
       "      <td>0.229306</td>\n",
       "    </tr>\n",
       "    <tr>\n",
       "      <th>seats_9.0</th>\n",
       "      <td>0.017571</td>\n",
       "      <td>-0.018610</td>\n",
       "      <td>0.074864</td>\n",
       "      <td>-0.121738</td>\n",
       "      <td>0.192764</td>\n",
       "      <td>-0.026446</td>\n",
       "      <td>-0.001608</td>\n",
       "      <td>-0.013225</td>\n",
       "      <td>-0.196720</td>\n",
       "      <td>-0.008989</td>\n",
       "      <td>...</td>\n",
       "      <td>0.039371</td>\n",
       "      <td>-0.033513</td>\n",
       "      <td>0.039005</td>\n",
       "      <td>-0.017735</td>\n",
       "      <td>-0.026446</td>\n",
       "      <td>0.017571</td>\n",
       "      <td>-0.018610</td>\n",
       "      <td>0.074864</td>\n",
       "      <td>-0.121738</td>\n",
       "      <td>0.192764</td>\n",
       "    </tr>\n",
       "    <tr>\n",
       "      <th>seats_10.0</th>\n",
       "      <td>0.043257</td>\n",
       "      <td>-0.018444</td>\n",
       "      <td>0.048897</td>\n",
       "      <td>-0.072849</td>\n",
       "      <td>0.089519</td>\n",
       "      <td>-0.022986</td>\n",
       "      <td>-0.000781</td>\n",
       "      <td>-0.006420</td>\n",
       "      <td>-0.095498</td>\n",
       "      <td>-0.004364</td>\n",
       "      <td>...</td>\n",
       "      <td>0.019113</td>\n",
       "      <td>-0.019805</td>\n",
       "      <td>0.022203</td>\n",
       "      <td>-0.008610</td>\n",
       "      <td>-0.022986</td>\n",
       "      <td>0.043257</td>\n",
       "      <td>-0.018444</td>\n",
       "      <td>0.048897</td>\n",
       "      <td>-0.072849</td>\n",
       "      <td>0.089519</td>\n",
       "    </tr>\n",
       "    <tr>\n",
       "      <th>seats_14.0</th>\n",
       "      <td>0.011598</td>\n",
       "      <td>-0.005735</td>\n",
       "      <td>-0.003800</td>\n",
       "      <td>-0.024272</td>\n",
       "      <td>0.010922</td>\n",
       "      <td>-0.000499</td>\n",
       "      <td>-0.000179</td>\n",
       "      <td>-0.001471</td>\n",
       "      <td>-0.021884</td>\n",
       "      <td>-0.001000</td>\n",
       "      <td>...</td>\n",
       "      <td>0.004380</td>\n",
       "      <td>-0.004538</td>\n",
       "      <td>0.005088</td>\n",
       "      <td>-0.001973</td>\n",
       "      <td>-0.000499</td>\n",
       "      <td>0.011598</td>\n",
       "      <td>-0.005735</td>\n",
       "      <td>-0.003800</td>\n",
       "      <td>-0.024272</td>\n",
       "      <td>0.010922</td>\n",
       "    </tr>\n",
       "    <tr>\n",
       "      <th>owner_First Owner</th>\n",
       "      <td>-0.491934</td>\n",
       "      <td>0.239850</td>\n",
       "      <td>-0.295470</td>\n",
       "      <td>0.166438</td>\n",
       "      <td>-0.015510</td>\n",
       "      <td>0.114942</td>\n",
       "      <td>0.011427</td>\n",
       "      <td>-0.065861</td>\n",
       "      <td>0.058240</td>\n",
       "      <td>0.012417</td>\n",
       "      <td>...</td>\n",
       "      <td>-0.158941</td>\n",
       "      <td>0.212159</td>\n",
       "      <td>-0.229695</td>\n",
       "      <td>0.074240</td>\n",
       "      <td>0.114942</td>\n",
       "      <td>-0.491934</td>\n",
       "      <td>0.239850</td>\n",
       "      <td>-0.295470</td>\n",
       "      <td>0.166438</td>\n",
       "      <td>-0.015510</td>\n",
       "    </tr>\n",
       "    <tr>\n",
       "      <th>owner_Fourth &amp; Above Owner</th>\n",
       "      <td>0.205631</td>\n",
       "      <td>-0.073601</td>\n",
       "      <td>0.089244</td>\n",
       "      <td>-0.072118</td>\n",
       "      <td>-0.006433</td>\n",
       "      <td>-0.037283</td>\n",
       "      <td>-0.002286</td>\n",
       "      <td>0.051046</td>\n",
       "      <td>-0.018928</td>\n",
       "      <td>-0.012778</td>\n",
       "      <td>...</td>\n",
       "      <td>0.040027</td>\n",
       "      <td>-0.057993</td>\n",
       "      <td>0.065014</td>\n",
       "      <td>-0.025210</td>\n",
       "      <td>-0.037283</td>\n",
       "      <td>0.205631</td>\n",
       "      <td>-0.073601</td>\n",
       "      <td>0.089244</td>\n",
       "      <td>-0.072118</td>\n",
       "      <td>-0.006433</td>\n",
       "    </tr>\n",
       "    <tr>\n",
       "      <th>owner_Second Owner</th>\n",
       "      <td>0.317328</td>\n",
       "      <td>-0.178786</td>\n",
       "      <td>0.209913</td>\n",
       "      <td>-0.101811</td>\n",
       "      <td>0.020809</td>\n",
       "      <td>-0.085206</td>\n",
       "      <td>-0.009306</td>\n",
       "      <td>0.036297</td>\n",
       "      <td>-0.051925</td>\n",
       "      <td>0.003916</td>\n",
       "      <td>...</td>\n",
       "      <td>0.122257</td>\n",
       "      <td>-0.159130</td>\n",
       "      <td>0.168052</td>\n",
       "      <td>-0.046348</td>\n",
       "      <td>-0.085206</td>\n",
       "      <td>0.317328</td>\n",
       "      <td>-0.178786</td>\n",
       "      <td>0.209913</td>\n",
       "      <td>-0.101811</td>\n",
       "      <td>0.020809</td>\n",
       "    </tr>\n",
       "    <tr>\n",
       "      <th>owner_Test Drive Car</th>\n",
       "      <td>-0.032661</td>\n",
       "      <td>0.116081</td>\n",
       "      <td>-0.024168</td>\n",
       "      <td>-0.015644</td>\n",
       "      <td>0.013954</td>\n",
       "      <td>0.049734</td>\n",
       "      <td>-0.000400</td>\n",
       "      <td>-0.003291</td>\n",
       "      <td>0.012929</td>\n",
       "      <td>-0.002237</td>\n",
       "      <td>...</td>\n",
       "      <td>-0.049722</td>\n",
       "      <td>0.062344</td>\n",
       "      <td>-0.055611</td>\n",
       "      <td>-0.004413</td>\n",
       "      <td>0.049734</td>\n",
       "      <td>-0.032661</td>\n",
       "      <td>0.116081</td>\n",
       "      <td>-0.024168</td>\n",
       "      <td>-0.015644</td>\n",
       "      <td>0.013954</td>\n",
       "    </tr>\n",
       "    <tr>\n",
       "      <th>owner_Third Owner</th>\n",
       "      <td>0.271317</td>\n",
       "      <td>-0.115113</td>\n",
       "      <td>0.148795</td>\n",
       "      <td>-0.097455</td>\n",
       "      <td>-0.004743</td>\n",
       "      <td>-0.054249</td>\n",
       "      <td>-0.004177</td>\n",
       "      <td>0.033712</td>\n",
       "      <td>-0.010680</td>\n",
       "      <td>-0.023346</td>\n",
       "      <td>...</td>\n",
       "      <td>0.071802</td>\n",
       "      <td>-0.100024</td>\n",
       "      <td>0.113304</td>\n",
       "      <td>-0.046062</td>\n",
       "      <td>-0.054249</td>\n",
       "      <td>0.271317</td>\n",
       "      <td>-0.115113</td>\n",
       "      <td>0.148795</td>\n",
       "      <td>-0.097455</td>\n",
       "      <td>-0.004743</td>\n",
       "    </tr>\n",
       "    <tr>\n",
       "      <th>fuel_CNG</th>\n",
       "      <td>-0.029095</td>\n",
       "      <td>-0.033197</td>\n",
       "      <td>-0.005432</td>\n",
       "      <td>0.100821</td>\n",
       "      <td>-0.059850</td>\n",
       "      <td>-0.069644</td>\n",
       "      <td>-0.001294</td>\n",
       "      <td>0.038025</td>\n",
       "      <td>0.022576</td>\n",
       "      <td>-0.007234</td>\n",
       "      <td>...</td>\n",
       "      <td>0.031686</td>\n",
       "      <td>-0.032833</td>\n",
       "      <td>0.036808</td>\n",
       "      <td>-0.014273</td>\n",
       "      <td>-0.069644</td>\n",
       "      <td>-0.029095</td>\n",
       "      <td>-0.033197</td>\n",
       "      <td>-0.005432</td>\n",
       "      <td>0.100821</td>\n",
       "      <td>-0.059850</td>\n",
       "    </tr>\n",
       "    <tr>\n",
       "      <th>fuel_Diesel</th>\n",
       "      <td>-0.037536</td>\n",
       "      <td>0.204831</td>\n",
       "      <td>0.271662</td>\n",
       "      <td>0.060256</td>\n",
       "      <td>0.507383</td>\n",
       "      <td>0.304787</td>\n",
       "      <td>0.014571</td>\n",
       "      <td>-0.119109</td>\n",
       "      <td>-0.310250</td>\n",
       "      <td>0.020978</td>\n",
       "      <td>...</td>\n",
       "      <td>0.025579</td>\n",
       "      <td>0.065171</td>\n",
       "      <td>0.003567</td>\n",
       "      <td>-0.140763</td>\n",
       "      <td>0.304787</td>\n",
       "      <td>-0.037536</td>\n",
       "      <td>0.204831</td>\n",
       "      <td>0.271662</td>\n",
       "      <td>0.060256</td>\n",
       "      <td>0.507383</td>\n",
       "    </tr>\n",
       "    <tr>\n",
       "      <th>fuel_LPG</th>\n",
       "      <td>0.059887</td>\n",
       "      <td>-0.035978</td>\n",
       "      <td>0.023095</td>\n",
       "      <td>-0.013924</td>\n",
       "      <td>-0.056681</td>\n",
       "      <td>-0.060175</td>\n",
       "      <td>-0.001061</td>\n",
       "      <td>-0.008723</td>\n",
       "      <td>0.034272</td>\n",
       "      <td>-0.005929</td>\n",
       "      <td>...</td>\n",
       "      <td>0.025967</td>\n",
       "      <td>-0.021417</td>\n",
       "      <td>0.025092</td>\n",
       "      <td>-0.011697</td>\n",
       "      <td>-0.060175</td>\n",
       "      <td>0.059887</td>\n",
       "      <td>-0.035978</td>\n",
       "      <td>0.023095</td>\n",
       "      <td>-0.013924</td>\n",
       "      <td>-0.056681</td>\n",
       "    </tr>\n",
       "    <tr>\n",
       "      <th>fuel_Petrol</th>\n",
       "      <td>0.034351</td>\n",
       "      <td>-0.195074</td>\n",
       "      <td>-0.274460</td>\n",
       "      <td>-0.074927</td>\n",
       "      <td>-0.491189</td>\n",
       "      <td>-0.286090</td>\n",
       "      <td>-0.014250</td>\n",
       "      <td>0.114351</td>\n",
       "      <td>0.302680</td>\n",
       "      <td>-0.019055</td>\n",
       "      <td>...</td>\n",
       "      <td>-0.034257</td>\n",
       "      <td>-0.057113</td>\n",
       "      <td>-0.012914</td>\n",
       "      <td>0.144956</td>\n",
       "      <td>-0.286090</td>\n",
       "      <td>0.034351</td>\n",
       "      <td>-0.195074</td>\n",
       "      <td>-0.274460</td>\n",
       "      <td>-0.074927</td>\n",
       "      <td>-0.491189</td>\n",
       "    </tr>\n",
       "    <tr>\n",
       "      <th>transmission_Automatic</th>\n",
       "      <td>-0.249002</td>\n",
       "      <td>0.590269</td>\n",
       "      <td>-0.201186</td>\n",
       "      <td>-0.178986</td>\n",
       "      <td>0.283206</td>\n",
       "      <td>0.541870</td>\n",
       "      <td>-0.006194</td>\n",
       "      <td>-0.004399</td>\n",
       "      <td>0.072247</td>\n",
       "      <td>-0.034620</td>\n",
       "      <td>...</td>\n",
       "      <td>-1.000000</td>\n",
       "      <td>0.336591</td>\n",
       "      <td>-0.378698</td>\n",
       "      <td>0.149310</td>\n",
       "      <td>0.541870</td>\n",
       "      <td>-0.249002</td>\n",
       "      <td>0.590269</td>\n",
       "      <td>-0.201186</td>\n",
       "      <td>-0.178986</td>\n",
       "      <td>0.283206</td>\n",
       "    </tr>\n",
       "    <tr>\n",
       "      <th>transmission_Manual</th>\n",
       "      <td>0.249002</td>\n",
       "      <td>-0.590269</td>\n",
       "      <td>0.201186</td>\n",
       "      <td>0.178986</td>\n",
       "      <td>-0.283206</td>\n",
       "      <td>-0.541870</td>\n",
       "      <td>0.006194</td>\n",
       "      <td>0.004399</td>\n",
       "      <td>-0.072247</td>\n",
       "      <td>0.034620</td>\n",
       "      <td>...</td>\n",
       "      <td>1.000000</td>\n",
       "      <td>-0.336591</td>\n",
       "      <td>0.378698</td>\n",
       "      <td>-0.149310</td>\n",
       "      <td>-0.541870</td>\n",
       "      <td>0.249002</td>\n",
       "      <td>-0.590269</td>\n",
       "      <td>0.201186</td>\n",
       "      <td>0.178986</td>\n",
       "      <td>-0.283206</td>\n",
       "    </tr>\n",
       "    <tr>\n",
       "      <th>seller_type_Dealer</th>\n",
       "      <td>-0.214525</td>\n",
       "      <td>0.401803</td>\n",
       "      <td>-0.178725</td>\n",
       "      <td>0.004940</td>\n",
       "      <td>0.124104</td>\n",
       "      <td>0.297039</td>\n",
       "      <td>-0.006419</td>\n",
       "      <td>-0.024439</td>\n",
       "      <td>0.082764</td>\n",
       "      <td>-0.023477</td>\n",
       "      <td>...</td>\n",
       "      <td>-0.336591</td>\n",
       "      <td>1.000000</td>\n",
       "      <td>-0.891999</td>\n",
       "      <td>-0.070780</td>\n",
       "      <td>0.297039</td>\n",
       "      <td>-0.214525</td>\n",
       "      <td>0.401803</td>\n",
       "      <td>-0.178725</td>\n",
       "      <td>0.004940</td>\n",
       "      <td>0.124104</td>\n",
       "    </tr>\n",
       "    <tr>\n",
       "      <th>seller_type_Individual</th>\n",
       "      <td>0.243729</td>\n",
       "      <td>-0.386151</td>\n",
       "      <td>0.202851</td>\n",
       "      <td>0.011862</td>\n",
       "      <td>-0.132215</td>\n",
       "      <td>-0.286493</td>\n",
       "      <td>0.007196</td>\n",
       "      <td>0.032982</td>\n",
       "      <td>-0.091652</td>\n",
       "      <td>0.028762</td>\n",
       "      <td>...</td>\n",
       "      <td>0.378698</td>\n",
       "      <td>-0.891999</td>\n",
       "      <td>1.000000</td>\n",
       "      <td>-0.387768</td>\n",
       "      <td>-0.286493</td>\n",
       "      <td>0.243729</td>\n",
       "      <td>-0.386151</td>\n",
       "      <td>0.202851</td>\n",
       "      <td>0.011862</td>\n",
       "      <td>-0.132215</td>\n",
       "    </tr>\n",
       "    <tr>\n",
       "      <th>seller_type_Trustmark Dealer</th>\n",
       "      <td>-0.100385</td>\n",
       "      <td>0.032779</td>\n",
       "      <td>-0.083181</td>\n",
       "      <td>-0.036248</td>\n",
       "      <td>0.038690</td>\n",
       "      <td>0.026493</td>\n",
       "      <td>-0.002790</td>\n",
       "      <td>-0.022945</td>\n",
       "      <td>0.033480</td>\n",
       "      <td>-0.015595</td>\n",
       "      <td>...</td>\n",
       "      <td>-0.149310</td>\n",
       "      <td>-0.070780</td>\n",
       "      <td>-0.387768</td>\n",
       "      <td>1.000000</td>\n",
       "      <td>0.026493</td>\n",
       "      <td>-0.100385</td>\n",
       "      <td>0.032779</td>\n",
       "      <td>-0.083181</td>\n",
       "      <td>-0.036248</td>\n",
       "      <td>0.038690</td>\n",
       "    </tr>\n",
       "    <tr>\n",
       "      <th>max_power_scaled</th>\n",
       "      <td>-0.226598</td>\n",
       "      <td>0.749674</td>\n",
       "      <td>-0.038159</td>\n",
       "      <td>-0.374621</td>\n",
       "      <td>0.703975</td>\n",
       "      <td>1.000000</td>\n",
       "      <td>-0.009607</td>\n",
       "      <td>-0.127642</td>\n",
       "      <td>-0.168642</td>\n",
       "      <td>-0.006576</td>\n",
       "      <td>...</td>\n",
       "      <td>-0.541870</td>\n",
       "      <td>0.297039</td>\n",
       "      <td>-0.286493</td>\n",
       "      <td>0.026493</td>\n",
       "      <td>1.000000</td>\n",
       "      <td>-0.226598</td>\n",
       "      <td>0.749674</td>\n",
       "      <td>-0.038159</td>\n",
       "      <td>-0.374621</td>\n",
       "      <td>0.703975</td>\n",
       "    </tr>\n",
       "    <tr>\n",
       "      <th>year_scaled</th>\n",
       "      <td>1.000000</td>\n",
       "      <td>-0.412302</td>\n",
       "      <td>0.428548</td>\n",
       "      <td>-0.328544</td>\n",
       "      <td>-0.018263</td>\n",
       "      <td>-0.226598</td>\n",
       "      <td>-0.022711</td>\n",
       "      <td>0.241042</td>\n",
       "      <td>-0.083624</td>\n",
       "      <td>-0.069405</td>\n",
       "      <td>...</td>\n",
       "      <td>0.249002</td>\n",
       "      <td>-0.214525</td>\n",
       "      <td>0.243729</td>\n",
       "      <td>-0.100385</td>\n",
       "      <td>-0.226598</td>\n",
       "      <td>1.000000</td>\n",
       "      <td>-0.412302</td>\n",
       "      <td>0.428548</td>\n",
       "      <td>-0.328544</td>\n",
       "      <td>-0.018263</td>\n",
       "    </tr>\n",
       "    <tr>\n",
       "      <th>selling_price_scaled</th>\n",
       "      <td>-0.412302</td>\n",
       "      <td>1.000000</td>\n",
       "      <td>-0.222158</td>\n",
       "      <td>-0.126280</td>\n",
       "      <td>0.455682</td>\n",
       "      <td>0.749674</td>\n",
       "      <td>0.000991</td>\n",
       "      <td>-0.026217</td>\n",
       "      <td>-0.047281</td>\n",
       "      <td>-0.007455</td>\n",
       "      <td>...</td>\n",
       "      <td>-0.590269</td>\n",
       "      <td>0.401803</td>\n",
       "      <td>-0.386151</td>\n",
       "      <td>0.032779</td>\n",
       "      <td>0.749674</td>\n",
       "      <td>-0.412302</td>\n",
       "      <td>1.000000</td>\n",
       "      <td>-0.222158</td>\n",
       "      <td>-0.126280</td>\n",
       "      <td>0.455682</td>\n",
       "    </tr>\n",
       "    <tr>\n",
       "      <th>km_driven_scaled</th>\n",
       "      <td>0.428548</td>\n",
       "      <td>-0.222158</td>\n",
       "      <td>1.000000</td>\n",
       "      <td>-0.172980</td>\n",
       "      <td>0.206031</td>\n",
       "      <td>-0.038159</td>\n",
       "      <td>-0.007476</td>\n",
       "      <td>-0.022879</td>\n",
       "      <td>-0.196488</td>\n",
       "      <td>-0.040477</td>\n",
       "      <td>...</td>\n",
       "      <td>0.201186</td>\n",
       "      <td>-0.178725</td>\n",
       "      <td>0.202851</td>\n",
       "      <td>-0.083181</td>\n",
       "      <td>-0.038159</td>\n",
       "      <td>0.428548</td>\n",
       "      <td>-0.222158</td>\n",
       "      <td>1.000000</td>\n",
       "      <td>-0.172980</td>\n",
       "      <td>0.206031</td>\n",
       "    </tr>\n",
       "    <tr>\n",
       "      <th>mileage_scaled</th>\n",
       "      <td>-0.328544</td>\n",
       "      <td>-0.126280</td>\n",
       "      <td>-0.172980</td>\n",
       "      <td>1.000000</td>\n",
       "      <td>-0.576408</td>\n",
       "      <td>-0.374621</td>\n",
       "      <td>-0.076540</td>\n",
       "      <td>-0.029766</td>\n",
       "      <td>0.458146</td>\n",
       "      <td>0.012921</td>\n",
       "      <td>...</td>\n",
       "      <td>0.178986</td>\n",
       "      <td>0.004940</td>\n",
       "      <td>0.011862</td>\n",
       "      <td>-0.036248</td>\n",
       "      <td>-0.374621</td>\n",
       "      <td>-0.328544</td>\n",
       "      <td>-0.126280</td>\n",
       "      <td>-0.172980</td>\n",
       "      <td>1.000000</td>\n",
       "      <td>-0.576408</td>\n",
       "    </tr>\n",
       "    <tr>\n",
       "      <th>engine_scaled</th>\n",
       "      <td>-0.018263</td>\n",
       "      <td>0.455682</td>\n",
       "      <td>0.206031</td>\n",
       "      <td>-0.576408</td>\n",
       "      <td>1.000000</td>\n",
       "      <td>0.703975</td>\n",
       "      <td>0.033600</td>\n",
       "      <td>-0.134109</td>\n",
       "      <td>-0.551311</td>\n",
       "      <td>0.031206</td>\n",
       "      <td>...</td>\n",
       "      <td>-0.283206</td>\n",
       "      <td>0.124104</td>\n",
       "      <td>-0.132215</td>\n",
       "      <td>0.038690</td>\n",
       "      <td>0.703975</td>\n",
       "      <td>-0.018263</td>\n",
       "      <td>0.455682</td>\n",
       "      <td>0.206031</td>\n",
       "      <td>-0.576408</td>\n",
       "      <td>1.000000</td>\n",
       "    </tr>\n",
       "  </tbody>\n",
       "</table>\n",
       "<p>35 rows × 35 columns</p>\n",
       "</div>"
      ],
      "text/plain": [
       "                                  year  selling_price  km_driven   mileage  \\\n",
       "year                          1.000000      -0.412302   0.428548 -0.328544   \n",
       "selling_price                -0.412302       1.000000  -0.222158 -0.126280   \n",
       "km_driven                     0.428548      -0.222158   1.000000 -0.172980   \n",
       "mileage                      -0.328544      -0.126280  -0.172980  1.000000   \n",
       "engine                       -0.018263       0.455682   0.206031 -0.576408   \n",
       "max_power                    -0.226598       0.749674  -0.038159 -0.374621   \n",
       "seats_2.0                    -0.022711       0.000991  -0.007476 -0.076540   \n",
       "seats_4.0                     0.241042      -0.026217  -0.022879 -0.029766   \n",
       "seats_5.0                    -0.083624      -0.047281  -0.196488  0.458146   \n",
       "seats_6.0                    -0.069405      -0.007455  -0.040477  0.012921   \n",
       "seats_7.0                    -0.024128       0.081453   0.152927 -0.361814   \n",
       "seats_8.0                     0.081783      -0.013760   0.137468 -0.236530   \n",
       "seats_9.0                     0.017571      -0.018610   0.074864 -0.121738   \n",
       "seats_10.0                    0.043257      -0.018444   0.048897 -0.072849   \n",
       "seats_14.0                    0.011598      -0.005735  -0.003800 -0.024272   \n",
       "owner_First Owner            -0.491934       0.239850  -0.295470  0.166438   \n",
       "owner_Fourth & Above Owner    0.205631      -0.073601   0.089244 -0.072118   \n",
       "owner_Second Owner            0.317328      -0.178786   0.209913 -0.101811   \n",
       "owner_Test Drive Car         -0.032661       0.116081  -0.024168 -0.015644   \n",
       "owner_Third Owner             0.271317      -0.115113   0.148795 -0.097455   \n",
       "fuel_CNG                     -0.029095      -0.033197  -0.005432  0.100821   \n",
       "fuel_Diesel                  -0.037536       0.204831   0.271662  0.060256   \n",
       "fuel_LPG                      0.059887      -0.035978   0.023095 -0.013924   \n",
       "fuel_Petrol                   0.034351      -0.195074  -0.274460 -0.074927   \n",
       "transmission_Automatic       -0.249002       0.590269  -0.201186 -0.178986   \n",
       "transmission_Manual           0.249002      -0.590269   0.201186  0.178986   \n",
       "seller_type_Dealer           -0.214525       0.401803  -0.178725  0.004940   \n",
       "seller_type_Individual        0.243729      -0.386151   0.202851  0.011862   \n",
       "seller_type_Trustmark Dealer -0.100385       0.032779  -0.083181 -0.036248   \n",
       "max_power_scaled             -0.226598       0.749674  -0.038159 -0.374621   \n",
       "year_scaled                   1.000000      -0.412302   0.428548 -0.328544   \n",
       "selling_price_scaled         -0.412302       1.000000  -0.222158 -0.126280   \n",
       "km_driven_scaled              0.428548      -0.222158   1.000000 -0.172980   \n",
       "mileage_scaled               -0.328544      -0.126280  -0.172980  1.000000   \n",
       "engine_scaled                -0.018263       0.455682   0.206031 -0.576408   \n",
       "\n",
       "                                engine  max_power  seats_2.0  seats_4.0  \\\n",
       "year                         -0.018263  -0.226598  -0.022711   0.241042   \n",
       "selling_price                 0.455682   0.749674   0.000991  -0.026217   \n",
       "km_driven                     0.206031  -0.038159  -0.007476  -0.022879   \n",
       "mileage                      -0.576408  -0.374621  -0.076540  -0.029766   \n",
       "engine                        1.000000   0.703975   0.033600  -0.134109   \n",
       "max_power                     0.703975   1.000000  -0.009607  -0.127642   \n",
       "seats_2.0                     0.033600  -0.009607   1.000000  -0.002081   \n",
       "seats_4.0                    -0.134109  -0.127642  -0.002081   1.000000   \n",
       "seats_5.0                    -0.551311  -0.168642  -0.030950  -0.254510   \n",
       "seats_6.0                     0.031206  -0.006576  -0.001414  -0.011629   \n",
       "seats_7.0                     0.502895   0.241873  -0.006462  -0.053141   \n",
       "seats_8.0                     0.229306   0.030309  -0.002784  -0.022895   \n",
       "seats_9.0                     0.192764  -0.026446  -0.001608  -0.013225   \n",
       "seats_10.0                    0.089519  -0.022986  -0.000781  -0.006420   \n",
       "seats_14.0                    0.010922  -0.000499  -0.000179  -0.001471   \n",
       "owner_First Owner            -0.015510   0.114942   0.011427  -0.065861   \n",
       "owner_Fourth & Above Owner   -0.006433  -0.037283  -0.002286   0.051046   \n",
       "owner_Second Owner            0.020809  -0.085206  -0.009306   0.036297   \n",
       "owner_Test Drive Car          0.013954   0.049734  -0.000400  -0.003291   \n",
       "owner_Third Owner            -0.004743  -0.054249  -0.004177   0.033712   \n",
       "fuel_CNG                     -0.059850  -0.069644  -0.001294   0.038025   \n",
       "fuel_Diesel                   0.507383   0.304787   0.014571  -0.119109   \n",
       "fuel_LPG                     -0.056681  -0.060175  -0.001061  -0.008723   \n",
       "fuel_Petrol                  -0.491189  -0.286090  -0.014250   0.114351   \n",
       "transmission_Automatic        0.283206   0.541870  -0.006194  -0.004399   \n",
       "transmission_Manual          -0.283206  -0.541870   0.006194   0.004399   \n",
       "seller_type_Dealer            0.124104   0.297039  -0.006419  -0.024439   \n",
       "seller_type_Individual       -0.132215  -0.286493   0.007196   0.032982   \n",
       "seller_type_Trustmark Dealer  0.038690   0.026493  -0.002790  -0.022945   \n",
       "max_power_scaled              0.703975   1.000000  -0.009607  -0.127642   \n",
       "year_scaled                  -0.018263  -0.226598  -0.022711   0.241042   \n",
       "selling_price_scaled          0.455682   0.749674   0.000991  -0.026217   \n",
       "km_driven_scaled              0.206031  -0.038159  -0.007476  -0.022879   \n",
       "mileage_scaled               -0.576408  -0.374621  -0.076540  -0.029766   \n",
       "engine_scaled                 1.000000   0.703975   0.033600  -0.134109   \n",
       "\n",
       "                              seats_5.0  seats_6.0  ...  transmission_Manual  \\\n",
       "year                          -0.083624  -0.069405  ...             0.249002   \n",
       "selling_price                 -0.047281  -0.007455  ...            -0.590269   \n",
       "km_driven                     -0.196488  -0.040477  ...             0.201186   \n",
       "mileage                        0.458146   0.012921  ...             0.178986   \n",
       "engine                        -0.551311   0.031206  ...            -0.283206   \n",
       "max_power                     -0.168642  -0.006576  ...            -0.541870   \n",
       "seats_2.0                     -0.030950  -0.001414  ...             0.006194   \n",
       "seats_4.0                     -0.254510  -0.011629  ...             0.004399   \n",
       "seats_5.0                      1.000000  -0.172982  ...            -0.072247   \n",
       "seats_6.0                     -0.172982   1.000000  ...             0.034620   \n",
       "seats_7.0                     -0.790453  -0.036118  ...             0.044490   \n",
       "seats_8.0                     -0.340551  -0.015561  ...             0.030712   \n",
       "seats_9.0                     -0.196720  -0.008989  ...             0.039371   \n",
       "seats_10.0                    -0.095498  -0.004364  ...             0.019113   \n",
       "seats_14.0                    -0.021884  -0.001000  ...             0.004380   \n",
       "owner_First Owner              0.058240   0.012417  ...            -0.158941   \n",
       "owner_Fourth & Above Owner    -0.018928  -0.012778  ...             0.040027   \n",
       "owner_Second Owner            -0.051925   0.003916  ...             0.122257   \n",
       "owner_Test Drive Car           0.012929  -0.002237  ...            -0.049722   \n",
       "owner_Third Owner             -0.010680  -0.023346  ...             0.071802   \n",
       "fuel_CNG                       0.022576  -0.007234  ...             0.031686   \n",
       "fuel_Diesel                   -0.310250   0.020978  ...             0.025579   \n",
       "fuel_LPG                       0.034272  -0.005929  ...             0.025967   \n",
       "fuel_Petrol                    0.302680  -0.019055  ...            -0.034257   \n",
       "transmission_Automatic         0.072247  -0.034620  ...            -1.000000   \n",
       "transmission_Manual           -0.072247   0.034620  ...             1.000000   \n",
       "seller_type_Dealer             0.082764  -0.023477  ...            -0.336591   \n",
       "seller_type_Individual        -0.091652   0.028762  ...             0.378698   \n",
       "seller_type_Trustmark Dealer   0.033480  -0.015595  ...            -0.149310   \n",
       "max_power_scaled              -0.168642  -0.006576  ...            -0.541870   \n",
       "year_scaled                   -0.083624  -0.069405  ...             0.249002   \n",
       "selling_price_scaled          -0.047281  -0.007455  ...            -0.590269   \n",
       "km_driven_scaled              -0.196488  -0.040477  ...             0.201186   \n",
       "mileage_scaled                 0.458146   0.012921  ...             0.178986   \n",
       "engine_scaled                 -0.551311   0.031206  ...            -0.283206   \n",
       "\n",
       "                              seller_type_Dealer  seller_type_Individual  \\\n",
       "year                                   -0.214525                0.243729   \n",
       "selling_price                           0.401803               -0.386151   \n",
       "km_driven                              -0.178725                0.202851   \n",
       "mileage                                 0.004940                0.011862   \n",
       "engine                                  0.124104               -0.132215   \n",
       "max_power                               0.297039               -0.286493   \n",
       "seats_2.0                              -0.006419                0.007196   \n",
       "seats_4.0                              -0.024439                0.032982   \n",
       "seats_5.0                               0.082764               -0.091652   \n",
       "seats_6.0                              -0.023477                0.028762   \n",
       "seats_7.0                              -0.052080                0.050476   \n",
       "seats_8.0                              -0.034137                0.045459   \n",
       "seats_9.0                              -0.033513                0.039005   \n",
       "seats_10.0                             -0.019805                0.022203   \n",
       "seats_14.0                             -0.004538                0.005088   \n",
       "owner_First Owner                       0.212159               -0.229695   \n",
       "owner_Fourth & Above Owner             -0.057993                0.065014   \n",
       "owner_Second Owner                     -0.159130                0.168052   \n",
       "owner_Test Drive Car                    0.062344               -0.055611   \n",
       "owner_Third Owner                      -0.100024                0.113304   \n",
       "fuel_CNG                               -0.032833                0.036808   \n",
       "fuel_Diesel                             0.065171                0.003567   \n",
       "fuel_LPG                               -0.021417                0.025092   \n",
       "fuel_Petrol                            -0.057113               -0.012914   \n",
       "transmission_Automatic                  0.336591               -0.378698   \n",
       "transmission_Manual                    -0.336591                0.378698   \n",
       "seller_type_Dealer                      1.000000               -0.891999   \n",
       "seller_type_Individual                 -0.891999                1.000000   \n",
       "seller_type_Trustmark Dealer           -0.070780               -0.387768   \n",
       "max_power_scaled                        0.297039               -0.286493   \n",
       "year_scaled                            -0.214525                0.243729   \n",
       "selling_price_scaled                    0.401803               -0.386151   \n",
       "km_driven_scaled                       -0.178725                0.202851   \n",
       "mileage_scaled                          0.004940                0.011862   \n",
       "engine_scaled                           0.124104               -0.132215   \n",
       "\n",
       "                              seller_type_Trustmark Dealer  max_power_scaled  \\\n",
       "year                                             -0.100385         -0.226598   \n",
       "selling_price                                     0.032779          0.749674   \n",
       "km_driven                                        -0.083181         -0.038159   \n",
       "mileage                                          -0.036248         -0.374621   \n",
       "engine                                            0.038690          0.703975   \n",
       "max_power                                         0.026493          1.000000   \n",
       "seats_2.0                                        -0.002790         -0.009607   \n",
       "seats_4.0                                        -0.022945         -0.127642   \n",
       "seats_5.0                                         0.033480         -0.168642   \n",
       "seats_6.0                                        -0.015595         -0.006576   \n",
       "seats_7.0                                        -0.005186          0.241873   \n",
       "seats_8.0                                        -0.030702          0.030309   \n",
       "seats_9.0                                        -0.017735         -0.026446   \n",
       "seats_10.0                                       -0.008610         -0.022986   \n",
       "seats_14.0                                       -0.001973         -0.000499   \n",
       "owner_First Owner                                 0.074240          0.114942   \n",
       "owner_Fourth & Above Owner                       -0.025210         -0.037283   \n",
       "owner_Second Owner                               -0.046348         -0.085206   \n",
       "owner_Test Drive Car                             -0.004413          0.049734   \n",
       "owner_Third Owner                                -0.046062         -0.054249   \n",
       "fuel_CNG                                         -0.014273         -0.069644   \n",
       "fuel_Diesel                                      -0.140763          0.304787   \n",
       "fuel_LPG                                         -0.011697         -0.060175   \n",
       "fuel_Petrol                                       0.144956         -0.286090   \n",
       "transmission_Automatic                            0.149310          0.541870   \n",
       "transmission_Manual                              -0.149310         -0.541870   \n",
       "seller_type_Dealer                               -0.070780          0.297039   \n",
       "seller_type_Individual                           -0.387768         -0.286493   \n",
       "seller_type_Trustmark Dealer                      1.000000          0.026493   \n",
       "max_power_scaled                                  0.026493          1.000000   \n",
       "year_scaled                                      -0.100385         -0.226598   \n",
       "selling_price_scaled                              0.032779          0.749674   \n",
       "km_driven_scaled                                 -0.083181         -0.038159   \n",
       "mileage_scaled                                   -0.036248         -0.374621   \n",
       "engine_scaled                                     0.038690          0.703975   \n",
       "\n",
       "                              year_scaled  selling_price_scaled  \\\n",
       "year                             1.000000             -0.412302   \n",
       "selling_price                   -0.412302              1.000000   \n",
       "km_driven                        0.428548             -0.222158   \n",
       "mileage                         -0.328544             -0.126280   \n",
       "engine                          -0.018263              0.455682   \n",
       "max_power                       -0.226598              0.749674   \n",
       "seats_2.0                       -0.022711              0.000991   \n",
       "seats_4.0                        0.241042             -0.026217   \n",
       "seats_5.0                       -0.083624             -0.047281   \n",
       "seats_6.0                       -0.069405             -0.007455   \n",
       "seats_7.0                       -0.024128              0.081453   \n",
       "seats_8.0                        0.081783             -0.013760   \n",
       "seats_9.0                        0.017571             -0.018610   \n",
       "seats_10.0                       0.043257             -0.018444   \n",
       "seats_14.0                       0.011598             -0.005735   \n",
       "owner_First Owner               -0.491934              0.239850   \n",
       "owner_Fourth & Above Owner       0.205631             -0.073601   \n",
       "owner_Second Owner               0.317328             -0.178786   \n",
       "owner_Test Drive Car            -0.032661              0.116081   \n",
       "owner_Third Owner                0.271317             -0.115113   \n",
       "fuel_CNG                        -0.029095             -0.033197   \n",
       "fuel_Diesel                     -0.037536              0.204831   \n",
       "fuel_LPG                         0.059887             -0.035978   \n",
       "fuel_Petrol                      0.034351             -0.195074   \n",
       "transmission_Automatic          -0.249002              0.590269   \n",
       "transmission_Manual              0.249002             -0.590269   \n",
       "seller_type_Dealer              -0.214525              0.401803   \n",
       "seller_type_Individual           0.243729             -0.386151   \n",
       "seller_type_Trustmark Dealer    -0.100385              0.032779   \n",
       "max_power_scaled                -0.226598              0.749674   \n",
       "year_scaled                      1.000000             -0.412302   \n",
       "selling_price_scaled            -0.412302              1.000000   \n",
       "km_driven_scaled                 0.428548             -0.222158   \n",
       "mileage_scaled                  -0.328544             -0.126280   \n",
       "engine_scaled                   -0.018263              0.455682   \n",
       "\n",
       "                              km_driven_scaled  mileage_scaled  engine_scaled  \n",
       "year                                  0.428548       -0.328544      -0.018263  \n",
       "selling_price                        -0.222158       -0.126280       0.455682  \n",
       "km_driven                             1.000000       -0.172980       0.206031  \n",
       "mileage                              -0.172980        1.000000      -0.576408  \n",
       "engine                                0.206031       -0.576408       1.000000  \n",
       "max_power                            -0.038159       -0.374621       0.703975  \n",
       "seats_2.0                            -0.007476       -0.076540       0.033600  \n",
       "seats_4.0                            -0.022879       -0.029766      -0.134109  \n",
       "seats_5.0                            -0.196488        0.458146      -0.551311  \n",
       "seats_6.0                            -0.040477        0.012921       0.031206  \n",
       "seats_7.0                             0.152927       -0.361814       0.502895  \n",
       "seats_8.0                             0.137468       -0.236530       0.229306  \n",
       "seats_9.0                             0.074864       -0.121738       0.192764  \n",
       "seats_10.0                            0.048897       -0.072849       0.089519  \n",
       "seats_14.0                           -0.003800       -0.024272       0.010922  \n",
       "owner_First Owner                    -0.295470        0.166438      -0.015510  \n",
       "owner_Fourth & Above Owner            0.089244       -0.072118      -0.006433  \n",
       "owner_Second Owner                    0.209913       -0.101811       0.020809  \n",
       "owner_Test Drive Car                 -0.024168       -0.015644       0.013954  \n",
       "owner_Third Owner                     0.148795       -0.097455      -0.004743  \n",
       "fuel_CNG                             -0.005432        0.100821      -0.059850  \n",
       "fuel_Diesel                           0.271662        0.060256       0.507383  \n",
       "fuel_LPG                              0.023095       -0.013924      -0.056681  \n",
       "fuel_Petrol                          -0.274460       -0.074927      -0.491189  \n",
       "transmission_Automatic               -0.201186       -0.178986       0.283206  \n",
       "transmission_Manual                   0.201186        0.178986      -0.283206  \n",
       "seller_type_Dealer                   -0.178725        0.004940       0.124104  \n",
       "seller_type_Individual                0.202851        0.011862      -0.132215  \n",
       "seller_type_Trustmark Dealer         -0.083181       -0.036248       0.038690  \n",
       "max_power_scaled                     -0.038159       -0.374621       0.703975  \n",
       "year_scaled                           0.428548       -0.328544      -0.018263  \n",
       "selling_price_scaled                 -0.222158       -0.126280       0.455682  \n",
       "km_driven_scaled                      1.000000       -0.172980       0.206031  \n",
       "mileage_scaled                       -0.172980        1.000000      -0.576408  \n",
       "engine_scaled                         0.206031       -0.576408       1.000000  \n",
       "\n",
       "[35 rows x 35 columns]"
      ]
     },
     "execution_count": 53,
     "metadata": {},
     "output_type": "execute_result"
    }
   ],
   "source": [
    "#Check Correlation\n",
    "#2nd time since the new columns are added - one-hot columns \n",
    "\n",
    "df_corr_2 = df.corr(method= \"pearson\")\n",
    "df_corr_2"
   ]
  },
  {
   "cell_type": "code",
   "execution_count": 54,
   "metadata": {},
   "outputs": [
    {
     "data": {
      "text/plain": [
       "<matplotlib.axes._subplots.AxesSubplot at 0x1a1be93890>"
      ]
     },
     "execution_count": 54,
     "metadata": {},
     "output_type": "execute_result"
    },
    {
     "data": {
      "image/png": "[encoded data removed]",
      "text/plain": [
       "<Figure size 432x288 with 2 Axes>"
      ]
     },
     "metadata": {
      "needs_background": "light"
     },
     "output_type": "display_data"
    }
   ],
   "source": [
    "#Correlation Heatmap\n",
    "#2nd time since the new columns are added - one-hot columns\n",
    "\n",
    "sns.heatmap(df_corr_2)\n",
    "\n",
    "#Selling price is the most correlated with engine and max_power based on the preliminary observation."
   ]
  },
  {
   "cell_type": "code",
   "execution_count": 55,
   "metadata": {},
   "outputs": [],
   "source": [
    "#Identify which variables to be used for each 3 sets\n",
    "\n",
    "y_1 = df.iloc[:,32].values #dependent variable\n",
    "x_1 = df.iloc[:,[30,31,35, 25, 26]].values \n",
    "#independent variables - only numerical case: max_power, year, engine, transmission\n",
    "\n",
    "y_2 = df.iloc[:,32].values #dependent variable\n",
    "x_2 = df.iloc[:,[33,35,7,8,9,10,11,12,13,14,15,21,22,23,24]].values\n",
    "#inindependent variables - numerical + categorical: km_driven, engine, seats, fuel\n",
    "\n",
    "y_3 = df.iloc[:,32].values #dependent variable\n",
    "x_3 = df.iloc[:,[31,34,16,17,18,19,20,25,26,27,28,29]].values\n",
    "#independent variables - numerical + categorical: year, mileage, owner_type, transmission, seller_type\n",
    "\n",
    "#scaler = MinMaxScaler(feature_range = (0,1))\n",
    "#df = scaler.fit_transform(df[2])\n"
   ]
  },
  {
   "cell_type": "code",
   "execution_count": 56,
   "metadata": {},
   "outputs": [],
   "source": [
    "#Experimental trial on which variables to be taken as independent based on correlation results and exploration of the data\n",
    "\n",
    "y_4 = df.iloc[:,32].values #dependent variable\n",
    "x_4 = df.iloc[:,[31,33,34,35]].values \n",
    "#independent variables - only numerical case: year, km_driven, mileage, engine\n"
   ]
  },
  {
   "cell_type": "code",
   "execution_count": 57,
   "metadata": {},
   "outputs": [],
   "source": [
    "#Split Training & Test Sets\n",
    "\n",
    "x_4_train, x_4_test, y_4_train, y_4_test = train_test_split(x_4, y_4, test_size=0.2, random_state=142)\n"
   ]
  },
  {
   "cell_type": "code",
   "execution_count": 58,
   "metadata": {},
   "outputs": [],
   "source": [
    "#Fit the training data to the model for Set #4\n",
    "\n",
    "model_4 = LinearRegression()\n"
   ]
  },
  {
   "cell_type": "code",
   "execution_count": 59,
   "metadata": {},
   "outputs": [
    {
     "data": {
      "text/plain": [
       "LinearRegression(copy_X=True, fit_intercept=True, n_jobs=None, normalize=False)"
      ]
     },
     "execution_count": 59,
     "metadata": {},
     "output_type": "execute_result"
    }
   ],
   "source": [
    "#dependent variables - only numerical case: year, km__driven, mileage, engine\n",
    "\n",
    "model_4.fit(x_4_train, y_4_train)"
   ]
  },
  {
   "cell_type": "code",
   "execution_count": 60,
   "metadata": {},
   "outputs": [
    {
     "name": "stdout",
     "output_type": "stream",
     "text": [
      "0.3474801832839849\n"
     ]
    }
   ],
   "source": [
    "#Experimental Score Not Satisfactory: model 1 is higher\n",
    "\n",
    "score_4 = model_4.score(x_4_test, y_4_test)\n",
    "print(score_4)"
   ]
  },
  {
   "cell_type": "code",
   "execution_count": 61,
   "metadata": {},
   "outputs": [
    {
     "data": {
      "text/plain": [
       "array([0.09811871, 0.05675628, 0.14168968, ..., 0.04568361, 0.07846747,\n",
       "       0.15485252])"
      ]
     },
     "execution_count": 61,
     "metadata": {},
     "output_type": "execute_result"
    }
   ],
   "source": [
    "# Predict the values by using all test data #1\n",
    "y_4_pred = model_4.predict(x_4_test)\n",
    "y_4_pred"
   ]
  },
  {
   "cell_type": "code",
   "execution_count": 62,
   "metadata": {},
   "outputs": [
    {
     "name": "stdout",
     "output_type": "stream",
     "text": [
      "0.005246077999307379\n"
     ]
    }
   ],
   "source": [
    "# Calculate mean squared error of predicted values #4\n",
    "mse_4 = mean_squared_error(y_4_test, y_4_pred)\n",
    "print(mse_4)"
   ]
  },
  {
   "cell_type": "code",
   "execution_count": 63,
   "metadata": {},
   "outputs": [],
   "source": [
    "#Experimental trial on which variables to be taken as independent based on correlation results and exploration of the data\n",
    "#Model 5\n",
    "\n",
    "y_5 = df.iloc[:,32].values #dependent variable\n",
    "x_5 = df.iloc[:,[30,33,34,35]].values \n",
    "#independent variables - only numerical case: max_power, km_driven, mileage, engine\n"
   ]
  },
  {
   "cell_type": "code",
   "execution_count": 64,
   "metadata": {},
   "outputs": [],
   "source": [
    "#Split Training & Test Sets\n",
    "\n",
    "x_5_train, x_5_test, y_5_train, y_5_test = train_test_split(x_5, y_5, test_size=0.2, random_state=142)\n"
   ]
  },
  {
   "cell_type": "code",
   "execution_count": 65,
   "metadata": {},
   "outputs": [],
   "source": [
    "#Fit the training data to the model for Set #5\n",
    "\n",
    "model_5 = LinearRegression()\n"
   ]
  },
  {
   "cell_type": "code",
   "execution_count": 66,
   "metadata": {},
   "outputs": [
    {
     "data": {
      "text/plain": [
       "LinearRegression(copy_X=True, fit_intercept=True, n_jobs=None, normalize=False)"
      ]
     },
     "execution_count": 66,
     "metadata": {},
     "output_type": "execute_result"
    }
   ],
   "source": [
    "#dependent variables - only numerical case: max_power, km__driven, mileage, engine\n",
    "\n",
    "model_5.fit(x_5_train, y_5_train)\n"
   ]
  },
  {
   "cell_type": "code",
   "execution_count": 67,
   "metadata": {},
   "outputs": [
    {
     "name": "stdout",
     "output_type": "stream",
     "text": [
      "0.5843579171161487\n"
     ]
    }
   ],
   "source": [
    "#Experimental Score Not Satisfactory: model 1 is higher\n",
    "\n",
    "score_5 = model_5.score(x_5_test, y_5_test)\n",
    "print(score_5)"
   ]
  },
  {
   "cell_type": "code",
   "execution_count": 68,
   "metadata": {},
   "outputs": [
    {
     "data": {
      "text/plain": [
       "array([0.1340479 , 0.06187498, 0.01107015, ..., 0.06493868, 0.09391981,\n",
       "       0.24458145])"
      ]
     },
     "execution_count": 68,
     "metadata": {},
     "output_type": "execute_result"
    }
   ],
   "source": [
    "# Predict the values by using all test data #5\n",
    "y_5_pred = model_5.predict(x_5_test)\n",
    "y_5_pred"
   ]
  },
  {
   "cell_type": "code",
   "execution_count": 69,
   "metadata": {},
   "outputs": [
    {
     "name": "stdout",
     "output_type": "stream",
     "text": [
      "0.003341646844653982\n"
     ]
    }
   ],
   "source": [
    "# Calculate mean squared error of predicted values #5\n",
    "mse_5 = mean_squared_error(y_5_test, y_5_pred)\n",
    "print(mse_5)"
   ]
  },
  {
   "cell_type": "code",
   "execution_count": 70,
   "metadata": {},
   "outputs": [],
   "source": [
    "#Experimental trial on which variables to be taken as independent based on correlation results and exploration of the data\n",
    "#Model 6\n",
    "#Max_power, engine, year, transmission\n",
    "\n",
    "y_6 = df.iloc[:,32].values #dependent variable\n",
    "x_6 = df.iloc[:,[30,31,35, 34]].values \n",
    "#independent variables - only numerical case: max_power, year, engine, mileage \n",
    "\n",
    "\n",
    "\n"
   ]
  },
  {
   "cell_type": "code",
   "execution_count": 71,
   "metadata": {},
   "outputs": [],
   "source": [
    "#Split Training & Test Sets\n",
    "\n",
    "x_6_train, x_6_test, y_6_train, y_6_test = train_test_split(x_6, y_6, test_size=0.2, random_state=142)\n"
   ]
  },
  {
   "cell_type": "code",
   "execution_count": 72,
   "metadata": {},
   "outputs": [],
   "source": [
    "#Fit the training data to the model for Set #6\n",
    "\n",
    "model_6 = LinearRegression()\n"
   ]
  },
  {
   "cell_type": "code",
   "execution_count": 73,
   "metadata": {},
   "outputs": [
    {
     "data": {
      "text/plain": [
       "LinearRegression(copy_X=True, fit_intercept=True, n_jobs=None, normalize=False)"
      ]
     },
     "execution_count": 73,
     "metadata": {},
     "output_type": "execute_result"
    }
   ],
   "source": [
    "#dependent variables - only numerical case: max_power, year, engine, transmission\n",
    "\n",
    "model_6.fit(x_6_train, y_6_train)\n"
   ]
  },
  {
   "cell_type": "code",
   "execution_count": 74,
   "metadata": {},
   "outputs": [
    {
     "name": "stdout",
     "output_type": "stream",
     "text": [
      "0.6210179190261755\n"
     ]
    }
   ],
   "source": [
    "#Experimental Score Not Satisfactory: model 1 is higher\n",
    "\n",
    "score_6 = model_6.score(x_6_test, y_6_test)\n",
    "print(score_6)"
   ]
  },
  {
   "cell_type": "code",
   "execution_count": 75,
   "metadata": {},
   "outputs": [
    {
     "data": {
      "text/plain": [
       "array([ 0.13643845,  0.0435142 , -0.0028891 , ...,  0.05521508,\n",
       "        0.0842    ,  0.24378149])"
      ]
     },
     "execution_count": 75,
     "metadata": {},
     "output_type": "execute_result"
    }
   ],
   "source": [
    "# Predict the values by using all test data #6\n",
    "y_6_pred = model_6.predict(x_6_test)\n",
    "y_6_pred"
   ]
  },
  {
   "cell_type": "code",
   "execution_count": 76,
   "metadata": {},
   "outputs": [
    {
     "name": "stdout",
     "output_type": "stream",
     "text": [
      "0.003341646844653982\n"
     ]
    }
   ],
   "source": [
    "# Calculate mean squared error of predicted values #5\n",
    "mse_6 = mean_squared_error(y_6_test, y_5_pred)\n",
    "print(mse_6)"
   ]
  },
  {
   "cell_type": "code",
   "execution_count": 77,
   "metadata": {},
   "outputs": [],
   "source": [
    "#Split Training & Test Sets\n",
    "\n",
    "#1\n",
    "x_1_train, x_1_test, y_1_train, y_1_test = train_test_split(x_1, y_1, test_size=0.2, random_state=142)\n",
    "#2\n",
    "x_2_train, x_2_test, y_2_train, y_2_test = train_test_split(x_2, y_2, test_size=0.2, random_state=142)\n",
    "#3\n",
    "x_3_train, x_3_test, y_3_train, y_3_test = train_test_split(x_3, y_3, test_size=0.2, random_state=142)\n"
   ]
  },
  {
   "cell_type": "code",
   "execution_count": 78,
   "metadata": {},
   "outputs": [
    {
     "name": "stdout",
     "output_type": "stream",
     "text": [
      "x_1_train:  (6324, 5)\n",
      "x_1_test:  (1582, 5)\n",
      "y_1_train:  (6324,)\n",
      "y_1_test:  (1582,) \n",
      "\n",
      "[[0.02118192 0.39395973 0.         ... 0.         0.         1.        ]\n",
      " [0.02253336 0.20939597 0.         ... 1.         0.         0.        ]\n",
      " [0.02965486 0.63724832 0.         ... 1.         0.         0.        ]\n",
      " ...\n",
      " [0.02118192 0.20939597 0.         ... 1.         0.         0.        ]\n",
      " [0.02541839 0.29328859 0.         ... 1.         0.         0.        ]\n",
      " [0.00317693 0.46006711 0.         ... 1.         0.         0.        ]]\n"
     ]
    }
   ],
   "source": [
    "# Print the number of instances in training & test set\n",
    "\n",
    "print(\"x_1_train: \", x_1_train.shape)\n",
    "print(\"x_1_test: \",x_1_test.shape)\n",
    "print(\"y_1_train: \",y_1_train.shape)\n",
    "print(\"y_1_test: \",y_1_test.shape, \"\\n\")\n",
    "\n",
    "print(x_2_test)"
   ]
  },
  {
   "cell_type": "code",
   "execution_count": 79,
   "metadata": {},
   "outputs": [],
   "source": [
    "#Initialize the linear regression model\n",
    "\n",
    "model_1 = LinearRegression()\n",
    "model_2 = LinearRegression(fit_intercept=False)\n",
    "model_3 = LinearRegression(fit_intercept=False)\n",
    "\n",
    "#In order to escape from the dummy variable trap; where dependent categorical variables are multicollinear;\n",
    "#The intercept column is dropped as a precaution."
   ]
  },
  {
   "cell_type": "code",
   "execution_count": 80,
   "metadata": {},
   "outputs": [
    {
     "name": "stdout",
     "output_type": "stream",
     "text": [
      "[ 0.50573195 -0.12072124 -0.01721687  0.02415591 -0.02415591]\n"
     ]
    }
   ],
   "source": [
    "#Fit the training data to the model for Set1\n",
    "#dependent variables - only numerical case: max_power, km__driven, mileage, engine\n",
    "\n",
    "model_1.fit(x_1_train, y_1_train)\n",
    "print(model_1.coef_)"
   ]
  },
  {
   "cell_type": "code",
   "execution_count": 81,
   "metadata": {},
   "outputs": [
    {
     "name": "stdout",
     "output_type": "stream",
     "text": [
      "y = x_1*0.5057319488978952+x_2*-0.12072123808077749+x_3*-0.017216867651758953+x_4*0.024155910436597764+x_5*-0.024155910436598028+0.031227817131498675\n"
     ]
    }
   ],
   "source": [
    "#Print the general formula of our linear regression model #1\n",
    "\n",
    "_str_1 = \"y = \"\n",
    "for i, m in enumerate(model_1.coef_):\n",
    "    _str_1 += \"x_{}*{}+\".format(i+1, m)\n",
    "_str_1 += str(model_1.intercept_)\n",
    "print(_str_1)\n"
   ]
  },
  {
   "cell_type": "code",
   "execution_count": 82,
   "metadata": {},
   "outputs": [
    {
     "name": "stdout",
     "output_type": "stream",
     "text": [
      "[-1.27382539  0.33195085 -0.08958293  0.08935041  0.05527244  0.00270791\n",
      " -0.0035528  -0.0144827  -0.05849914 -0.06205764 -0.06817468 -0.04276506\n",
      " -0.03176566 -0.02962077 -0.04486764]\n"
     ]
    }
   ],
   "source": [
    "#Fit the training data to the model for Set #2\n",
    "#dependent variables - numerical + categorical: km_driven, engine, seats, fuel\n",
    "\n",
    "model_2.fit(x_2_train, y_2_train)\n",
    "print(model_2.coef_)"
   ]
  },
  {
   "cell_type": "code",
   "execution_count": 83,
   "metadata": {},
   "outputs": [
    {
     "name": "stdout",
     "output_type": "stream",
     "text": [
      "y = x_1*-1.2738253912556041 + x_2*0.3319508454343812 + x_3*-0.08958292713617969 + x_4*0.08935041357538881 + x_5*0.05527243904202613 + x_6*0.002707909914017033 + x_7*-0.0035527994660701796 + x_8*-0.014482696496453961 + x_9*-0.05849914345452442 + x_10*-0.06205764450793282 + x_11*-0.06817468262662417 + x_12*-0.04276506279138059 + x_13*-0.031765662361412664 + x_14*-0.0296207676816803 + x_15*-0.04486763832187965 + 0.0\n"
     ]
    }
   ],
   "source": [
    "#Print the general formula of our linear regression model #2\n",
    "\n",
    "_str_2 = \"y = \"\n",
    "for i, m in enumerate(model_2.coef_):\n",
    "    _str_2 += \"x_{}*{} + \".format(i+1, m)\n",
    "_str_2 += str(model_2.intercept_)\n",
    "print(_str_2)\n"
   ]
  },
  {
   "cell_type": "code",
   "execution_count": 84,
   "metadata": {},
   "outputs": [
    {
     "name": "stdout",
     "output_type": "stream",
     "text": [
      "[-0.17180771 -0.13400081 -0.00981649 -0.00601252 -0.01252912  0.29054539\n",
      " -0.01052545  0.1744974   0.07716441  0.11914872  0.07847075  0.05404234]\n"
     ]
    }
   ],
   "source": [
    "#Fit the training data to the model for Set #3\n",
    "#dependent variables - numerical + categorical: year, mileage, owner_type, transmission, seller_type\n",
    "\n",
    "model_3.fit(x_3_train, y_3_train)\n",
    "print(model_3.coef_)"
   ]
  },
  {
   "cell_type": "code",
   "execution_count": 85,
   "metadata": {},
   "outputs": [
    {
     "name": "stdout",
     "output_type": "stream",
     "text": [
      "y = x_1*-0.1718077063126107 + x_2*-0.13400080662407537 + x_3*-0.00981649421672407 + x_4*-0.006012515976332863 + x_5*-0.01252911791103801 + x_6*0.290545387789146 + x_7*-0.01052545107890477 + x_8*0.17449740350060994 + x_9*0.07716440510553582 + x_10*0.11914871593538952 + x_11*0.0784707500890458 + x_12*0.054042342581710624 + 0.0\n"
     ]
    }
   ],
   "source": [
    "#Print the general formula of our linear regression model #3\n",
    "\n",
    "_str_3 = \"y = \"\n",
    "for i, m in enumerate(model_3.coef_):\n",
    "    _str_3 += \"x_{}*{} + \".format(i+1, m)\n",
    "_str_3 += str(model_3.intercept_)\n",
    "print(_str_3)\n"
   ]
  },
  {
   "cell_type": "code",
   "execution_count": 86,
   "metadata": {},
   "outputs": [
    {
     "name": "stdout",
     "output_type": "stream",
     "text": [
      "0.6577181259209612\n"
     ]
    }
   ],
   "source": [
    "# Calculate the score of the model in test data #1\n",
    "#Returns the coefficient of determination R^2 of the prediction\n",
    "\n",
    "score_1 = model_1.score(x_1_test, y_1_test)\n",
    "print(score_1)"
   ]
  },
  {
   "cell_type": "code",
   "execution_count": 87,
   "metadata": {},
   "outputs": [
    {
     "name": "stdout",
     "output_type": "stream",
     "text": [
      "0.28682654897522253\n"
     ]
    }
   ],
   "source": [
    "# Calculate the score of the model in test data #2\n",
    "#Returns the coefficient of determination R^2 of the prediction\n",
    "\n",
    "score_2 = model_2.score(x_2_test, y_2_test)\n",
    "print(score_2)"
   ]
  },
  {
   "cell_type": "code",
   "execution_count": 88,
   "metadata": {},
   "outputs": [
    {
     "name": "stdout",
     "output_type": "stream",
     "text": [
      "0.4989777557204155\n"
     ]
    }
   ],
   "source": [
    "# Calculate the score of the model in test data #3\n",
    "#Returns the coefficient of determination R^2 of the prediction\n",
    "\n",
    "score_3 = model_3.score(x_3_test, y_3_test)\n",
    "print(score_3)"
   ]
  },
  {
   "cell_type": "code",
   "execution_count": 89,
   "metadata": {},
   "outputs": [
    {
     "data": {
      "text/plain": [
       "array([0.1220032 , 0.03235136, 0.0039525 , ..., 0.04809177, 0.06943085,\n",
       "       0.25932585])"
      ]
     },
     "execution_count": 89,
     "metadata": {},
     "output_type": "execute_result"
    }
   ],
   "source": [
    "# Predict the values by using all test data #1\n",
    "y_1_pred = model_1.predict(x_1_test)\n",
    "y_1_pred"
   ]
  },
  {
   "cell_type": "code",
   "execution_count": 90,
   "metadata": {},
   "outputs": [
    {
     "name": "stdout",
     "output_type": "stream",
     "text": [
      "0.0027518511517470555\n"
     ]
    }
   ],
   "source": [
    "# Calculate mean squared error of predicted values #1\n",
    "mse_1 = mean_squared_error(y_1_test, y_1_pred)\n",
    "print(mse_1)"
   ]
  },
  {
   "cell_type": "code",
   "execution_count": 91,
   "metadata": {},
   "outputs": [
    {
     "name": "stdout",
     "output_type": "stream",
     "text": [
      "0.05245808947862146\n"
     ]
    }
   ],
   "source": [
    "#Calculate the root mean squared error of predicted values #1\n",
    "rmse_1 = (mean_squared_error(y_1_test, y_1_pred))**(0.5)\n",
    "print(rmse_1)"
   ]
  },
  {
   "cell_type": "code",
   "execution_count": 92,
   "metadata": {},
   "outputs": [
    {
     "name": "stdout",
     "output_type": "stream",
     "text": [
      "0.029483039497336758\n"
     ]
    }
   ],
   "source": [
    "#Calculate absolute squared error of predicted values #1\n",
    "mae_1 = mean_absolute_error(y_1_test, y_1_pred)\n",
    "print(mae_1)"
   ]
  },
  {
   "cell_type": "code",
   "execution_count": 93,
   "metadata": {},
   "outputs": [
    {
     "data": {
      "text/plain": [
       "array([0.11419799, 0.06431238, 0.13844154, ..., 0.00720864, 0.08848558,\n",
       "       0.17217959])"
      ]
     },
     "execution_count": 93,
     "metadata": {},
     "output_type": "execute_result"
    }
   ],
   "source": [
    "# Predict the values by using all test data #2\n",
    "y_2_pred = model_2.predict(x_2_test)\n",
    "y_2_pred"
   ]
  },
  {
   "cell_type": "code",
   "execution_count": 94,
   "metadata": {},
   "outputs": [
    {
     "name": "stdout",
     "output_type": "stream",
     "text": [
      "0.005733716364264065\n"
     ]
    }
   ],
   "source": [
    "# Calculate mean squared error of predicted values #2\n",
    "mse_2 = mean_squared_error(y_2_test, y_2_pred)\n",
    "print(mse_2)"
   ]
  },
  {
   "cell_type": "code",
   "execution_count": 95,
   "metadata": {},
   "outputs": [
    {
     "name": "stdout",
     "output_type": "stream",
     "text": [
      "0.07572130720123672\n"
     ]
    }
   ],
   "source": [
    "#Calculate the root mean squared error of predicted values #2\n",
    "rmse_2 = (mean_squared_error(y_2_test, y_2_pred))**(0.5)\n",
    "print(rmse_2)"
   ]
  },
  {
   "cell_type": "code",
   "execution_count": 96,
   "metadata": {},
   "outputs": [
    {
     "name": "stdout",
     "output_type": "stream",
     "text": [
      "0.03894436042943527\n"
     ]
    }
   ],
   "source": [
    "#Calculate absolute squared error of predicted values #2\n",
    "mae_2 = mean_absolute_error(y_2_test, y_2_pred)\n",
    "print(mae_2)"
   ]
  },
  {
   "cell_type": "code",
   "execution_count": 97,
   "metadata": {},
   "outputs": [
    {
     "data": {
      "text/plain": [
       "array([0.06721844, 0.05623863, 0.04864243, ..., 0.03058353, 0.03269728,\n",
       "       0.22368512])"
      ]
     },
     "execution_count": 97,
     "metadata": {},
     "output_type": "execute_result"
    }
   ],
   "source": [
    "# Predict the values by using all test data #3\n",
    "y_3_pred = model_3.predict(x_3_test)\n",
    "y_3_pred"
   ]
  },
  {
   "cell_type": "code",
   "execution_count": 98,
   "metadata": {},
   "outputs": [
    {
     "name": "stdout",
     "output_type": "stream",
     "text": [
      "0.004028079616197541\n"
     ]
    }
   ],
   "source": [
    "# Calculate mean squared error of predicted values #3\n",
    "mse_3 = mean_squared_error(y_3_test, y_3_pred)\n",
    "print(mse_3)"
   ]
  },
  {
   "cell_type": "code",
   "execution_count": 99,
   "metadata": {},
   "outputs": [
    {
     "name": "stdout",
     "output_type": "stream",
     "text": [
      "0.06346715383722151\n"
     ]
    }
   ],
   "source": [
    "#Calculate the root mean squared error of predicted values #3\n",
    "rmse_3 = (mean_squared_error(y_3_test, y_3_pred))**(0.5)\n",
    "print(rmse_3)"
   ]
  },
  {
   "cell_type": "code",
   "execution_count": 100,
   "metadata": {},
   "outputs": [
    {
     "name": "stdout",
     "output_type": "stream",
     "text": [
      "0.032829076515161426\n"
     ]
    }
   ],
   "source": [
    "#Calculate absolute squared error of predicted values #3\n",
    "mae_3 = mean_absolute_error(y_3_test, y_3_pred)\n",
    "print(mae_3)"
   ]
  },
  {
   "cell_type": "code",
   "execution_count": 101,
   "metadata": {},
   "outputs": [
    {
     "data": {
      "text/plain": [
       "'Predicted #1: 0.03235136171772934, Actual: 0.042126475212991454'"
      ]
     },
     "execution_count": 101,
     "metadata": {},
     "output_type": "execute_result"
    }
   ],
   "source": [
    "# Print the predicted and the actual value of the first row in test set: case #1\n",
    "\"Predicted #1: {}, Actual: {}\".format(y_1_pred[1], y_1_test[1])"
   ]
  },
  {
   "cell_type": "code",
   "execution_count": 102,
   "metadata": {},
   "outputs": [
    {
     "data": {
      "text/plain": [
       "'Predicted #2: 0.06431238347834864, Actual: 0.042126475212991454'"
      ]
     },
     "execution_count": 102,
     "metadata": {},
     "output_type": "execute_result"
    }
   ],
   "source": [
    "# Print the predicted and the actual value of the first row in test set: case #2\n",
    "\"Predicted #2: {}, Actual: {}\".format(y_2_pred[1], y_2_test[1])"
   ]
  },
  {
   "cell_type": "code",
   "execution_count": 103,
   "metadata": {},
   "outputs": [
    {
     "data": {
      "text/plain": [
       "'Predicted #3: 0.05623862535717274, Actual: 0.042126475212991454'"
      ]
     },
     "execution_count": 103,
     "metadata": {},
     "output_type": "execute_result"
    }
   ],
   "source": [
    "# Print the predicted and the actual value of the first row in test set: case #3\n",
    "\"Predicted #3: {}, Actual: {}\".format(y_3_pred[1], y_3_test[1])"
   ]
  },
  {
   "cell_type": "code",
   "execution_count": 104,
   "metadata": {},
   "outputs": [
    {
     "name": "stdout",
     "output_type": "stream",
     "text": [
      "0.031227817131498675 [ 0.50573195 -0.12072124 -0.01721687  0.02415591 -0.02415591]\n"
     ]
    }
   ],
   "source": [
    "#Intercept & Slope Values: #1\n",
    "#Slope values for each feature is represented\n",
    "\n",
    "model_1.intercept_\n",
    "model_1.coef_\n",
    "\n",
    "print(model_1.intercept_, model_1.coef_)"
   ]
  },
  {
   "cell_type": "code",
   "execution_count": 105,
   "metadata": {},
   "outputs": [
    {
     "name": "stdout",
     "output_type": "stream",
     "text": [
      "0.0 [-1.27382539  0.33195085 -0.08958293  0.08935041  0.05527244  0.00270791\n",
      " -0.0035528  -0.0144827  -0.05849914 -0.06205764 -0.06817468 -0.04276506\n",
      " -0.03176566 -0.02962077 -0.04486764]\n"
     ]
    }
   ],
   "source": [
    "#Intercept & Slope Values: #2\n",
    "#Slope values for each feature is represented\n",
    "\n",
    "model_2.intercept_\n",
    "model_2.coef_\n",
    "\n",
    "print(model_2.intercept_, model_2.coef_)"
   ]
  },
  {
   "cell_type": "code",
   "execution_count": 106,
   "metadata": {},
   "outputs": [
    {
     "name": "stdout",
     "output_type": "stream",
     "text": [
      "0.0 [-0.17180771 -0.13400081 -0.00981649 -0.00601252 -0.01252912  0.29054539\n",
      " -0.01052545  0.1744974   0.07716441  0.11914872  0.07847075  0.05404234]\n"
     ]
    }
   ],
   "source": [
    "#Intercept & Slope Values: #3\n",
    "#Slope values for each feature is represented\n",
    "\n",
    "model_3.intercept_\n",
    "model_3.coef_\n",
    "\n",
    "print(model_3.intercept_, model_3.coef_)"
   ]
  },
  {
   "cell_type": "code",
   "execution_count": 107,
   "metadata": {},
   "outputs": [],
   "source": [
    "#Predicting a y value based on x value, function provided. Reference: Aydogan\n",
    "#1st Model: With [0] independent variable from model_1, based on its slope, prediction values are created.\n",
    "\n",
    "def myfunction_0(x_1_test):\n",
    "    return model_1.coef_[0]*x_1_test+model_1.intercept_\n",
    "\n",
    "#It will call my function for each element in the list x and it creates a list of those estimated y values\n",
    "myprediction_0=list(map(myfunction_0, x_1_test)) \n"
   ]
  },
  {
   "cell_type": "code",
   "execution_count": 108,
   "metadata": {},
   "outputs": [
    {
     "data": {
      "image/png": "[encoded data removed]",
      "text/plain": [
       "<Figure size 432x288 with 1 Axes>"
      ]
     },
     "metadata": {
      "needs_background": "light"
     },
     "output_type": "display_data"
    }
   ],
   "source": [
    "#Let's scatter the x data and plot the estimated line \n",
    "#In scatter [0] from model_1 and respective selling_price data is represented\n",
    "#In plot, it's just like mirroring a 4D line on the [0]th variable's space. \n",
    "\n",
    "plt.scatter(x_1_test[:,0], y_1_test)\n",
    "plt.plot(x_1_test, myprediction_0)\n",
    "plt.show()"
   ]
  },
  {
   "cell_type": "code",
   "execution_count": 109,
   "metadata": {},
   "outputs": [],
   "source": [
    "#Predicting a y value based on x value, function provided. Reference: Aydogan\n",
    "#1st Model: With [1] independent variable from model_1, based on its slope, prediction values are created.\n",
    "\n",
    "def myfunction_1(x_1_test):\n",
    "    return model_1.coef_[1]*x_1_test+model_1.intercept_\n",
    "\n",
    "#It will call my function for each element in the list x and it creates a list of those estimated y values\n",
    "myprediction_1=list(map(myfunction_1, x_1_test))"
   ]
  },
  {
   "cell_type": "code",
   "execution_count": 110,
   "metadata": {},
   "outputs": [
    {
     "data": {
      "image/png": "[encoded data removed]",
      "text/plain": [
       "<Figure size 432x288 with 1 Axes>"
      ]
     },
     "metadata": {
      "needs_background": "light"
     },
     "output_type": "display_data"
    }
   ],
   "source": [
    "#Let's scatter the x data and plot the estimated line \n",
    "#In scatter [1] from model_1 and respective selling_price data is represented\n",
    "#In plot, it's just like mirroring a 4D line on the [0]th variable's space. \n",
    "\n",
    "plt.scatter(x_1_test[:,1], y_1_test)\n",
    "plt.plot(x_1_test, myprediction_1)\n",
    "plt.show()"
   ]
  },
  {
   "cell_type": "code",
   "execution_count": 111,
   "metadata": {},
   "outputs": [],
   "source": [
    "#Predicting a y value based on x value, function provided. Reference: Aydogan\n",
    "#1st Model: With [2] independent variable from model_1, based on its slope, prediction values are created.\n",
    "\n",
    "def myfunction_2(x_1_test):\n",
    "    return model_1.coef_[2]*x_1_test+model_1.intercept_\n",
    "\n",
    "#It will call my function for each element in the list x and it creates a list of those estimated y values\n",
    "myprediction_2=list(map(myfunction_2, x_1_test))"
   ]
  },
  {
   "cell_type": "code",
   "execution_count": 112,
   "metadata": {},
   "outputs": [
    {
     "data": {
      "image/png": "[encoded data removed]",
      "text/plain": [
       "<Figure size 432x288 with 1 Axes>"
      ]
     },
     "metadata": {
      "needs_background": "light"
     },
     "output_type": "display_data"
    }
   ],
   "source": [
    "#Let's scatter the x data and plot the estimated line \n",
    "#In scatter [2] from model_1 and respective selling_price data is represented\n",
    "#In plot, it's just like mirroring a 4D line on the [0]th variable's space. \n",
    "\n",
    "plt.scatter(x_1_test[:,2], y_1_test)\n",
    "plt.plot(x_1_test, myprediction_2)\n",
    "plt.show()"
   ]
  },
  {
   "cell_type": "code",
   "execution_count": 113,
   "metadata": {},
   "outputs": [],
   "source": [
    "#Predicting a y value based on x value, function provided. Reference: Aydogan\n",
    "#1st Model: With [3] independent variable from model_1, based on its slope, prediction values are created.\n",
    "\n",
    "def myfunction_3(x_1_test):\n",
    "    return model_1.coef_[3]*x_1_test+model_1.intercept_\n",
    "\n",
    "#It will call my function for each element in the list x and it creates a list of those estimated y values\n",
    "myprediction_3=list(map(myfunction_3, x_1_test))"
   ]
  },
  {
   "cell_type": "code",
   "execution_count": 114,
   "metadata": {},
   "outputs": [
    {
     "data": {
      "image/png": "[encoded data removed]",
      "text/plain": [
       "<Figure size 432x288 with 1 Axes>"
      ]
     },
     "metadata": {
      "needs_background": "light"
     },
     "output_type": "display_data"
    }
   ],
   "source": [
    "#Let's scatter the x data and plot the estimated line \n",
    "#In scatter [3] from model_1 and respective selling_price data is represented\n",
    "#In plot, it's just like mirroring a 4D line on the [0]th variable's space. \n",
    "\n",
    "plt.scatter(x_1_test[:,3], y_1_test)\n",
    "plt.plot(x_1_test, myprediction_3)\n",
    "plt.show()"
   ]
  },
  {
   "cell_type": "code",
   "execution_count": 115,
   "metadata": {},
   "outputs": [],
   "source": [
    "#Predicting a y value based on x value, function provided. Reference: Aydogan\n",
    "#1st Model: With [4] independent variable from model_1, based on its slope, prediction values are created.\n",
    "\n",
    "def myfunction_4(x_1_test):\n",
    "    return model_1.coef_[4]*x_1_test+model_1.intercept_\n",
    "\n",
    "#It will call my function for each element in the list x and it creates a list of those estimated y values\n",
    "myprediction_4=list(map(myfunction_4, x_1_test))"
   ]
  },
  {
   "cell_type": "code",
   "execution_count": 116,
   "metadata": {},
   "outputs": [
    {
     "data": {
      "image/png": "[encoded data removed]",
      "text/plain": [
       "<Figure size 432x288 with 1 Axes>"
      ]
     },
     "metadata": {
      "needs_background": "light"
     },
     "output_type": "display_data"
    }
   ],
   "source": [
    "#Let's scatter the x data and plot the estimated line \n",
    "#In scatter [4] from model_1 and respective selling_price data is represented\n",
    "#In plot, it's just like mirroring a 4D line on the [4]th variable's space. \n",
    "\n",
    "plt.scatter(x_1_test[:,4], y_1_test)\n",
    "plt.plot(x_1_test, myprediction_4)\n",
    "plt.show()"
   ]
  },
  {
   "cell_type": "code",
   "execution_count": 117,
   "metadata": {},
   "outputs": [],
   "source": [
    "#Predicting a y value based on x value, function provided. Reference: Aydogan\n",
    "#2nd Model: With [0] independent variable from model_2, based on its slope, prediction values are created.\n",
    "\n",
    "def myfunction_2_0(x_2_test):\n",
    "    return (model_2.coef_[0]*x_2_test) + model_2.intercept_\n",
    "\n",
    "#It will call my function for each element in the list x and it creates a list of those estimated y values\n",
    "myprediction_2_0=list(map(myfunction_2_0, x_2_test)) \n"
   ]
  },
  {
   "cell_type": "code",
   "execution_count": 118,
   "metadata": {},
   "outputs": [
    {
     "name": "stdout",
     "output_type": "stream",
     "text": [
      "[[0.02118192 0.39395973 0.         ... 0.         0.         1.        ]\n",
      " [0.02253336 0.20939597 0.         ... 1.         0.         0.        ]\n",
      " [0.02965486 0.63724832 0.         ... 1.         0.         0.        ]\n",
      " ...\n",
      " [0.02118192 0.20939597 0.         ... 1.         0.         0.        ]\n",
      " [0.02541839 0.29328859 0.         ... 1.         0.         0.        ]\n",
      " [0.00317693 0.46006711 0.         ... 1.         0.         0.        ]]\n"
     ]
    }
   ],
   "source": [
    "print(x_2_test)"
   ]
  },
  {
   "cell_type": "code",
   "execution_count": 119,
   "metadata": {},
   "outputs": [
    {
     "data": {
      "image/png": "[encoded data removed]",
      "text/plain": [
       "<Figure size 432x288 with 1 Axes>"
      ]
     },
     "metadata": {
      "needs_background": "light"
     },
     "output_type": "display_data"
    }
   ],
   "source": [
    "#Let's scatter the x data and plot the estimated line \n",
    "#In scatter [0] from model_2 and respective selling_price data is represented\n",
    "#In plot, it's just like mirroring a 4D line on the [0]th variable's space. \n",
    "\n",
    "plt.scatter(x_2_test[:,0], y_1_test)\n",
    "plt.plot(x_2_test, myprediction_2_0)\n",
    "plt.show()"
   ]
  },
  {
   "cell_type": "code",
   "execution_count": 120,
   "metadata": {},
   "outputs": [],
   "source": [
    "#Predicting a y value based on x value, function provided. Reference: Aydogan\n",
    "#2nd Model: With [1] independent variable from model_2, based on its slope, prediction values are created.\n",
    "\n",
    "def myfunction_2_1(x_2_test):\n",
    "    return model_2.coef_[1]*x_2_test+model_2.intercept_\n",
    "\n",
    "#It will call my function for each element in the list x and it creates a list of those estimated y values\n",
    "myprediction_2_1=list(map(myfunction_2_1, x_2_test)) \n"
   ]
  },
  {
   "cell_type": "code",
   "execution_count": 121,
   "metadata": {},
   "outputs": [
    {
     "data": {
      "image/png": "[encoded data removed]",
      "text/plain": [
       "<Figure size 432x288 with 1 Axes>"
      ]
     },
     "metadata": {
      "needs_background": "light"
     },
     "output_type": "display_data"
    }
   ],
   "source": [
    "#Let's scatter the x data and plot the estimated line \n",
    "#In scatter [1] from model_2 and respective selling_price data is represented\n",
    "#In plot, it's just like mirroring a 4D line on the [0]th variable's space. \n",
    "\n",
    "plt.scatter(x_2_test[:,1], y_1_test)\n",
    "plt.plot(x_2_test, myprediction_2_1)\n",
    "plt.show()"
   ]
  },
  {
   "cell_type": "code",
   "execution_count": 122,
   "metadata": {},
   "outputs": [],
   "source": [
    "#Predicting a y value based on x value, function provided. Reference: Aydogan\n",
    "#2nd Model: With [2] independent variable from model_2, based on its slope, prediction values are created.\n",
    "\n",
    "def myfunction_2_2(x_2_test):\n",
    "    return model_2.coef_[2]*x_2_test+model_2.intercept_\n",
    "\n",
    "#It will call my function for each element in the list x and it creates a list of those estimated y values\n",
    "myprediction_2_2=list(map(myfunction_2_2, x_2_test)) \n"
   ]
  },
  {
   "cell_type": "code",
   "execution_count": 123,
   "metadata": {},
   "outputs": [
    {
     "data": {
      "image/png": "[encoded data removed]",
      "text/plain": [
       "<Figure size 432x288 with 1 Axes>"
      ]
     },
     "metadata": {
      "needs_background": "light"
     },
     "output_type": "display_data"
    }
   ],
   "source": [
    "#Let's scatter the x data and plot the estimated line \n",
    "#In scatter [2] from model_2 and respective selling_price data is represented\n",
    "#In plot, it's just like mirroring a 4D line on the [0]th variable's space. \n",
    "\n",
    "plt.scatter(x_2_test[:,2], y_1_test)\n",
    "plt.plot(x_2_test, myprediction_2_2)\n",
    "plt.show()"
   ]
  },
  {
   "cell_type": "code",
   "execution_count": 124,
   "metadata": {},
   "outputs": [],
   "source": [
    "#Predicting a y value based on x value, function provided. Reference: Aydogan\n",
    "#2nd Model: With [3] independent variable from model_2, based on its slope, prediction values are created.\n",
    "\n",
    "def myfunction_2_3(x_2_test):\n",
    "    return model_2.coef_[3]*x_2_test+model_2.intercept_\n",
    "\n",
    "#It will call my function for each element in the list x and it creates a list of those estimated y values\n",
    "myprediction_2_3=list(map(myfunction_2_3, x_2_test)) \n"
   ]
  },
  {
   "cell_type": "code",
   "execution_count": 125,
   "metadata": {},
   "outputs": [
    {
     "data": {
      "image/png": "[encoded data removed]",
      "text/plain": [
       "<Figure size 432x288 with 1 Axes>"
      ]
     },
     "metadata": {
      "needs_background": "light"
     },
     "output_type": "display_data"
    }
   ],
   "source": [
    "#Let's scatter the x data and plot the estimated line \n",
    "#In scatter [3] from model_2 and respective selling_price data is represented\n",
    "#In plot, it's just like mirroring a 4D line on the [0]th variable's space. \n",
    "\n",
    "plt.scatter(x_2_test[:,3], y_1_test)\n",
    "plt.plot(x_2_test, myprediction_2_3)\n",
    "plt.show()"
   ]
  },
  {
   "cell_type": "code",
   "execution_count": 126,
   "metadata": {},
   "outputs": [],
   "source": [
    "#Predicting a y value based on x value, function provided. Reference: Aydogan\n",
    "#2nd Model: With [4] independent variable from model_2, based on its slope, prediction values are created.\n",
    "\n",
    "def myfunction_2_4(x_2_test):\n",
    "    return model_2.coef_[4]*x_2_test+model_2.intercept_\n",
    "\n",
    "#It will call my function for each element in the list x and it creates a list of those estimated y values\n",
    "myprediction_2_4=list(map(myfunction_2_4, x_2_test)) \n"
   ]
  },
  {
   "cell_type": "code",
   "execution_count": 127,
   "metadata": {},
   "outputs": [
    {
     "data": {
      "image/png": "[encoded data removed]",
      "text/plain": [
       "<Figure size 432x288 with 1 Axes>"
      ]
     },
     "metadata": {
      "needs_background": "light"
     },
     "output_type": "display_data"
    }
   ],
   "source": [
    "#Let's scatter the x data and plot the estimated line \n",
    "#In scatter [4] from model_2 and respective selling_price data is represented\n",
    "#In plot, it's just like mirroring a 4D line on the [0]th variable's space. \n",
    "\n",
    "plt.scatter(x_2_test[:,4], y_1_test)\n",
    "plt.plot(x_2_test, myprediction_2_4)\n",
    "plt.show()"
   ]
  },
  {
   "cell_type": "code",
   "execution_count": 128,
   "metadata": {},
   "outputs": [],
   "source": [
    "#Predicting a y value based on x value, function provided. Reference: Aydogan\n",
    "#2nd Model: With [5] independent variable from model_2, based on its slope, prediction values are created.\n",
    "\n",
    "def myfunction_2_5(x_2_test):\n",
    "    return model_2.coef_[5]*x_2_test+model_2.intercept_\n",
    "\n",
    "#It will call my function for each element in the list x and it creates a list of those estimated y values\n",
    "myprediction_2_5=list(map(myfunction_2_5, x_2_test)) \n"
   ]
  },
  {
   "cell_type": "code",
   "execution_count": 129,
   "metadata": {},
   "outputs": [
    {
     "data": {
      "image/png": "[encoded data removed]",
      "text/plain": [
       "<Figure size 432x288 with 1 Axes>"
      ]
     },
     "metadata": {
      "needs_background": "light"
     },
     "output_type": "display_data"
    }
   ],
   "source": [
    "#Let's scatter the x data and plot the estimated line \n",
    "#In scatter [5] from model_2 and respective selling_price data is represented\n",
    "#In plot, it's just like mirroring a 4D line on the [0]th variable's space. \n",
    "\n",
    "plt.scatter(x_2_test[:,5], y_1_test)\n",
    "plt.plot(x_2_test, myprediction_2_5)\n",
    "plt.show()"
   ]
  },
  {
   "cell_type": "code",
   "execution_count": 130,
   "metadata": {},
   "outputs": [],
   "source": [
    "#Predicting a y value based on x value, function provided. Reference: Aydogan\n",
    "#2nd Model: With [6] independent variable from model_2, based on its slope, prediction values are created.\n",
    "\n",
    "def myfunction_2_6(x_2_test):\n",
    "    return model_2.coef_[6]*x_2_test+model_2.intercept_\n",
    "\n",
    "#It will call my function for each element in the list x and it creates a list of those estimated y values\n",
    "myprediction_2_6=list(map(myfunction_2_6, x_2_test)) \n"
   ]
  },
  {
   "cell_type": "code",
   "execution_count": 131,
   "metadata": {},
   "outputs": [
    {
     "data": {
      "image/png": "[encoded data removed]",
      "text/plain": [
       "<Figure size 432x288 with 1 Axes>"
      ]
     },
     "metadata": {
      "needs_background": "light"
     },
     "output_type": "display_data"
    }
   ],
   "source": [
    "#Let's scatter the x data and plot the estimated line \n",
    "#In scatter [6] from model_2 and respective selling_price data is represented\n",
    "#In plot, it's just like mirroring a 4D line on the [0]th variable's space. \n",
    "\n",
    "plt.scatter(x_2_test[:,6], y_1_test)\n",
    "plt.plot(x_2_test, myprediction_2_6)\n",
    "plt.show()"
   ]
  },
  {
   "cell_type": "code",
   "execution_count": 132,
   "metadata": {},
   "outputs": [],
   "source": [
    "#Predicting a y value based on x value, function provided. Reference: Aydogan\n",
    "#2nd Model: With [7] independent variable from model_2, based on its slope, prediction values are created.\n",
    "\n",
    "def myfunction_2_7(x_2_test):\n",
    "    return model_2.coef_[7]*x_2_test+model_2.intercept_\n",
    "\n",
    "#It will call my function for each element in the list x and it creates a list of those estimated y values\n",
    "myprediction_2_7=list(map(myfunction_2_7, x_2_test)) \n"
   ]
  },
  {
   "cell_type": "code",
   "execution_count": 133,
   "metadata": {},
   "outputs": [
    {
     "data": {
      "image/png": "[encoded data removed]",
      "text/plain": [
       "<Figure size 432x288 with 1 Axes>"
      ]
     },
     "metadata": {
      "needs_background": "light"
     },
     "output_type": "display_data"
    }
   ],
   "source": [
    "#Let's scatter the x data and plot the estimated line \n",
    "#In scatter [7] from model_2 and respective selling_price data is represented\n",
    "#In plot, it's just like mirroring a 4D line on the [0]th variable's space. \n",
    "\n",
    "plt.scatter(x_2_test[:,7], y_1_test)\n",
    "plt.plot(x_2_test, myprediction_2_7)\n",
    "plt.show()"
   ]
  },
  {
   "cell_type": "code",
   "execution_count": 134,
   "metadata": {},
   "outputs": [],
   "source": [
    "#Predicting a y value based on x value, function provided. Reference: Aydogan\n",
    "#2nd Model: With [8] independent variable from model_2, based on its slope, prediction values are created.\n",
    "\n",
    "def myfunction_2_8(x_2_test):\n",
    "    return model_2.coef_[8]*x_2_test+model_2.intercept_\n",
    "\n",
    "#It will call my function for each element in the list x and it creates a list of those estimated y values\n",
    "myprediction_2_8=list(map(myfunction_2_8, x_2_test)) \n"
   ]
  },
  {
   "cell_type": "code",
   "execution_count": 135,
   "metadata": {},
   "outputs": [
    {
     "data": {
      "image/png": "[encoded data removed]",
      "text/plain": [
       "<Figure size 432x288 with 1 Axes>"
      ]
     },
     "metadata": {
      "needs_background": "light"
     },
     "output_type": "display_data"
    }
   ],
   "source": [
    "#Let's scatter the x data and plot the estimated line \n",
    "#In scatter [8] from model_2 and respective selling_price data is represented\n",
    "#In plot, it's just like mirroring a 4D line on the [0]th variable's space. \n",
    "\n",
    "plt.scatter(x_2_test[:,8], y_1_test)\n",
    "plt.plot(x_2_test, myprediction_2_8)\n",
    "plt.show()"
   ]
  },
  {
   "cell_type": "code",
   "execution_count": 136,
   "metadata": {},
   "outputs": [],
   "source": [
    "#Predicting a y value based on x value, function provided. Reference: Aydogan\n",
    "#2nd Model: With [9] independent variable from model_2, based on its slope, prediction values are created.\n",
    "\n",
    "def myfunction_2_9(x_2_test):\n",
    "    return model_2.coef_[9]*x_2_test+model_2.intercept_\n",
    "\n",
    "#It will call my function for each element in the list x and it creates a list of those estimated y values\n",
    "myprediction_2_9=list(map(myfunction_2_9, x_2_test)) \n"
   ]
  },
  {
   "cell_type": "code",
   "execution_count": 137,
   "metadata": {},
   "outputs": [
    {
     "data": {
      "image/png": "[encoded data removed]",
      "text/plain": [
       "<Figure size 432x288 with 1 Axes>"
      ]
     },
     "metadata": {
      "needs_background": "light"
     },
     "output_type": "display_data"
    }
   ],
   "source": [
    "#Let's scatter the x data and plot the estimated line \n",
    "#In scatter [9] from model_2 and respective selling_price data is represented\n",
    "#In plot, it's just like mirroring a 4D line on the [0]th variable's space. \n",
    "\n",
    "plt.scatter(x_2_test[:,9], y_1_test)\n",
    "plt.plot(x_2_test, myprediction_2_9)\n",
    "plt.show()"
   ]
  },
  {
   "cell_type": "code",
   "execution_count": 138,
   "metadata": {},
   "outputs": [],
   "source": [
    "#Predicting a y value based on x value, function provided. Reference: Aydogan\n",
    "#2nd Model: With [10] independent variable from model_2, based on its slope, prediction values are created.\n",
    "\n",
    "def myfunction_2_10(x_2_test):\n",
    "    return model_2.coef_[10]*x_2_test+model_2.intercept_\n",
    "\n",
    "#It will call my function for each element in the list x and it creates a list of those estimated y values\n",
    "myprediction_2_10=list(map(myfunction_2_10, x_2_test)) \n"
   ]
  },
  {
   "cell_type": "code",
   "execution_count": 139,
   "metadata": {},
   "outputs": [
    {
     "data": {
      "image/png": "[encoded data removed]",
      "text/plain": [
       "<Figure size 432x288 with 1 Axes>"
      ]
     },
     "metadata": {
      "needs_background": "light"
     },
     "output_type": "display_data"
    }
   ],
   "source": [
    "#Let's scatter the x data and plot the estimated line \n",
    "#In scatter [10] from model_2 and respective selling_price data is represented\n",
    "#In plot, it's just like mirroring a 4D line on the [0]th variable's space. \n",
    "\n",
    "plt.scatter(x_2_test[:,10], y_1_test)\n",
    "plt.plot(x_2_test, myprediction_2_10)\n",
    "plt.show()"
   ]
  },
  {
   "cell_type": "code",
   "execution_count": 140,
   "metadata": {},
   "outputs": [],
   "source": [
    "#Predicting a y value based on x value, function provided. Reference: Aydogan\n",
    "#2nd Model: With [11] independent variable from model_2, based on its slope, prediction values are created.\n",
    "\n",
    "def myfunction_2_11(x_2_test):\n",
    "    return model_2.coef_[11]*x_2_test+model_2.intercept_\n",
    "\n",
    "#It will call my function for each element in the list x and it creates a list of those estimated y values\n",
    "myprediction_2_11=list(map(myfunction_2_11, x_2_test)) \n"
   ]
  },
  {
   "cell_type": "code",
   "execution_count": 141,
   "metadata": {},
   "outputs": [
    {
     "data": {
      "image/png": "[encoded data removed]",
      "text/plain": [
       "<Figure size 432x288 with 1 Axes>"
      ]
     },
     "metadata": {
      "needs_background": "light"
     },
     "output_type": "display_data"
    }
   ],
   "source": [
    "#Let's scatter the x data and plot the estimated line \n",
    "#In scatter [11] from model_2 and respective selling_price data is represented\n",
    "#In plot, it's just like mirroring a 4D line on the [0]th variable's space. \n",
    "\n",
    "plt.scatter(x_2_test[:,11], y_1_test)\n",
    "plt.plot(x_2_test, myprediction_2_11)\n",
    "plt.show()"
   ]
  },
  {
   "cell_type": "code",
   "execution_count": 142,
   "metadata": {},
   "outputs": [],
   "source": [
    "#Predicting a y value based on x value, function provided. Reference: Aydogan\n",
    "#2nd Model: With [12] independent variable from model_2, based on its slope, prediction values are created.\n",
    "\n",
    "def myfunction_2_12(x_2_test):\n",
    "    return model_2.coef_[12]*x_2_test+model_2.intercept_\n",
    "\n",
    "#It will call my function for each element in the list x and it creates a list of those estimated y values\n",
    "myprediction_2_12=list(map(myfunction_2_12, x_2_test)) \n"
   ]
  },
  {
   "cell_type": "code",
   "execution_count": 143,
   "metadata": {},
   "outputs": [
    {
     "data": {
      "image/png": "[encoded data removed]",
      "text/plain": [
       "<Figure size 432x288 with 1 Axes>"
      ]
     },
     "metadata": {
      "needs_background": "light"
     },
     "output_type": "display_data"
    }
   ],
   "source": [
    "#Let's scatter the x data and plot the estimated line \n",
    "#In scatter [12] from model_2 and respective selling_price data is represented\n",
    "#In plot, it's just like mirroring a 4D line on the [0]th variable's space. \n",
    "\n",
    "plt.scatter(x_2_test[:,12], y_1_test)\n",
    "plt.plot(x_2_test, myprediction_2_12)\n",
    "plt.show()"
   ]
  },
  {
   "cell_type": "code",
   "execution_count": 144,
   "metadata": {},
   "outputs": [],
   "source": [
    "#Predicting a y value based on x value, function provided. Reference: Aydogan\n",
    "#2nd Model: With [13] independent variable from model_2, based on its slope, prediction values are created.\n",
    "\n",
    "def myfunction_2_13(x_2_test):\n",
    "    return model_2.coef_[13]*x_2_test+model_2.intercept_\n",
    "\n",
    "#It will call my function for each element in the list x and it creates a list of those estimated y values\n",
    "myprediction_2_13=list(map(myfunction_2_13, x_2_test)) \n"
   ]
  },
  {
   "cell_type": "code",
   "execution_count": 145,
   "metadata": {},
   "outputs": [
    {
     "data": {
      "image/png": "[encoded data removed]",
      "text/plain": [
       "<Figure size 432x288 with 1 Axes>"
      ]
     },
     "metadata": {
      "needs_background": "light"
     },
     "output_type": "display_data"
    }
   ],
   "source": [
    "#Let's scatter the x data and plot the estimated line \n",
    "#In scatter [13] from model_2 and respective selling_price data is represented\n",
    "#In plot, it's just like mirroring a 4D line on the [0]th variable's space. \n",
    "\n",
    "plt.scatter(x_2_test[:,13], y_1_test)\n",
    "plt.plot(x_2_test, myprediction_2_13)\n",
    "plt.show()"
   ]
  },
  {
   "cell_type": "code",
   "execution_count": 146,
   "metadata": {},
   "outputs": [],
   "source": [
    "#Predicting a y value based on x value, function provided. Reference: Aydogan\n",
    "#2nd Model: With [14] independent variable from model_2, based on its slope, prediction values are created.\n",
    "\n",
    "def myfunction_2_13(x_2_test):\n",
    "    return model_2.coef_[14]*x_2_test+model_2.intercept_\n",
    "\n",
    "#It will call my function for each element in the list x and it creates a list of those estimated y values\n",
    "myprediction_2_14=list(map(myfunction_2_13, x_2_test)) "
   ]
  },
  {
   "cell_type": "code",
   "execution_count": 147,
   "metadata": {},
   "outputs": [
    {
     "data": {
      "image/png": "[encoded data removed]",
      "text/plain": [
       "<Figure size 432x288 with 1 Axes>"
      ]
     },
     "metadata": {
      "needs_background": "light"
     },
     "output_type": "display_data"
    }
   ],
   "source": [
    "#Let's scatter the x data and plot the estimated line \n",
    "#In scatter [14] from model_2 and respective selling_price data is represented\n",
    "#In plot, it's just like mirroring a 4D line on the [0]th variable's space. \n",
    "\n",
    "plt.scatter(x_2_test[:,14], y_1_test)\n",
    "plt.plot(x_2_test, myprediction_2_14)\n",
    "plt.show()"
   ]
  },
  {
   "cell_type": "code",
   "execution_count": 148,
   "metadata": {},
   "outputs": [],
   "source": [
    "#Predicting a y value based on x value, function provided. Reference: Aydogan\n",
    "#3rd Model: With [0] independent variable from model_3, based on its slope, prediction values are created.\n",
    "\n",
    "def myfunction_3_0(x_3_test):\n",
    "    return model_3.coef_[0]*x_3_test+model_3.intercept_\n",
    "\n",
    "#It will call my function for each element in the list x and it creates a list of those estimated y values\n",
    "myprediction_3_0=list(map(myfunction_3_0, x_3_test))"
   ]
  },
  {
   "cell_type": "code",
   "execution_count": 149,
   "metadata": {},
   "outputs": [
    {
     "data": {
      "image/png": "[encoded data removed]",
      "text/plain": [
       "<Figure size 432x288 with 1 Axes>"
      ]
     },
     "metadata": {
      "needs_background": "light"
     },
     "output_type": "display_data"
    }
   ],
   "source": [
    "#Let's scatter the x data and plot the estimated line \n",
    "#In scatter [0] from model_3 and respective selling_price data is represented\n",
    "#In plot, it's just like mirroring a 4D line on the [0]th variable's space. \n",
    "\n",
    "plt.scatter(x_3_test[:,0], y_3_test)\n",
    "plt.plot(x_3_test, myprediction_3_0)\n",
    "plt.show()"
   ]
  },
  {
   "cell_type": "code",
   "execution_count": 150,
   "metadata": {},
   "outputs": [],
   "source": [
    "#Predicting a y value based on x value, function provided. Reference: Aydogan\n",
    "#3rd Model: With [1] independent variable from model_3, based on its slope, prediction values are created.\n",
    "\n",
    "def myfunction_3_1(x_3_test):\n",
    "    return model_3.coef_[1]*x_3_test+model_3.intercept_\n",
    "\n",
    "#It will call my function for each element in the list x and it creates a list of those estimated y values\n",
    "myprediction_3_1=list(map(myfunction_3_1, x_3_test))"
   ]
  },
  {
   "cell_type": "code",
   "execution_count": 151,
   "metadata": {},
   "outputs": [
    {
     "data": {
      "image/png": "[encoded data removed]",
      "text/plain": [
       "<Figure size 432x288 with 1 Axes>"
      ]
     },
     "metadata": {
      "needs_background": "light"
     },
     "output_type": "display_data"
    }
   ],
   "source": [
    "#Let's scatter the x data and plot the estimated line \n",
    "#In scatter [1] from model_3 and respective selling_price data is represented\n",
    "#In plot, it's just like mirroring a 4D line on the [1] variable's space. \n",
    "\n",
    "plt.scatter(x_3_test[:,1], y_3_test)\n",
    "plt.plot(x_3_test, myprediction_3_1)\n",
    "plt.show()"
   ]
  },
  {
   "cell_type": "code",
   "execution_count": 152,
   "metadata": {},
   "outputs": [],
   "source": [
    "#Predicting a y value based on x value, function provided. Reference: Aydogan\n",
    "#3rd Model: With [2] independent variable from model_3, based on its slope, prediction values are created.\n",
    "\n",
    "def myfunction_3_2(x_3_test):\n",
    "    return model_3.coef_[2]*x_3_test+model_3.intercept_\n",
    "\n",
    "#It will call my function for each element in the list x and it creates a list of those estimated y values\n",
    "myprediction_3_2=list(map(myfunction_3_1, x_3_test))"
   ]
  },
  {
   "cell_type": "code",
   "execution_count": 153,
   "metadata": {},
   "outputs": [
    {
     "data": {
      "image/png": "[encoded data removed]",
      "text/plain": [
       "<Figure size 432x288 with 1 Axes>"
      ]
     },
     "metadata": {
      "needs_background": "light"
     },
     "output_type": "display_data"
    }
   ],
   "source": [
    "#Let's scatter the x data and plot the estimated line \n",
    "#In scatter [2] from model_3 and respective selling_price data is represented\n",
    "#In plot, it's just like mirroring a 4D line on the [2] variable's space. \n",
    "\n",
    "plt.scatter(x_3_test[:,2], y_3_test)\n",
    "plt.plot(x_3_test, myprediction_3_2)\n",
    "plt.show()"
   ]
  },
  {
   "cell_type": "code",
   "execution_count": 154,
   "metadata": {},
   "outputs": [],
   "source": [
    "#Predicting a y value based on x value, function provided. Reference: Aydogan\n",
    "#3rd Model: With [3] independent variable from model_3, based on its slope, prediction values are created.\n",
    "\n",
    "def myfunction_3_3(x_3_test):\n",
    "    return model_3.coef_[3]*x_3_test+model_3.intercept_\n",
    "\n",
    "#It will call my function for each element in the list x and it creates a list of those estimated y values\n",
    "myprediction_3_4=list(map(myfunction_3_3, x_3_test))"
   ]
  },
  {
   "cell_type": "code",
   "execution_count": 155,
   "metadata": {},
   "outputs": [
    {
     "data": {
      "image/png": "[encoded data removed]",
      "text/plain": [
       "<Figure size 432x288 with 1 Axes>"
      ]
     },
     "metadata": {
      "needs_background": "light"
     },
     "output_type": "display_data"
    }
   ],
   "source": [
    "#Let's scatter the x data and plot the estimated line \n",
    "#In scatter [4] from model_3 and respective selling_price data is represented\n",
    "#In plot, it's just like mirroring a 4D line on the [4] variable's space. \n",
    "\n",
    "plt.scatter(x_3_test[:,4], y_3_test)\n",
    "plt.plot(x_3_test, myprediction_3_4)\n",
    "plt.show()"
   ]
  },
  {
   "cell_type": "code",
   "execution_count": 156,
   "metadata": {},
   "outputs": [],
   "source": [
    "#Predicting a y value based on x value, function provided. Reference: Aydogan\n",
    "#3rd Model: With [4] independent variable from model_3, based on its slope, prediction values are created.\n",
    "\n",
    "def myfunction_3_4(x_3_test):\n",
    "    return model_3.coef_[4]*x_3_test+model_3.intercept_\n",
    "\n",
    "#It will call my function for each element in the list x and it creates a list of those estimated y values\n",
    "myprediction_3_4=list(map(myfunction_3_4, x_3_test))"
   ]
  },
  {
   "cell_type": "code",
   "execution_count": 157,
   "metadata": {},
   "outputs": [
    {
     "data": {
      "image/png": "[encoded data removed]",
      "text/plain": [
       "<Figure size 432x288 with 1 Axes>"
      ]
     },
     "metadata": {
      "needs_background": "light"
     },
     "output_type": "display_data"
    }
   ],
   "source": [
    "#Let's scatter the x data and plot the estimated line \n",
    "#In scatter [4] from model_3 and respective selling_price data is represented\n",
    "#In plot, it's just like mirroring a 4D line on the [4] variable's space. \n",
    "\n",
    "plt.scatter(x_3_test[:,4], y_3_test)\n",
    "plt.plot(x_3_test, myprediction_3_4)\n",
    "plt.show()"
   ]
  },
  {
   "cell_type": "code",
   "execution_count": 158,
   "metadata": {},
   "outputs": [],
   "source": [
    "#Predicting a y value based on x value, function provided. Reference: Aydogan\n",
    "#3rd Model: With [5] independent variable from model_3, based on its slope, prediction values are created.\n",
    "\n",
    "def myfunction_3_5(x_3_test):\n",
    "    return model_3.coef_[5]*x_3_test+model_3.intercept_\n",
    "\n",
    "#It will call my function for each element in the list x and it creates a list of those estimated y values\n",
    "myprediction_3_5=list(map(myfunction_3_5, x_3_test))"
   ]
  },
  {
   "cell_type": "code",
   "execution_count": 159,
   "metadata": {},
   "outputs": [
    {
     "data": {
      "image/png": "[encoded data removed]",
      "text/plain": [
       "<Figure size 432x288 with 1 Axes>"
      ]
     },
     "metadata": {
      "needs_background": "light"
     },
     "output_type": "display_data"
    }
   ],
   "source": [
    "#Let's scatter the x data and plot the estimated line \n",
    "#In scatter [5] from model_3 and respective selling_price data is represented\n",
    "#In plot, it's just like mirroring a 4D line on the [5] variable's space. \n",
    "\n",
    "plt.scatter(x_3_test[:,5], y_3_test)\n",
    "plt.plot(x_3_test, myprediction_3_5)\n",
    "plt.show()"
   ]
  },
  {
   "cell_type": "code",
   "execution_count": 160,
   "metadata": {},
   "outputs": [],
   "source": [
    "#Predicting a y value based on x value, function provided. Reference: Aydogan\n",
    "#3rd Model: With [6] independent variable from model_3, based on its slope, prediction values are created.\n",
    "\n",
    "def myfunction_3_6(x_3_test):\n",
    "    return model_3.coef_[6]*x_3_test+model_3.intercept_\n",
    "\n",
    "#It will call my function for each element in the list x and it creates a list of those estimated y values\n",
    "myprediction_3_6=list(map(myfunction_3_6, x_3_test))"
   ]
  },
  {
   "cell_type": "code",
   "execution_count": 161,
   "metadata": {},
   "outputs": [
    {
     "data": {
      "image/png": "[encoded data removed]",
      "text/plain": [
       "<Figure size 432x288 with 1 Axes>"
      ]
     },
     "metadata": {
      "needs_background": "light"
     },
     "output_type": "display_data"
    }
   ],
   "source": [
    "#Let's scatter the x data and plot the estimated line \n",
    "#In scatter [6] from model_3 and respective selling_price data is represented\n",
    "#In plot, it's just like mirroring a 4D line on the [6] variable's space. \n",
    "\n",
    "plt.scatter(x_3_test[:,6], y_3_test)\n",
    "plt.plot(x_3_test, myprediction_3_6)\n",
    "plt.show()"
   ]
  },
  {
   "cell_type": "code",
   "execution_count": 162,
   "metadata": {},
   "outputs": [],
   "source": [
    "#Predicting a y value based on x value, function provided. Reference: Aydogan\n",
    "#3rd Model: With [7] independent variable from model_3, based on its slope, prediction values are created.\n",
    "\n",
    "def myfunction_3_7(x_3_test):\n",
    "    return model_3.coef_[7]*x_3_test+model_3.intercept_\n",
    "\n",
    "#It will call my function for each element in the list x and it creates a list of those estimated y values\n",
    "myprediction_3_7=list(map(myfunction_3_7, x_3_test))"
   ]
  },
  {
   "cell_type": "code",
   "execution_count": 163,
   "metadata": {},
   "outputs": [
    {
     "data": {
      "image/png": "[encoded data removed]",
      "text/plain": [
       "<Figure size 432x288 with 1 Axes>"
      ]
     },
     "metadata": {
      "needs_background": "light"
     },
     "output_type": "display_data"
    }
   ],
   "source": [
    "#Let's scatter the x data and plot the estimated line \n",
    "#In scatter [7] from model_3 and respective selling_price data is represented\n",
    "#In plot, it's just like mirroring a 4D line on the [7] variable's space. \n",
    "\n",
    "plt.scatter(x_3_test[:,7], y_3_test)\n",
    "plt.plot(x_3_test, myprediction_3_7)\n",
    "plt.show()"
   ]
  },
  {
   "cell_type": "code",
   "execution_count": 164,
   "metadata": {},
   "outputs": [],
   "source": [
    "#Predicting a y value based on x value, function provided. Reference: Aydogan\n",
    "#3rd Model: With [8] independent variable from model_3, based on its slope, prediction values are created.\n",
    "\n",
    "def myfunction_3_8(x_3_test):\n",
    "    return model_3.coef_[8]*x_3_test+model_3.intercept_\n",
    "\n",
    "#It will call my function for each element in the list x and it creates a list of those estimated y values\n",
    "myprediction_3_8=list(map(myfunction_3_8, x_3_test))"
   ]
  },
  {
   "cell_type": "code",
   "execution_count": 165,
   "metadata": {},
   "outputs": [
    {
     "data": {
      "image/png": "[encoded data removed]",
      "text/plain": [
       "<Figure size 432x288 with 1 Axes>"
      ]
     },
     "metadata": {
      "needs_background": "light"
     },
     "output_type": "display_data"
    }
   ],
   "source": [
    "#Let's scatter the x data and plot the estimated line \n",
    "#In scatter [8] from model_3 and respective selling_price data is represented\n",
    "#In plot, it's just like mirroring a 4D line on the [8] variable's space. \n",
    "\n",
    "plt.scatter(x_3_test[:,8], y_3_test)\n",
    "plt.plot(x_3_test, myprediction_3_8)\n",
    "plt.show()"
   ]
  },
  {
   "cell_type": "code",
   "execution_count": 166,
   "metadata": {},
   "outputs": [],
   "source": [
    "#Predicting a y value based on x value, function provided. Reference: Aydogan\n",
    "#3rd Model: With [9] independent variable from model_3, based on its slope, prediction values are created.\n",
    "\n",
    "def myfunction_3_9(x_3_test):\n",
    "    return model_3.coef_[9]*x_3_test+model_3.intercept_\n",
    "\n",
    "#It will call my function for each element in the list x and it creates a list of those estimated y values\n",
    "myprediction_3_9=list(map(myfunction_3_9, x_3_test))"
   ]
  },
  {
   "cell_type": "code",
   "execution_count": 167,
   "metadata": {},
   "outputs": [
    {
     "data": {
      "image/png": "[encoded data removed]",
      "text/plain": [
       "<Figure size 432x288 with 1 Axes>"
      ]
     },
     "metadata": {
      "needs_background": "light"
     },
     "output_type": "display_data"
    }
   ],
   "source": [
    "#Let's scatter the x data and plot the estimated line \n",
    "#In scatter [9] from model_3 and respective selling_price data is represented\n",
    "#In plot, it's just like mirroring a 4D line on the [9] variable's space. \n",
    "\n",
    "plt.scatter(x_3_test[:,9], y_3_test)\n",
    "plt.plot(x_3_test, myprediction_3_9)\n",
    "plt.show()"
   ]
  },
  {
   "cell_type": "code",
   "execution_count": 168,
   "metadata": {},
   "outputs": [],
   "source": [
    "#Predicting a y value based on x value, function provided. Reference: Aydogan\n",
    "#3rd Model: With [10] independent variable from model_3, based on its slope, prediction values are created.\n",
    "\n",
    "def myfunction_3_10(x_3_test):\n",
    "    return model_3.coef_[10]*x_3_test+model_3.intercept_\n",
    "\n",
    "#It will call my function for each element in the list x and it creates a list of those estimated y values\n",
    "myprediction_3_10=list(map(myfunction_3_10, x_3_test))"
   ]
  },
  {
   "cell_type": "code",
   "execution_count": 169,
   "metadata": {},
   "outputs": [
    {
     "data": {
      "image/png": "[encoded data removed]",
      "text/plain": [
       "<Figure size 432x288 with 1 Axes>"
      ]
     },
     "metadata": {
      "needs_background": "light"
     },
     "output_type": "display_data"
    }
   ],
   "source": [
    "#Let's scatter the x data and plot the estimated line \n",
    "#In scatter [10] from model_3 and respective selling_price data is represented\n",
    "#In plot, it's just like mirroring a 4D line on the [10] variable's space. \n",
    "\n",
    "plt.scatter(x_3_test[:,10], y_3_test)\n",
    "plt.plot(x_3_test, myprediction_3_10)\n",
    "plt.show()"
   ]
  },
  {
   "cell_type": "code",
   "execution_count": 170,
   "metadata": {},
   "outputs": [],
   "source": [
    "#Predicting a y value based on x value, function provided. Reference: Aydogan\n",
    "#3rd Model: With [11] independent variable from model_3, based on its slope, prediction values are created.\n",
    "\n",
    "def myfunction_3_11(x_3_test):\n",
    "    return model_3.coef_[11]*x_3_test+model_3.intercept_\n",
    "\n",
    "#It will call my function for each element in the list x and it creates a list of those estimated y values\n",
    "myprediction_3_11=list(map(myfunction_3_11, x_3_test))"
   ]
  },
  {
   "cell_type": "code",
   "execution_count": 171,
   "metadata": {},
   "outputs": [
    {
     "data": {
      "image/png": "[encoded data removed]",
      "text/plain": [
       "<Figure size 432x288 with 1 Axes>"
      ]
     },
     "metadata": {
      "needs_background": "light"
     },
     "output_type": "display_data"
    }
   ],
   "source": [
    "#Let's scatter the x data and plot the estimated line \n",
    "#In scatter [11] from model_3 and respective selling_price data is represented\n",
    "#In plot, it's just like mirroring a 4D line on the [11] variable's space. \n",
    "\n",
    "plt.scatter(x_3_test[:,11], y_3_test)\n",
    "plt.plot(x_3_test, myprediction_3_11)\n",
    "plt.show()"
   ]
  },
  {
   "cell_type": "code",
   "execution_count": 172,
   "metadata": {},
   "outputs": [
    {
     "name": "stdout",
     "output_type": "stream",
     "text": [
      "[-0.17180771 -0.13400081 -0.00981649 -0.00601252 -0.01252912  0.29054539\n",
      " -0.01052545  0.1744974   0.07716441  0.11914872  0.07847075  0.05404234]\n"
     ]
    }
   ],
   "source": [
    "#There are 12 of them!\n",
    "\n",
    "print(model_3.coef_)"
   ]
  },
  {
   "cell_type": "code",
   "execution_count": 173,
   "metadata": {},
   "outputs": [
    {
     "name": "stdout",
     "output_type": "stream",
     "text": [
      "y = x_1*0.5057319488978952+x_2*-0.12072123808077749+x_3*-0.017216867651758953+x_4*0.024155910436597764+x_5*-0.024155910436598028+0.031227817131498675\n"
     ]
    }
   ],
   "source": [
    "#Based on scores and metrics, the best performer model equation:\n",
    "\n",
    "#Print the general formula of our linear regression model #1\n",
    "\n",
    "_str_1 = \"y = \"\n",
    "for i, m in enumerate(model_1.coef_):\n",
    "    _str_1 += \"x_{}*{}+\".format(i+1, m)\n",
    "_str_1 += str(model_1.intercept_)\n",
    "print(_str_1)\n"
   ]
  }
 ],
 "metadata": {
  "kernelspec": {
   "display_name": "Python 3",
   "language": "python",
   "name": "python3"
  },
  "language_info": {
   "codemirror_mode": {
    "name": "ipython",
    "version": 3
   },
   "file_extension": ".py",
   "mimetype": "text/x-python",
   "name": "python",
   "nbconvert_exporter": "python",
   "pygments_lexer": "ipython3",
   "version": "3.7.6"
  }
 },
 "nbformat": 4,
 "nbformat_minor": 4
}
