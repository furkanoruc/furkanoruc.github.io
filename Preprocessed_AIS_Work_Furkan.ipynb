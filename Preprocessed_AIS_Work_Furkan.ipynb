{
 "cells": [
  {
   "cell_type": "code",
   "execution_count": 3,
   "metadata": {},
   "outputs": [],
   "source": [
    "import pandas as pd\n",
    "\n",
    "import matplotlib.pyplot as plt\n",
    "\n",
    "import numpy as np\n",
    "from sklearn.model_selection import train_test_split\n",
    "from sklearn.metrics import precision_score\n",
    "from sklearn.metrics import recall_score\n",
    "import seaborn as sns\n",
    "from sklearn.metrics import (confusion_matrix, recall_score, precision_score, roc_auc_score,\n",
    "                                accuracy_score, f1_score, plot_confusion_matrix, confusion_matrix,\n",
    "                                roc_curve, auc)\n",
    "\n",
    "import ipyvolume as ipv\n",
    "from sklearn.datasets import make_blobs\n",
    "from sklearn.cluster import KMeans\n",
    "from ipywidgets import ColorPicker, VBox, \\\n",
    "    interact, interactive, fixed\n",
    "import struct\n",
    "#from chart_studio.plotly import plot, iplot\n",
    "#from plotly.offline import iplot"
   ]
  },
  {
   "cell_type": "code",
   "execution_count": 4,
   "metadata": {},
   "outputs": [
    {
     "ename": "ImportError",
     "evalue": "cannot import name 'perceptron' from 'package' (/Users/furkanoruc/Desktop/MSc./OZ-SPRING2021/Research - AIS/Code Work/package.py)",
     "output_type": "error",
     "traceback": [
      "\u001b[0;31m---------------------------------------------------------------------------\u001b[0m",
      "\u001b[0;31mImportError\u001b[0m                               Traceback (most recent call last)",
      "\u001b[0;32m<ipython-input-4-1123d06d0c26>\u001b[0m in \u001b[0;36m<module>\u001b[0;34m\u001b[0m\n\u001b[0;32m----> 1\u001b[0;31m from package import (data_balancer, MultiLayerPerceptron, softmax, sigmoid, Loss_Perceptron,Weight_Initialization,\n\u001b[0m\u001b[1;32m      2\u001b[0m                         KNeighbors, forest, svm, perceptron)\n\u001b[1;32m      3\u001b[0m from sklearn.metrics import (confusion_matrix, recall_score, precision_score, roc_auc_score,\n\u001b[1;32m      4\u001b[0m                                 \u001b[0maccuracy_score\u001b[0m\u001b[0;34m,\u001b[0m \u001b[0mf1_score\u001b[0m\u001b[0;34m,\u001b[0m \u001b[0mplot_confusion_matrix\u001b[0m\u001b[0;34m,\u001b[0m \u001b[0mconfusion_matrix\u001b[0m\u001b[0;34m,\u001b[0m\u001b[0;34m\u001b[0m\u001b[0;34m\u001b[0m\u001b[0m\n\u001b[1;32m      5\u001b[0m                                 roc_curve, auc)\n",
      "\u001b[0;31mImportError\u001b[0m: cannot import name 'perceptron' from 'package' (/Users/furkanoruc/Desktop/MSc./OZ-SPRING2021/Research - AIS/Code Work/package.py)"
     ]
    }
   ],
   "source": [
    "from package import (data_balancer, MultiLayerPerceptron, softmax, sigmoid, Loss_Perceptron,Weight_Initialization,\n",
    "                        KNeighbors, forest, svm, perceptron)\n",
    "from sklearn.metrics import (confusion_matrix, recall_score, precision_score, roc_auc_score,\n",
    "                                accuracy_score, f1_score, plot_confusion_matrix, confusion_matrix,\n",
    "                                roc_curve, auc)\n",
    "from sklearn.model_selection import (cross_val_score, cross_validate, train_test_split)"
   ]
  },
  {
   "cell_type": "code",
   "execution_count": null,
   "metadata": {},
   "outputs": [],
   "source": [
    "from sklearn.cluster import DBSCAN\n",
    "import time"
   ]
  },
  {
   "cell_type": "code",
   "execution_count": 2,
   "metadata": {},
   "outputs": [],
   "source": [
    "dataset = pd.read_csv('merged_seasons_AIS',sep=',')"
   ]
  },
  {
   "cell_type": "code",
   "execution_count": 1,
   "metadata": {},
   "outputs": [
    {
     "ename": "NameError",
     "evalue": "name 'dataset' is not defined",
     "output_type": "error",
     "traceback": [
      "\u001b[0;31m---------------------------------------------------------------------------\u001b[0m",
      "\u001b[0;31mNameError\u001b[0m                                 Traceback (most recent call last)",
      "\u001b[0;32m<ipython-input-1-8b7a87337ddf>\u001b[0m in \u001b[0;36m<module>\u001b[0;34m\u001b[0m\n\u001b[0;32m----> 1\u001b[0;31m \u001b[0mdataset\u001b[0m\u001b[0;34m.\u001b[0m\u001b[0mhead\u001b[0m\u001b[0;34m(\u001b[0m\u001b[0;36m5\u001b[0m\u001b[0;34m)\u001b[0m\u001b[0;34m\u001b[0m\u001b[0;34m\u001b[0m\u001b[0m\n\u001b[0m",
      "\u001b[0;31mNameError\u001b[0m: name 'dataset' is not defined"
     ]
    }
   ],
   "source": [
    "dataset.head(5)"
   ]
  },
  {
   "cell_type": "code",
   "execution_count": 4,
   "metadata": {},
   "outputs": [
    {
     "data": {
      "text/plain": [
       "True"
      ]
     },
     "execution_count": 4,
     "metadata": {},
     "output_type": "execute_result"
    }
   ],
   "source": [
    "dataset.isnull().values.any()"
   ]
  },
  {
   "cell_type": "code",
   "execution_count": 5,
   "metadata": {},
   "outputs": [],
   "source": [
    "dataset.rename(columns={\"Ditance (m)\": \"Distance (m)\"}, inplace=True)"
   ]
  },
  {
   "cell_type": "code",
   "execution_count": 6,
   "metadata": {},
   "outputs": [],
   "source": [
    "dataset[\"Violation/Length (m)\"] = (dataset[\"Violation Distance (m)\"])/(dataset[\"Base Ship Length (m)\"])"
   ]
  },
  {
   "cell_type": "code",
   "execution_count": 7,
   "metadata": {
    "scrolled": true
   },
   "outputs": [
    {
     "data": {
      "text/html": [
       "<div>\n",
       "<style scoped>\n",
       "    .dataframe tbody tr th:only-of-type {\n",
       "        vertical-align: middle;\n",
       "    }\n",
       "\n",
       "    .dataframe tbody tr th {\n",
       "        vertical-align: top;\n",
       "    }\n",
       "\n",
       "    .dataframe thead th {\n",
       "        text-align: right;\n",
       "    }\n",
       "</style>\n",
       "<table border=\"1\" class=\"dataframe\">\n",
       "  <thead>\n",
       "    <tr style=\"text-align: right;\">\n",
       "      <th></th>\n",
       "      <th>Base Ship Length (m)</th>\n",
       "      <th>Base Ship Length Dimensionless</th>\n",
       "      <th>Compared Ship Speed (m/s)</th>\n",
       "      <th>Compared Ship Speed Dimensionless</th>\n",
       "      <th>Distance (m)</th>\n",
       "      <th>Distance Dimensionless</th>\n",
       "      <th>Ship Domain (m)(2*Base Ship Length)</th>\n",
       "      <th>Ship Domain Dimensionless</th>\n",
       "      <th>Violation Distance (m)</th>\n",
       "      <th>Violation Distance Dimensionless</th>\n",
       "      <th>Violation Check</th>\n",
       "      <th>area</th>\n",
       "      <th>season</th>\n",
       "      <th>Violation/Length (m)</th>\n",
       "    </tr>\n",
       "  </thead>\n",
       "  <tbody>\n",
       "    <tr>\n",
       "      <th>0</th>\n",
       "      <td>22.0</td>\n",
       "      <td>0.062857</td>\n",
       "      <td>4.9858</td>\n",
       "      <td>0.623225</td>\n",
       "      <td>93.806611</td>\n",
       "      <td>0.093807</td>\n",
       "      <td>44.0</td>\n",
       "      <td>0.044</td>\n",
       "      <td>49.806611</td>\n",
       "      <td>0.062071</td>\n",
       "      <td>0</td>\n",
       "      <td>1</td>\n",
       "      <td>Spring</td>\n",
       "      <td>2.263937</td>\n",
       "    </tr>\n",
       "    <tr>\n",
       "      <th>1</th>\n",
       "      <td>185.0</td>\n",
       "      <td>0.528571</td>\n",
       "      <td>11.2052</td>\n",
       "      <td>1.400650</td>\n",
       "      <td>896.664504</td>\n",
       "      <td>0.896665</td>\n",
       "      <td>370.0</td>\n",
       "      <td>0.370</td>\n",
       "      <td>526.664504</td>\n",
       "      <td>0.656352</td>\n",
       "      <td>0</td>\n",
       "      <td>1</td>\n",
       "      <td>Spring</td>\n",
       "      <td>2.846835</td>\n",
       "    </tr>\n",
       "    <tr>\n",
       "      <th>2</th>\n",
       "      <td>22.0</td>\n",
       "      <td>0.062857</td>\n",
       "      <td>5.4998</td>\n",
       "      <td>0.687475</td>\n",
       "      <td>524.199655</td>\n",
       "      <td>0.524200</td>\n",
       "      <td>44.0</td>\n",
       "      <td>0.044</td>\n",
       "      <td>480.199655</td>\n",
       "      <td>0.598445</td>\n",
       "      <td>0</td>\n",
       "      <td>1</td>\n",
       "      <td>Spring</td>\n",
       "      <td>21.827257</td>\n",
       "    </tr>\n",
       "    <tr>\n",
       "      <th>3</th>\n",
       "      <td>190.0</td>\n",
       "      <td>0.542857</td>\n",
       "      <td>4.7802</td>\n",
       "      <td>0.597525</td>\n",
       "      <td>732.630581</td>\n",
       "      <td>0.732631</td>\n",
       "      <td>380.0</td>\n",
       "      <td>0.380</td>\n",
       "      <td>352.630581</td>\n",
       "      <td>0.439463</td>\n",
       "      <td>0</td>\n",
       "      <td>1</td>\n",
       "      <td>Spring</td>\n",
       "      <td>1.855950</td>\n",
       "    </tr>\n",
       "    <tr>\n",
       "      <th>4</th>\n",
       "      <td>83.0</td>\n",
       "      <td>0.237143</td>\n",
       "      <td>4.3690</td>\n",
       "      <td>0.546125</td>\n",
       "      <td>968.411765</td>\n",
       "      <td>0.968412</td>\n",
       "      <td>166.0</td>\n",
       "      <td>0.166</td>\n",
       "      <td>802.411765</td>\n",
       "      <td>1.000000</td>\n",
       "      <td>0</td>\n",
       "      <td>1</td>\n",
       "      <td>Spring</td>\n",
       "      <td>9.667612</td>\n",
       "    </tr>\n",
       "  </tbody>\n",
       "</table>\n",
       "</div>"
      ],
      "text/plain": [
       "   Base Ship Length (m)  Base Ship Length Dimensionless  \\\n",
       "0                  22.0                        0.062857   \n",
       "1                 185.0                        0.528571   \n",
       "2                  22.0                        0.062857   \n",
       "3                 190.0                        0.542857   \n",
       "4                  83.0                        0.237143   \n",
       "\n",
       "   Compared Ship Speed (m/s)  Compared Ship Speed Dimensionless  Distance (m)  \\\n",
       "0                     4.9858                           0.623225     93.806611   \n",
       "1                    11.2052                           1.400650    896.664504   \n",
       "2                     5.4998                           0.687475    524.199655   \n",
       "3                     4.7802                           0.597525    732.630581   \n",
       "4                     4.3690                           0.546125    968.411765   \n",
       "\n",
       "   Distance Dimensionless  Ship Domain (m)(2*Base Ship Length)  \\\n",
       "0                0.093807                                 44.0   \n",
       "1                0.896665                                370.0   \n",
       "2                0.524200                                 44.0   \n",
       "3                0.732631                                380.0   \n",
       "4                0.968412                                166.0   \n",
       "\n",
       "   Ship Domain Dimensionless  Violation Distance (m)  \\\n",
       "0                      0.044               49.806611   \n",
       "1                      0.370              526.664504   \n",
       "2                      0.044              480.199655   \n",
       "3                      0.380              352.630581   \n",
       "4                      0.166              802.411765   \n",
       "\n",
       "   Violation Distance Dimensionless  Violation Check  area  season  \\\n",
       "0                          0.062071                0     1  Spring   \n",
       "1                          0.656352                0     1  Spring   \n",
       "2                          0.598445                0     1  Spring   \n",
       "3                          0.439463                0     1  Spring   \n",
       "4                          1.000000                0     1  Spring   \n",
       "\n",
       "   Violation/Length (m)  \n",
       "0              2.263937  \n",
       "1              2.846835  \n",
       "2             21.827257  \n",
       "3              1.855950  \n",
       "4              9.667612  "
      ]
     },
     "execution_count": 7,
     "metadata": {},
     "output_type": "execute_result"
    }
   ],
   "source": [
    "dataset.head(5)"
   ]
  },
  {
   "cell_type": "code",
   "execution_count": 8,
   "metadata": {},
   "outputs": [],
   "source": [
    "dataset.rename(columns={'area': \"Area\"}, inplace=True)"
   ]
  },
  {
   "cell_type": "code",
   "execution_count": 9,
   "metadata": {},
   "outputs": [],
   "source": [
    "dataset.rename(columns={'season': \"Season\"}, inplace=True)"
   ]
  },
  {
   "cell_type": "code",
   "execution_count": 10,
   "metadata": {},
   "outputs": [],
   "source": [
    "dataset = dataset.dropna()"
   ]
  },
  {
   "cell_type": "code",
   "execution_count": 11,
   "metadata": {},
   "outputs": [
    {
     "name": "stdout",
     "output_type": "stream",
     "text": [
      "<class 'pandas.core.frame.DataFrame'>\n",
      "Int64Index: 73797 entries, 0 to 73797\n",
      "Data columns (total 14 columns):\n",
      " #   Column                               Non-Null Count  Dtype  \n",
      "---  ------                               --------------  -----  \n",
      " 0   Base Ship Length (m)                 73797 non-null  float64\n",
      " 1   Base Ship Length Dimensionless       73797 non-null  float64\n",
      " 2   Compared Ship Speed (m/s)            73797 non-null  float64\n",
      " 3   Compared Ship Speed Dimensionless    73797 non-null  float64\n",
      " 4   Distance (m)                         73797 non-null  float64\n",
      " 5   Distance Dimensionless               73797 non-null  float64\n",
      " 6   Ship Domain (m)(2*Base Ship Length)  73797 non-null  float64\n",
      " 7   Ship Domain Dimensionless            73797 non-null  float64\n",
      " 8   Violation Distance (m)               73797 non-null  float64\n",
      " 9   Violation Distance Dimensionless     73797 non-null  float64\n",
      " 10  Violation Check                      73797 non-null  int64  \n",
      " 11  Area                                 73797 non-null  int64  \n",
      " 12  Season                               73797 non-null  object \n",
      " 13  Violation/Length (m)                 73797 non-null  float64\n",
      "dtypes: float64(11), int64(2), object(1)\n",
      "memory usage: 8.4+ MB\n"
     ]
    }
   ],
   "source": [
    "dataset.info()"
   ]
  },
  {
   "cell_type": "code",
   "execution_count": 12,
   "metadata": {},
   "outputs": [],
   "source": [
    "dataset = dataset.drop(dataset[dataset[\"Compared Ship Speed (m/s)\"] > 22].index)"
   ]
  },
  {
   "cell_type": "code",
   "execution_count": 13,
   "metadata": {},
   "outputs": [
    {
     "name": "stdout",
     "output_type": "stream",
     "text": [
      "<class 'pandas.core.frame.DataFrame'>\n",
      "Int64Index: 73743 entries, 0 to 73797\n",
      "Data columns (total 14 columns):\n",
      " #   Column                               Non-Null Count  Dtype  \n",
      "---  ------                               --------------  -----  \n",
      " 0   Base Ship Length (m)                 73743 non-null  float64\n",
      " 1   Base Ship Length Dimensionless       73743 non-null  float64\n",
      " 2   Compared Ship Speed (m/s)            73743 non-null  float64\n",
      " 3   Compared Ship Speed Dimensionless    73743 non-null  float64\n",
      " 4   Distance (m)                         73743 non-null  float64\n",
      " 5   Distance Dimensionless               73743 non-null  float64\n",
      " 6   Ship Domain (m)(2*Base Ship Length)  73743 non-null  float64\n",
      " 7   Ship Domain Dimensionless            73743 non-null  float64\n",
      " 8   Violation Distance (m)               73743 non-null  float64\n",
      " 9   Violation Distance Dimensionless     73743 non-null  float64\n",
      " 10  Violation Check                      73743 non-null  int64  \n",
      " 11  Area                                 73743 non-null  int64  \n",
      " 12  Season                               73743 non-null  object \n",
      " 13  Violation/Length (m)                 73743 non-null  float64\n",
      "dtypes: float64(11), int64(2), object(1)\n",
      "memory usage: 8.4+ MB\n"
     ]
    }
   ],
   "source": [
    "dataset.info()"
   ]
  },
  {
   "cell_type": "code",
   "execution_count": 14,
   "metadata": {},
   "outputs": [],
   "source": [
    "cols = dataset.columns.tolist()"
   ]
  },
  {
   "cell_type": "code",
   "execution_count": 15,
   "metadata": {},
   "outputs": [],
   "source": [
    "df = dataset[['Base Ship Length (m)',\n",
    " 'Compared Ship Speed (m/s)',\n",
    " 'Distance (m)',\n",
    " 'Ship Domain (m)(2*Base Ship Length)',\n",
    " 'Violation Distance (m)',\n",
    " 'Violation Check',\n",
    " 'Area',\n",
    " 'Season',\n",
    " 'Violation/Length (m)']]"
   ]
  },
  {
   "cell_type": "code",
   "execution_count": 16,
   "metadata": {},
   "outputs": [
    {
     "data": {
      "text/html": [
       "<div>\n",
       "<style scoped>\n",
       "    .dataframe tbody tr th:only-of-type {\n",
       "        vertical-align: middle;\n",
       "    }\n",
       "\n",
       "    .dataframe tbody tr th {\n",
       "        vertical-align: top;\n",
       "    }\n",
       "\n",
       "    .dataframe thead th {\n",
       "        text-align: right;\n",
       "    }\n",
       "</style>\n",
       "<table border=\"1\" class=\"dataframe\">\n",
       "  <thead>\n",
       "    <tr style=\"text-align: right;\">\n",
       "      <th></th>\n",
       "      <th>Base Ship Length (m)</th>\n",
       "      <th>Compared Ship Speed (m/s)</th>\n",
       "      <th>Distance (m)</th>\n",
       "      <th>Ship Domain (m)(2*Base Ship Length)</th>\n",
       "      <th>Violation Distance (m)</th>\n",
       "      <th>Violation Check</th>\n",
       "      <th>Area</th>\n",
       "      <th>Season</th>\n",
       "      <th>Violation/Length (m)</th>\n",
       "    </tr>\n",
       "  </thead>\n",
       "  <tbody>\n",
       "    <tr>\n",
       "      <th>0</th>\n",
       "      <td>22.0</td>\n",
       "      <td>4.9858</td>\n",
       "      <td>93.806611</td>\n",
       "      <td>44.0</td>\n",
       "      <td>49.806611</td>\n",
       "      <td>0</td>\n",
       "      <td>1</td>\n",
       "      <td>Spring</td>\n",
       "      <td>2.263937</td>\n",
       "    </tr>\n",
       "    <tr>\n",
       "      <th>1</th>\n",
       "      <td>185.0</td>\n",
       "      <td>11.2052</td>\n",
       "      <td>896.664504</td>\n",
       "      <td>370.0</td>\n",
       "      <td>526.664504</td>\n",
       "      <td>0</td>\n",
       "      <td>1</td>\n",
       "      <td>Spring</td>\n",
       "      <td>2.846835</td>\n",
       "    </tr>\n",
       "    <tr>\n",
       "      <th>2</th>\n",
       "      <td>22.0</td>\n",
       "      <td>5.4998</td>\n",
       "      <td>524.199655</td>\n",
       "      <td>44.0</td>\n",
       "      <td>480.199655</td>\n",
       "      <td>0</td>\n",
       "      <td>1</td>\n",
       "      <td>Spring</td>\n",
       "      <td>21.827257</td>\n",
       "    </tr>\n",
       "    <tr>\n",
       "      <th>3</th>\n",
       "      <td>190.0</td>\n",
       "      <td>4.7802</td>\n",
       "      <td>732.630581</td>\n",
       "      <td>380.0</td>\n",
       "      <td>352.630581</td>\n",
       "      <td>0</td>\n",
       "      <td>1</td>\n",
       "      <td>Spring</td>\n",
       "      <td>1.855950</td>\n",
       "    </tr>\n",
       "    <tr>\n",
       "      <th>4</th>\n",
       "      <td>83.0</td>\n",
       "      <td>4.3690</td>\n",
       "      <td>968.411765</td>\n",
       "      <td>166.0</td>\n",
       "      <td>802.411765</td>\n",
       "      <td>0</td>\n",
       "      <td>1</td>\n",
       "      <td>Spring</td>\n",
       "      <td>9.667612</td>\n",
       "    </tr>\n",
       "  </tbody>\n",
       "</table>\n",
       "</div>"
      ],
      "text/plain": [
       "   Base Ship Length (m)  Compared Ship Speed (m/s)  Distance (m)  \\\n",
       "0                  22.0                     4.9858     93.806611   \n",
       "1                 185.0                    11.2052    896.664504   \n",
       "2                  22.0                     5.4998    524.199655   \n",
       "3                 190.0                     4.7802    732.630581   \n",
       "4                  83.0                     4.3690    968.411765   \n",
       "\n",
       "   Ship Domain (m)(2*Base Ship Length)  Violation Distance (m)  \\\n",
       "0                                 44.0               49.806611   \n",
       "1                                370.0              526.664504   \n",
       "2                                 44.0              480.199655   \n",
       "3                                380.0              352.630581   \n",
       "4                                166.0              802.411765   \n",
       "\n",
       "   Violation Check  Area  Season  Violation/Length (m)  \n",
       "0                0     1  Spring              2.263937  \n",
       "1                0     1  Spring              2.846835  \n",
       "2                0     1  Spring             21.827257  \n",
       "3                0     1  Spring              1.855950  \n",
       "4                0     1  Spring              9.667612  "
      ]
     },
     "execution_count": 16,
     "metadata": {},
     "output_type": "execute_result"
    }
   ],
   "source": [
    "df.head(5)"
   ]
  },
  {
   "cell_type": "code",
   "execution_count": 17,
   "metadata": {},
   "outputs": [],
   "source": [
    "temp = df[\"Violation Distance (m)\"]"
   ]
  },
  {
   "cell_type": "code",
   "execution_count": 18,
   "metadata": {},
   "outputs": [
    {
     "data": {
      "text/plain": [
       "0         49.806611\n",
       "1        526.664504\n",
       "2        480.199655\n",
       "3        352.630581\n",
       "4        802.411765\n",
       "            ...    \n",
       "73793    114.226661\n",
       "73794    224.017564\n",
       "73795   -116.588655\n",
       "73796     60.140328\n",
       "73797    260.676097\n",
       "Name: Violation Distance (m), Length: 73743, dtype: float64"
      ]
     },
     "execution_count": 18,
     "metadata": {},
     "output_type": "execute_result"
    }
   ],
   "source": [
    "temp"
   ]
  },
  {
   "cell_type": "code",
   "execution_count": 19,
   "metadata": {},
   "outputs": [],
   "source": [
    "temp_n = []\n",
    "for i in temp:\n",
    "    if i < 0:\n",
    "        x = i\n",
    "        temp_n.append(x)"
   ]
  },
  {
   "cell_type": "code",
   "execution_count": 20,
   "metadata": {},
   "outputs": [],
   "source": [
    "temp_p = []\n",
    "for i in temp:\n",
    "    if i > 0:\n",
    "        x = i\n",
    "        temp_p.append(x)"
   ]
  },
  {
   "cell_type": "code",
   "execution_count": 21,
   "metadata": {},
   "outputs": [
    {
     "data": {
      "text/plain": [
       "949.9355257"
      ]
     },
     "execution_count": 21,
     "metadata": {},
     "output_type": "execute_result"
    }
   ],
   "source": [
    "max(temp_p)"
   ]
  },
  {
   "cell_type": "code",
   "execution_count": 22,
   "metadata": {},
   "outputs": [
    {
     "data": {
      "text/plain": [
       "0.0035301000000060897"
      ]
     },
     "execution_count": 22,
     "metadata": {},
     "output_type": "execute_result"
    }
   ],
   "source": [
    "min(temp_p)"
   ]
  },
  {
   "cell_type": "code",
   "execution_count": 23,
   "metadata": {},
   "outputs": [
    {
     "data": {
      "text/plain": [
       "-0.0007411999999931138"
      ]
     },
     "execution_count": 23,
     "metadata": {},
     "output_type": "execute_result"
    }
   ],
   "source": [
    "max(temp_n)"
   ]
  },
  {
   "cell_type": "code",
   "execution_count": 24,
   "metadata": {},
   "outputs": [
    {
     "data": {
      "text/plain": [
       "-510.7728714"
      ]
     },
     "execution_count": 24,
     "metadata": {},
     "output_type": "execute_result"
    }
   ],
   "source": [
    "min(temp_n)"
   ]
  },
  {
   "cell_type": "code",
   "execution_count": 25,
   "metadata": {},
   "outputs": [
    {
     "data": {
      "text/html": [
       "<div>\n",
       "<style scoped>\n",
       "    .dataframe tbody tr th:only-of-type {\n",
       "        vertical-align: middle;\n",
       "    }\n",
       "\n",
       "    .dataframe tbody tr th {\n",
       "        vertical-align: top;\n",
       "    }\n",
       "\n",
       "    .dataframe thead th {\n",
       "        text-align: right;\n",
       "    }\n",
       "</style>\n",
       "<table border=\"1\" class=\"dataframe\">\n",
       "  <thead>\n",
       "    <tr style=\"text-align: right;\">\n",
       "      <th></th>\n",
       "      <th>Base Ship Length (m)</th>\n",
       "      <th>Compared Ship Speed (m/s)</th>\n",
       "      <th>Distance (m)</th>\n",
       "      <th>Ship Domain (m)(2*Base Ship Length)</th>\n",
       "      <th>Violation Distance (m)</th>\n",
       "      <th>Violation Check</th>\n",
       "      <th>Area</th>\n",
       "      <th>Violation/Length (m)</th>\n",
       "    </tr>\n",
       "  </thead>\n",
       "  <tbody>\n",
       "    <tr>\n",
       "      <th>count</th>\n",
       "      <td>73743.000000</td>\n",
       "      <td>73743.000000</td>\n",
       "      <td>73743.000000</td>\n",
       "      <td>73743.000000</td>\n",
       "      <td>73743.000000</td>\n",
       "      <td>73743.000000</td>\n",
       "      <td>73743.000000</td>\n",
       "      <td>73743.000000</td>\n",
       "    </tr>\n",
       "    <tr>\n",
       "      <th>mean</th>\n",
       "      <td>135.537868</td>\n",
       "      <td>4.890946</td>\n",
       "      <td>515.049063</td>\n",
       "      <td>271.075736</td>\n",
       "      <td>243.973327</td>\n",
       "      <td>0.203613</td>\n",
       "      <td>6.962993</td>\n",
       "      <td>2.339603</td>\n",
       "    </tr>\n",
       "    <tr>\n",
       "      <th>std</th>\n",
       "      <td>49.833372</td>\n",
       "      <td>1.221114</td>\n",
       "      <td>250.184271</td>\n",
       "      <td>99.666744</td>\n",
       "      <td>269.356959</td>\n",
       "      <td>0.402687</td>\n",
       "      <td>3.541258</td>\n",
       "      <td>2.967952</td>\n",
       "    </tr>\n",
       "    <tr>\n",
       "      <th>min</th>\n",
       "      <td>17.000000</td>\n",
       "      <td>1.336400</td>\n",
       "      <td>1.644267</td>\n",
       "      <td>34.000000</td>\n",
       "      <td>-510.772871</td>\n",
       "      <td>0.000000</td>\n",
       "      <td>1.000000</td>\n",
       "      <td>-1.991391</td>\n",
       "    </tr>\n",
       "    <tr>\n",
       "      <th>25%</th>\n",
       "      <td>100.000000</td>\n",
       "      <td>4.009200</td>\n",
       "      <td>300.642506</td>\n",
       "      <td>200.000000</td>\n",
       "      <td>29.828458</td>\n",
       "      <td>0.000000</td>\n",
       "      <td>4.000000</td>\n",
       "      <td>0.224136</td>\n",
       "    </tr>\n",
       "    <tr>\n",
       "      <th>50%</th>\n",
       "      <td>120.000000</td>\n",
       "      <td>4.883000</td>\n",
       "      <td>469.375613</td>\n",
       "      <td>240.000000</td>\n",
       "      <td>206.783437</td>\n",
       "      <td>0.000000</td>\n",
       "      <td>7.000000</td>\n",
       "      <td>1.645993</td>\n",
       "    </tr>\n",
       "    <tr>\n",
       "      <th>75%</th>\n",
       "      <td>171.000000</td>\n",
       "      <td>5.756800</td>\n",
       "      <td>729.322454</td>\n",
       "      <td>342.000000</td>\n",
       "      <td>459.813335</td>\n",
       "      <td>0.000000</td>\n",
       "      <td>10.000000</td>\n",
       "      <td>3.820428</td>\n",
       "    </tr>\n",
       "    <tr>\n",
       "      <th>max</th>\n",
       "      <td>329.000000</td>\n",
       "      <td>14.443400</td>\n",
       "      <td>999.948540</td>\n",
       "      <td>658.000000</td>\n",
       "      <td>949.935526</td>\n",
       "      <td>1.000000</td>\n",
       "      <td>13.000000</td>\n",
       "      <td>45.865932</td>\n",
       "    </tr>\n",
       "  </tbody>\n",
       "</table>\n",
       "</div>"
      ],
      "text/plain": [
       "       Base Ship Length (m)  Compared Ship Speed (m/s)  Distance (m)  \\\n",
       "count          73743.000000               73743.000000  73743.000000   \n",
       "mean             135.537868                   4.890946    515.049063   \n",
       "std               49.833372                   1.221114    250.184271   \n",
       "min               17.000000                   1.336400      1.644267   \n",
       "25%              100.000000                   4.009200    300.642506   \n",
       "50%              120.000000                   4.883000    469.375613   \n",
       "75%              171.000000                   5.756800    729.322454   \n",
       "max              329.000000                  14.443400    999.948540   \n",
       "\n",
       "       Ship Domain (m)(2*Base Ship Length)  Violation Distance (m)  \\\n",
       "count                         73743.000000            73743.000000   \n",
       "mean                            271.075736              243.973327   \n",
       "std                              99.666744              269.356959   \n",
       "min                              34.000000             -510.772871   \n",
       "25%                             200.000000               29.828458   \n",
       "50%                             240.000000              206.783437   \n",
       "75%                             342.000000              459.813335   \n",
       "max                             658.000000              949.935526   \n",
       "\n",
       "       Violation Check          Area  Violation/Length (m)  \n",
       "count     73743.000000  73743.000000          73743.000000  \n",
       "mean          0.203613      6.962993              2.339603  \n",
       "std           0.402687      3.541258              2.967952  \n",
       "min           0.000000      1.000000             -1.991391  \n",
       "25%           0.000000      4.000000              0.224136  \n",
       "50%           0.000000      7.000000              1.645993  \n",
       "75%           0.000000     10.000000              3.820428  \n",
       "max           1.000000     13.000000             45.865932  "
      ]
     },
     "execution_count": 25,
     "metadata": {},
     "output_type": "execute_result"
    }
   ],
   "source": [
    "df.describe()"
   ]
  },
  {
   "cell_type": "code",
   "execution_count": 26,
   "metadata": {},
   "outputs": [
    {
     "name": "stderr",
     "output_type": "stream",
     "text": [
      "/Users/furkanoruc/opt/anaconda3/lib/python3.7/site-packages/ipykernel_launcher.py:2: SettingWithCopyWarning: \n",
      "A value is trying to be set on a copy of a slice from a DataFrame.\n",
      "Try using .loc[row_indexer,col_indexer] = value instead\n",
      "\n",
      "See the caveats in the documentation: https://pandas.pydata.org/pandas-docs/stable/user_guide/indexing.html#returning-a-view-versus-a-copy\n",
      "  \n"
     ]
    }
   ],
   "source": [
    "#Adding dimensionless Violation Distance, Seperately Scaled for negative and positive\n",
    "df[\"VD_Dimensionless_2SD\"] = df[\"Violation Distance (m)\"].apply(lambda x: ((x-min(temp_p))/(max(temp_p)-min(temp_p))) if x>0 else ((x-max(temp_n))/(max(temp_n)-min(temp_n))))\n"
   ]
  },
  {
   "cell_type": "code",
   "execution_count": 27,
   "metadata": {},
   "outputs": [],
   "source": [
    "#Firstly, investigate the max min scale of V/L"
   ]
  },
  {
   "cell_type": "code",
   "execution_count": 28,
   "metadata": {},
   "outputs": [
    {
     "data": {
      "text/plain": [
       "73743"
      ]
     },
     "execution_count": 28,
     "metadata": {},
     "output_type": "execute_result"
    }
   ],
   "source": [
    "(df[\"Violation/Length (m)\"] < 5).count()"
   ]
  },
  {
   "cell_type": "code",
   "execution_count": 29,
   "metadata": {},
   "outputs": [],
   "source": [
    "temp2 = df[\"Violation/Length (m)\"]"
   ]
  },
  {
   "cell_type": "code",
   "execution_count": 30,
   "metadata": {},
   "outputs": [],
   "source": [
    "temp_n_2 = []\n",
    "for i in temp2:\n",
    "    if i < 0:\n",
    "        x = i\n",
    "        temp_n_2.append(x)"
   ]
  },
  {
   "cell_type": "code",
   "execution_count": 31,
   "metadata": {},
   "outputs": [],
   "source": [
    "temp_p_2 = []\n",
    "for i in temp2:\n",
    "    if i >= 0:\n",
    "        x = i\n",
    "        temp_p_2.append(x)"
   ]
  },
  {
   "cell_type": "code",
   "execution_count": null,
   "metadata": {},
   "outputs": [],
   "source": []
  },
  {
   "cell_type": "code",
   "execution_count": 32,
   "metadata": {},
   "outputs": [
    {
     "data": {
      "text/plain": [
       "'df_copy[\"SPEED\"] = df_copy[\"Compared Ship Speed (m/s)\"].apply(lambda x: ((x-df_copy[\"Compared Ship Speed (m/s)\"].min())/(df_copy[\"Compared Ship Speed (m/s)\"].max()-df_copy[\"Compared Ship Speed (m/s)\"].min())))\\ndf_copy[\"DIST\"] = df_copy[\"Distance (m)\"].apply(lambda x: ((x-df_copy[\"Distance (m)\"].min())/(df_copy[\"Distance (m)\"].max()-df_copy[\"Distance (m)\"].min())))'"
      ]
     },
     "execution_count": 32,
     "metadata": {},
     "output_type": "execute_result"
    }
   ],
   "source": [
    "\"\"\"df_copy[\"SPEED\"] = df_copy[\"Compared Ship Speed (m/s)\"].apply(lambda x: ((x-df_copy[\"Compared Ship Speed (m/s)\"].min())/(df_copy[\"Compared Ship Speed (m/s)\"].max()-df_copy[\"Compared Ship Speed (m/s)\"].min())))\n",
    "df_copy[\"DIST\"] = df_copy[\"Distance (m)\"].apply(lambda x: ((x-df_copy[\"Distance (m)\"].min())/(df_copy[\"Distance (m)\"].max()-df_copy[\"Distance (m)\"].min())))\"\"\""
   ]
  },
  {
   "cell_type": "code",
   "execution_count": 33,
   "metadata": {},
   "outputs": [
    {
     "name": "stderr",
     "output_type": "stream",
     "text": [
      "/Users/furkanoruc/opt/anaconda3/lib/python3.7/site-packages/ipykernel_launcher.py:1: SettingWithCopyWarning: \n",
      "A value is trying to be set on a copy of a slice from a DataFrame.\n",
      "Try using .loc[row_indexer,col_indexer] = value instead\n",
      "\n",
      "See the caveats in the documentation: https://pandas.pydata.org/pandas-docs/stable/user_guide/indexing.html#returning-a-view-versus-a-copy\n",
      "  \"\"\"Entry point for launching an IPython kernel.\n",
      "/Users/furkanoruc/opt/anaconda3/lib/python3.7/site-packages/ipykernel_launcher.py:2: SettingWithCopyWarning: \n",
      "A value is trying to be set on a copy of a slice from a DataFrame.\n",
      "Try using .loc[row_indexer,col_indexer] = value instead\n",
      "\n",
      "See the caveats in the documentation: https://pandas.pydata.org/pandas-docs/stable/user_guide/indexing.html#returning-a-view-versus-a-copy\n",
      "  \n"
     ]
    }
   ],
   "source": [
    "df[\"Speed_Dimensionless\"] = df[\"Compared Ship Speed (m/s)\"].apply(lambda x: ((x-df[\"Compared Ship Speed (m/s)\"].min())/(df[\"Compared Ship Speed (m/s)\"].max()-df[\"Compared Ship Speed (m/s)\"].min())))\n",
    "df[\"Distance_Dimensionless\"] = df[\"Distance (m)\"].apply(lambda x: ((x-df[\"Distance (m)\"].min())/(df[\"Distance (m)\"].max()-df[\"Distance (m)\"].min())))"
   ]
  },
  {
   "cell_type": "code",
   "execution_count": 34,
   "metadata": {},
   "outputs": [
    {
     "name": "stderr",
     "output_type": "stream",
     "text": [
      "/Users/furkanoruc/opt/anaconda3/lib/python3.7/site-packages/ipykernel_launcher.py:2: SettingWithCopyWarning: \n",
      "A value is trying to be set on a copy of a slice from a DataFrame.\n",
      "Try using .loc[row_indexer,col_indexer] = value instead\n",
      "\n",
      "See the caveats in the documentation: https://pandas.pydata.org/pandas-docs/stable/user_guide/indexing.html#returning-a-view-versus-a-copy\n",
      "  \n"
     ]
    }
   ],
   "source": [
    "#Dimensionless application for length of base ship\n",
    "df[\"Length_Dimensionless\"] = df[\"Base Ship Length (m)\"].apply(lambda x: ((x-df[\"Base Ship Length (m)\"].min())/(df[\"Base Ship Length (m)\"].max()-df[\"Base Ship Length (m)\"].min())))"
   ]
  },
  {
   "cell_type": "code",
   "execution_count": 90,
   "metadata": {},
   "outputs": [
    {
     "data": {
      "text/plain": [
       "<matplotlib.axes._subplots.AxesSubplot at 0x1a203fd710>"
      ]
     },
     "execution_count": 90,
     "metadata": {},
     "output_type": "execute_result"
    },
    {
     "data": {
      "image/png": "[encoded data removed]",
      "text/plain": [
       "<Figure size 432x288 with 1 Axes>"
      ]
     },
     "metadata": {
      "needs_background": "light"
     },
     "output_type": "display_data"
    }
   ],
   "source": [
    "#To observe if there are any outliers\n",
    "df[\"Compared Ship Speed (m/s)\"].hist(bins = 10)"
   ]
  },
  {
   "cell_type": "code",
   "execution_count": 91,
   "metadata": {},
   "outputs": [
    {
     "data": {
      "text/plain": [
       "200"
      ]
     },
     "execution_count": 91,
     "metadata": {},
     "output_type": "execute_result"
    }
   ],
   "source": [
    "#Observation on distribution of violation/length\n",
    "count = 0\n",
    "for i in df[\"Compared Ship Speed (m/s)\"]:\n",
    "    if i > 8:\n",
    "        count += 1\n",
    "count"
   ]
  },
  {
   "cell_type": "code",
   "execution_count": 7,
   "metadata": {},
   "outputs": [],
   "source": [
    "df = pd.read_csv('Preprocessed_Merged.csv')"
   ]
  },
  {
   "cell_type": "code",
   "execution_count": 8,
   "metadata": {},
   "outputs": [
    {
     "name": "stdout",
     "output_type": "stream",
     "text": [
      "<class 'pandas.core.frame.DataFrame'>\n",
      "RangeIndex: 73543 entries, 0 to 73542\n",
      "Data columns (total 15 columns):\n",
      " #   Column                               Non-Null Count  Dtype  \n",
      "---  ------                               --------------  -----  \n",
      " 0   Unnamed: 0                           73543 non-null  int64  \n",
      " 1   Base Ship Length (m)                 73543 non-null  float64\n",
      " 2   Compared Ship Speed (m/s)            73543 non-null  float64\n",
      " 3   Distance (m)                         73543 non-null  float64\n",
      " 4   Ship Domain (m)(2*Base Ship Length)  73543 non-null  float64\n",
      " 5   Violation Distance (m)               73543 non-null  float64\n",
      " 6   Violation Check                      73543 non-null  int64  \n",
      " 7   Area                                 73543 non-null  int64  \n",
      " 8   Season                               73543 non-null  object \n",
      " 9   Violation/Length (m)                 73543 non-null  float64\n",
      " 10  VD_Dimensionless_2SD                 73543 non-null  float64\n",
      " 11  Speed_Dimensionless                  73543 non-null  float64\n",
      " 12  Distance_Dimensionless               73543 non-null  float64\n",
      " 13  Length_Dimensionless                 73543 non-null  float64\n",
      " 14  Speed_Dimensionless_Rescaled         73543 non-null  float64\n",
      "dtypes: float64(11), int64(3), object(1)\n",
      "memory usage: 8.4+ MB\n"
     ]
    }
   ],
   "source": [
    "df.info(5)"
   ]
  },
  {
   "cell_type": "code",
   "execution_count": 94,
   "metadata": {},
   "outputs": [
    {
     "data": {
      "text/plain": [
       "-1.0"
      ]
     },
     "execution_count": 94,
     "metadata": {},
     "output_type": "execute_result"
    }
   ],
   "source": [
    "df.iloc[:,10].min()"
   ]
  },
  {
   "cell_type": "code",
   "execution_count": 95,
   "metadata": {
    "scrolled": true
   },
   "outputs": [
    {
     "data": {
      "text/plain": [
       "<Figure size 1152x576 with 0 Axes>"
      ]
     },
     "execution_count": 95,
     "metadata": {},
     "output_type": "execute_result"
    },
    {
     "data": {
      "image/png": "[encoded data removed]",
      "text/plain": [
       "<Figure size 432x288 with 1 Axes>"
      ]
     },
     "metadata": {
      "needs_background": "light"
     },
     "output_type": "display_data"
    },
    {
     "data": {
      "text/plain": [
       "<Figure size 1152x576 with 0 Axes>"
      ]
     },
     "metadata": {},
     "output_type": "display_data"
    }
   ],
   "source": [
    "plt.scatter(df.loc[:,\"Speed_Dimensionless\"], df.loc[:,\"Length_Dimensionless\"])\n",
    "plt.figure(figsize=(16,8))"
   ]
  },
  {
   "cell_type": "code",
   "execution_count": 103,
   "metadata": {},
   "outputs": [],
   "source": [
    "df = df.drop(df[df[\"Compared Ship Speed (m/s)\"] > 8].index)"
   ]
  },
  {
   "cell_type": "code",
   "execution_count": 104,
   "metadata": {},
   "outputs": [
    {
     "data": {
      "text/plain": [
       "<Figure size 1152x576 with 0 Axes>"
      ]
     },
     "execution_count": 104,
     "metadata": {},
     "output_type": "execute_result"
    },
    {
     "data": {
      "image/png": "[encoded data removed]",
      "text/plain": [
       "<Figure size 432x288 with 1 Axes>"
      ]
     },
     "metadata": {
      "needs_background": "light"
     },
     "output_type": "display_data"
    },
    {
     "data": {
      "text/plain": [
       "<Figure size 1152x576 with 0 Axes>"
      ]
     },
     "metadata": {},
     "output_type": "display_data"
    }
   ],
   "source": [
    "plt.scatter(df.loc[:,\"Speed_Dimensionless\"], df.loc[:,\"Length_Dimensionless\"])\n",
    "plt.figure(figsize=(16,8))"
   ]
  },
  {
   "cell_type": "code",
   "execution_count": 105,
   "metadata": {},
   "outputs": [
    {
     "data": {
      "text/plain": [
       "<matplotlib.collections.PathCollection at 0x1a2eed2690>"
      ]
     },
     "execution_count": 105,
     "metadata": {},
     "output_type": "execute_result"
    },
    {
     "data": {
      "image/png": "[encoded data removed]",
      "text/plain": [
       "<Figure size 1152x576 with 1 Axes>"
      ]
     },
     "metadata": {
      "needs_background": "light"
     },
     "output_type": "display_data"
    }
   ],
   "source": [
    "plt.figure(figsize=(16,8))\n",
    "plt.scatter(df.loc[:,\"Speed_Dimensionless\"], df.loc[:,\"Length_Dimensionless\"])"
   ]
  },
  {
   "cell_type": "code",
   "execution_count": 106,
   "metadata": {},
   "outputs": [],
   "source": [
    "#Redimensionalize Dimensionless Speed to reach a more accurate outcome\n",
    "\n",
    "df[\"Speed_Dimensionless_Rescaled\"] = df[\"Speed_Dimensionless\"].apply(lambda x: ((x-df[\"Speed_Dimensionless\"].min())/(df[\"Speed_Dimensionless\"].max()-df[\"Speed_Dimensionless\"].min())))"
   ]
  },
  {
   "cell_type": "code",
   "execution_count": 9,
   "metadata": {},
   "outputs": [
    {
     "data": {
      "text/html": [
       "<div>\n",
       "<style scoped>\n",
       "    .dataframe tbody tr th:only-of-type {\n",
       "        vertical-align: middle;\n",
       "    }\n",
       "\n",
       "    .dataframe tbody tr th {\n",
       "        vertical-align: top;\n",
       "    }\n",
       "\n",
       "    .dataframe thead th {\n",
       "        text-align: right;\n",
       "    }\n",
       "</style>\n",
       "<table border=\"1\" class=\"dataframe\">\n",
       "  <thead>\n",
       "    <tr style=\"text-align: right;\">\n",
       "      <th></th>\n",
       "      <th>Unnamed: 0</th>\n",
       "      <th>Base Ship Length (m)</th>\n",
       "      <th>Compared Ship Speed (m/s)</th>\n",
       "      <th>Distance (m)</th>\n",
       "      <th>Ship Domain (m)(2*Base Ship Length)</th>\n",
       "      <th>Violation Distance (m)</th>\n",
       "      <th>Violation Check</th>\n",
       "      <th>Area</th>\n",
       "      <th>Season</th>\n",
       "      <th>Violation/Length (m)</th>\n",
       "      <th>VD_Dimensionless_2SD</th>\n",
       "      <th>Speed_Dimensionless</th>\n",
       "      <th>Distance_Dimensionless</th>\n",
       "      <th>Length_Dimensionless</th>\n",
       "      <th>Speed_Dimensionless_Rescaled</th>\n",
       "    </tr>\n",
       "  </thead>\n",
       "  <tbody>\n",
       "    <tr>\n",
       "      <th>0</th>\n",
       "      <td>0</td>\n",
       "      <td>22.0</td>\n",
       "      <td>4.9858</td>\n",
       "      <td>93.806611</td>\n",
       "      <td>44.0</td>\n",
       "      <td>49.806611</td>\n",
       "      <td>0</td>\n",
       "      <td>1</td>\n",
       "      <td>Spring</td>\n",
       "      <td>2.263937</td>\n",
       "      <td>0.052428</td>\n",
       "      <td>0.278431</td>\n",
       "      <td>0.092319</td>\n",
       "      <td>0.016026</td>\n",
       "      <td>0.550388</td>\n",
       "    </tr>\n",
       "    <tr>\n",
       "      <th>1</th>\n",
       "      <td>2</td>\n",
       "      <td>22.0</td>\n",
       "      <td>5.4998</td>\n",
       "      <td>524.199655</td>\n",
       "      <td>44.0</td>\n",
       "      <td>480.199655</td>\n",
       "      <td>0</td>\n",
       "      <td>1</td>\n",
       "      <td>Spring</td>\n",
       "      <td>21.827257</td>\n",
       "      <td>0.505506</td>\n",
       "      <td>0.317647</td>\n",
       "      <td>0.523443</td>\n",
       "      <td>0.016026</td>\n",
       "      <td>0.627907</td>\n",
       "    </tr>\n",
       "    <tr>\n",
       "      <th>2</th>\n",
       "      <td>3</td>\n",
       "      <td>190.0</td>\n",
       "      <td>4.7802</td>\n",
       "      <td>732.630581</td>\n",
       "      <td>380.0</td>\n",
       "      <td>352.630581</td>\n",
       "      <td>0</td>\n",
       "      <td>1</td>\n",
       "      <td>Spring</td>\n",
       "      <td>1.855950</td>\n",
       "      <td>0.371213</td>\n",
       "      <td>0.262745</td>\n",
       "      <td>0.732228</td>\n",
       "      <td>0.554487</td>\n",
       "      <td>0.519380</td>\n",
       "    </tr>\n",
       "    <tr>\n",
       "      <th>3</th>\n",
       "      <td>4</td>\n",
       "      <td>83.0</td>\n",
       "      <td>4.3690</td>\n",
       "      <td>968.411765</td>\n",
       "      <td>166.0</td>\n",
       "      <td>802.411765</td>\n",
       "      <td>0</td>\n",
       "      <td>1</td>\n",
       "      <td>Spring</td>\n",
       "      <td>9.667612</td>\n",
       "      <td>0.844701</td>\n",
       "      <td>0.231373</td>\n",
       "      <td>0.968410</td>\n",
       "      <td>0.211538</td>\n",
       "      <td>0.457364</td>\n",
       "    </tr>\n",
       "    <tr>\n",
       "      <th>4</th>\n",
       "      <td>5</td>\n",
       "      <td>185.0</td>\n",
       "      <td>5.1400</td>\n",
       "      <td>359.910324</td>\n",
       "      <td>370.0</td>\n",
       "      <td>-10.089676</td>\n",
       "      <td>1</td>\n",
       "      <td>1</td>\n",
       "      <td>Spring</td>\n",
       "      <td>-0.054539</td>\n",
       "      <td>-0.019752</td>\n",
       "      <td>0.290196</td>\n",
       "      <td>0.358875</td>\n",
       "      <td>0.538462</td>\n",
       "      <td>0.573643</td>\n",
       "    </tr>\n",
       "  </tbody>\n",
       "</table>\n",
       "</div>"
      ],
      "text/plain": [
       "   Unnamed: 0  Base Ship Length (m)  Compared Ship Speed (m/s)  Distance (m)  \\\n",
       "0           0                  22.0                     4.9858     93.806611   \n",
       "1           2                  22.0                     5.4998    524.199655   \n",
       "2           3                 190.0                     4.7802    732.630581   \n",
       "3           4                  83.0                     4.3690    968.411765   \n",
       "4           5                 185.0                     5.1400    359.910324   \n",
       "\n",
       "   Ship Domain (m)(2*Base Ship Length)  Violation Distance (m)  \\\n",
       "0                                 44.0               49.806611   \n",
       "1                                 44.0              480.199655   \n",
       "2                                380.0              352.630581   \n",
       "3                                166.0              802.411765   \n",
       "4                                370.0              -10.089676   \n",
       "\n",
       "   Violation Check  Area  Season  Violation/Length (m)  VD_Dimensionless_2SD  \\\n",
       "0                0     1  Spring              2.263937              0.052428   \n",
       "1                0     1  Spring             21.827257              0.505506   \n",
       "2                0     1  Spring              1.855950              0.371213   \n",
       "3                0     1  Spring              9.667612              0.844701   \n",
       "4                1     1  Spring             -0.054539             -0.019752   \n",
       "\n",
       "   Speed_Dimensionless  Distance_Dimensionless  Length_Dimensionless  \\\n",
       "0             0.278431                0.092319              0.016026   \n",
       "1             0.317647                0.523443              0.016026   \n",
       "2             0.262745                0.732228              0.554487   \n",
       "3             0.231373                0.968410              0.211538   \n",
       "4             0.290196                0.358875              0.538462   \n",
       "\n",
       "   Speed_Dimensionless_Rescaled  \n",
       "0                      0.550388  \n",
       "1                      0.627907  \n",
       "2                      0.519380  \n",
       "3                      0.457364  \n",
       "4                      0.573643  "
      ]
     },
     "execution_count": 9,
     "metadata": {},
     "output_type": "execute_result"
    }
   ],
   "source": [
    "df.head(5)"
   ]
  },
  {
   "cell_type": "code",
   "execution_count": 10,
   "metadata": {},
   "outputs": [
    {
     "name": "stdout",
     "output_type": "stream",
     "text": [
      "<class 'pandas.core.frame.DataFrame'>\n",
      "RangeIndex: 73543 entries, 0 to 73542\n",
      "Data columns (total 15 columns):\n",
      " #   Column                               Non-Null Count  Dtype  \n",
      "---  ------                               --------------  -----  \n",
      " 0   Unnamed: 0                           73543 non-null  int64  \n",
      " 1   Base Ship Length (m)                 73543 non-null  float64\n",
      " 2   Compared Ship Speed (m/s)            73543 non-null  float64\n",
      " 3   Distance (m)                         73543 non-null  float64\n",
      " 4   Ship Domain (m)(2*Base Ship Length)  73543 non-null  float64\n",
      " 5   Violation Distance (m)               73543 non-null  float64\n",
      " 6   Violation Check                      73543 non-null  int64  \n",
      " 7   Area                                 73543 non-null  int64  \n",
      " 8   Season                               73543 non-null  object \n",
      " 9   Violation/Length (m)                 73543 non-null  float64\n",
      " 10  VD_Dimensionless_2SD                 73543 non-null  float64\n",
      " 11  Speed_Dimensionless                  73543 non-null  float64\n",
      " 12  Distance_Dimensionless               73543 non-null  float64\n",
      " 13  Length_Dimensionless                 73543 non-null  float64\n",
      " 14  Speed_Dimensionless_Rescaled         73543 non-null  float64\n",
      "dtypes: float64(11), int64(3), object(1)\n",
      "memory usage: 8.4+ MB\n"
     ]
    }
   ],
   "source": [
    "#df.to_csv(\"Preprocessed_Merged.csv\")\n",
    "df.info()"
   ]
  },
  {
   "cell_type": "code",
   "execution_count": 110,
   "metadata": {},
   "outputs": [],
   "source": [
    "#df.to_csv('22_March_Finalized_Dataframe.csv', index=True)"
   ]
  },
  {
   "cell_type": "code",
   "execution_count": 11,
   "metadata": {},
   "outputs": [],
   "source": [
    "X = df.iloc[:, lambda df: [13,14,10]].values"
   ]
  },
  {
   "cell_type": "code",
   "execution_count": 102,
   "metadata": {},
   "outputs": [
    {
     "data": {
      "text/plain": [
       "array([[ 0.01602564,  0.5503876 ,  0.05242805],\n",
       "       [ 0.01602564,  0.62790698,  0.50550579],\n",
       "       [ 0.55448718,  0.51937984,  0.37121294],\n",
       "       ...,\n",
       "       [ 0.53205128,  0.41085271, -0.22825817],\n",
       "       [ 0.25      ,  0.62790698,  0.06330642],\n",
       "       [ 0.21474359,  0.27131783,  0.27441182]])"
      ]
     },
     "execution_count": 102,
     "metadata": {},
     "output_type": "execute_result"
    }
   ],
   "source": [
    "X"
   ]
  },
  {
   "cell_type": "code",
   "execution_count": 10,
   "metadata": {},
   "outputs": [],
   "source": [
    "#elbow method\n",
    "X = df.iloc[:, lambda df: [13,14,10]].values\n",
    "\n",
    "distortions = []\n",
    "K = range(2,15)\n",
    "for k in K:\n",
    "    kmeanModel = KMeans(n_clusters=k)\n",
    "    kmeanModel.fit(X)\n",
    "    distortions.append(kmeanModel.inertia_)"
   ]
  },
  {
   "cell_type": "code",
   "execution_count": 11,
   "metadata": {},
   "outputs": [
    {
     "data": {
      "image/png": "[encoded data removed]",
      "text/plain": [
       "<Figure size 1152x576 with 1 Axes>"
      ]
     },
     "metadata": {
      "needs_background": "light"
     },
     "output_type": "display_data"
    }
   ],
   "source": [
    "plt.figure(figsize=(16,8))\n",
    "plt.plot(K, distortions, 'bx-')\n",
    "plt.xlabel('k')\n",
    "plt.ylabel('Distortion')\n",
    "plt.xticks(range(2,15))\n",
    "plt.title('The Elbow Method showing the optimal k')\n",
    "plt.show()"
   ]
  },
  {
   "cell_type": "code",
   "execution_count": 13,
   "metadata": {},
   "outputs": [],
   "source": [
    "from sklearn.metrics import silhouette_score, davies_bouldin_score,v_measure_score"
   ]
  },
  {
   "cell_type": "code",
   "execution_count": 14,
   "metadata": {},
   "outputs": [
    {
     "name": "stdout",
     "output_type": "stream",
     "text": [
      "Score for number of cluster(s) 2: -6492.407754914209\n",
      "Silhouette score for number of cluster(s) 2: 0.36514917623096\n",
      "Score for number of cluster(s) 3: -4944.508892609384\n",
      "Silhouette score for number of cluster(s) 3: 0.3183066009675556\n",
      "Score for number of cluster(s) 4: -4035.115097165955\n",
      "Silhouette score for number of cluster(s) 4: 0.31437021013853966\n",
      "Score for number of cluster(s) 5: -3545.9393670851514\n",
      "Silhouette score for number of cluster(s) 5: 0.2790559027640964\n",
      "Score for number of cluster(s) 6: -3131.238217150775\n",
      "Silhouette score for number of cluster(s) 6: 0.2821453642581437\n",
      "Score for number of cluster(s) 7: -2799.5675649673144\n",
      "Silhouette score for number of cluster(s) 7: 0.2752864379703008\n",
      "Score for number of cluster(s) 8: -2553.92752208389\n",
      "Silhouette score for number of cluster(s) 8: 0.26650027296360024\n",
      "Score for number of cluster(s) 9: -2386.0344903780588\n",
      "Silhouette score for number of cluster(s) 9: 0.2605127801706437\n",
      "Score for number of cluster(s) 10: -2229.77005003377\n",
      "Silhouette score for number of cluster(s) 10: 0.25986195309923654\n",
      "Score for number of cluster(s) 11: -2087.0011181080727\n",
      "Silhouette score for number of cluster(s) 11: 0.26067796135314547\n"
     ]
    }
   ],
   "source": [
    "km_scores= []\n",
    "km_silhouette = []\n",
    "labels_holder = {}\n",
    "for i in range(2,12):\n",
    "    km = KMeans(n_clusters=i, random_state=0).fit(X)\n",
    "    preds = km.predict(X)\n",
    "    labels_holder[i-2] = preds\n",
    "    \n",
    "    print(\"Score for number of cluster(s) {}: {}\".format(i,km.score(X)))\n",
    "    km_scores.append(-km.score(X))\n",
    "    \n",
    "    silhouette = silhouette_score(X,preds)\n",
    "    km_silhouette.append(silhouette)\n",
    "    print(\"Silhouette score for number of cluster(s) {}: {}\".format(i,silhouette))"
   ]
  },
  {
   "cell_type": "code",
   "execution_count": 50,
   "metadata": {},
   "outputs": [
    {
     "data": {
      "image/png": "[encoded data removed]",
      "text/plain": [
       "<Figure size 1152x576 with 1 Axes>"
      ]
     },
     "metadata": {
      "needs_background": "light"
     },
     "output_type": "display_data"
    }
   ],
   "source": [
    "plt.figure(figsize=(16,8))\n",
    "plt.title(\"The silhouette coefficient method \\nfor determining number of clusters\\n\",fontsize=16)\n",
    "plt.scatter(x=[i for i in range(2,12)],y=km_silhouette,s=150,edgecolor='k')\n",
    "plt.grid(True)\n",
    "plt.xlabel(\"Number of clusters\",fontsize=14)\n",
    "plt.ylabel(\"Silhouette score\",fontsize=15)\n",
    "plt.xticks([i for i in range(2,12)],fontsize=14)\n",
    "plt.yticks(fontsize=15)\n",
    "plt.show()"
   ]
  },
  {
   "cell_type": "code",
   "execution_count": 21,
   "metadata": {},
   "outputs": [
    {
     "data": {
      "application/vnd.jupyter.widget-view+json": {
       "model_id": "78dbb8c867be402aaaa5cbccb978376f",
       "version_major": 2,
       "version_minor": 0
      },
      "text/plain": [
       "Figure(camera=PerspectiveCamera(fov=45.0, position=(0.0, 0.0, 2.0), quaternion=(0.0, 0.0, 0.0, 1.0), scale=(1.…"
      ]
     },
     "metadata": {},
     "output_type": "display_data"
    }
   ],
   "source": [
    "X = df.iloc[:, lambda df: [13,14,10]].values\n",
    "\n",
    "fig = ipv.figure(height=600, width=600, layout={'width':'100%', 'height':'100%'})\n",
    "scatter = ipv.scatter(*X.T, size=0.5, marker=\"sphere\")\n",
    "ipv.scatter(kmeans_5_fitted_centers[:,0], kmeans_5_fitted_centers[:,1], \n",
    "            kmeans_5_fitted_centers[:,2], size=12, color='black', marker=\"sphere\")\n",
    "ipv.xlim(0, 1)\n",
    "ipv.ylim(0, 1)\n",
    "ipv.zlim(-1, 1)\n",
    "ipv.xlabel = \"Base Ship Length (Scaled, DLess)\"\n",
    "ipv.ylabel = \"Compared Ship Speed (Scaled, DLess)\"\n",
    "ipv.zlabel = \"Violation Distance per Base Ship Length (Scaled, DLess)\"\n",
    "\n",
    "display(fig)"
   ]
  },
  {
   "cell_type": "code",
   "execution_count": 13,
   "metadata": {},
   "outputs": [],
   "source": [
    "avaliable_colors = {\n",
    "    0: '#ff0000',\n",
    "    1: '#00ff00',\n",
    "    2: '#0000ff',\n",
    "    3: '#ffff00',\n",
    "    4: '#00ffff',\n",
    "    5: '#ff00ff',\n",
    "    6: '#FF9900',\n",
    "    7: '#00FF99',\n",
    "    8: '#660099'\n",
    "}"
   ]
  },
  {
   "cell_type": "code",
   "execution_count": 14,
   "metadata": {},
   "outputs": [],
   "source": [
    "def hex_to_rgb(hex):\n",
    "    hex = hex[1:]\n",
    "    return struct.unpack('BBB', bytes.fromhex(hex))"
   ]
  },
  {
   "cell_type": "code",
   "execution_count": 15,
   "metadata": {},
   "outputs": [],
   "source": [
    "kmeans = KMeans(n_clusters=6)\n",
    "kmeans = kmeans.fit(X)\n",
    "labels = kmeans.predict(X)"
   ]
  },
  {
   "cell_type": "code",
   "execution_count": 16,
   "metadata": {},
   "outputs": [],
   "source": [
    "def handle_cp_change(labels, **groups):\n",
    "    group_ids = [int(g.split(' ')[1]) for g in groups.keys()]\n",
    "    group_color = {k: hex_to_rgb(get_cp_value(cp)) for k, cp in zip(group_ids, groups.values())}\n",
    "    colors = list(map(lambda x: group_color[x], labels))\n",
    "    scatter.color = colors\n",
    "def get_cp_value(cp):\n",
    "    if type(cp) == ColorPicker:\n",
    "        return cp.value\n",
    "    else:\n",
    "        return cp"
   ]
  },
  {
   "cell_type": "code",
   "execution_count": 17,
   "metadata": {},
   "outputs": [],
   "source": [
    "def color_scatter_with_kmeans(n_clusters):\n",
    "    kmeans = KMeans(n_clusters=n_clusters)\n",
    "    kmeans = kmeans.fit(X)\n",
    "    labels = kmeans.predict(X)\n",
    "    color_pickers = {f'group {k}': ColorPicker(value=avaliable_colors[k%7], description=f'group {k}') \n",
    "                     for k in range(n_clusters)}\n",
    "    handle_cp_change(labels=list(labels), **color_pickers)\n",
    "    return interact(handle_cp_change, labels=fixed(list(labels)) , **color_pickers)"
   ]
  },
  {
   "cell_type": "code",
   "execution_count": 18,
   "metadata": {},
   "outputs": [
    {
     "data": {
      "application/vnd.jupyter.widget-view+json": {
       "model_id": "988a543b3b724f72a4ad1526b4e43608",
       "version_major": 2,
       "version_minor": 0
      },
      "text/plain": [
       "VBox(children=(Figure(camera=PerspectiveCamera(fov=45.0, position=(0.0, 0.0, 2.0), projectionMatrix=(2.4142135…"
      ]
     },
     "metadata": {},
     "output_type": "display_data"
    }
   ],
   "source": [
    "VBox([fig, interactive(color_scatter_with_kmeans, n_clusters=(1, 10, 1))])"
   ]
  },
  {
   "cell_type": "code",
   "execution_count": 23,
   "metadata": {},
   "outputs": [],
   "source": [
    "\n",
    "kmeans_3 = KMeans(n_clusters=3)\n",
    "kmeans_5 = KMeans(n_clusters=5)\n",
    "kmeans_9 = KMeans(n_clusters=9)\n",
    "\n",
    "\"\"\"kmeans_3_fitted = kmeans_3.fit(X)\n",
    "kmeans_5_fitted = kmeans_5.fit(X)\n",
    "kmeans_9_fitted = kmeans_9.fit(X)\"\"\"\n",
    "\n",
    "#labels = kmeans.predict(X)\n",
    "\n",
    "\"\"\"kmeans_3_fitted_centers = kmeans_3_fitted.cluster_centers_\n",
    "kmeans_5_fitted_centers = kmeans_5_fitted.cluster_centers_\n",
    "kmeans_9_fitted_centers = kmeans_9_fitted.cluster_centers_\"\"\"\n"
   ]
  },
  {
   "cell_type": "code",
   "execution_count": null,
   "metadata": {},
   "outputs": [],
   "source": [
    "#x = Base Ship Length - DLess\n",
    "#y = Compared Ship Speed Dimensionless\n",
    "#z = Distance Dimensionless"
   ]
  },
  {
   "cell_type": "code",
   "execution_count": 76,
   "metadata": {},
   "outputs": [],
   "source": [
    "x = np.random.randint(2, size = 73743)"
   ]
  },
  {
   "cell_type": "code",
   "execution_count": null,
   "metadata": {},
   "outputs": [],
   "source": []
  },
  {
   "cell_type": "code",
   "execution_count": 147,
   "metadata": {},
   "outputs": [
    {
     "name": "stdout",
     "output_type": "stream",
     "text": [
      "Davies Bouldin score for number of cluster(s) 2: 1.036067306094359\n",
      "Davies Bouldin score for number of cluster(s) 3: 1.13454283056158\n",
      "Davies Bouldin score for number of cluster(s) 4: 1.1122183982263847\n",
      "Davies Bouldin score for number of cluster(s) 5: 1.1781935631409852\n",
      "Davies Bouldin score for number of cluster(s) 6: 1.1493650955678554\n",
      "Davies Bouldin score for number of cluster(s) 7: 1.0665852395762176\n",
      "Davies Bouldin score for number of cluster(s) 8: 1.089619968785017\n",
      "Davies Bouldin score for number of cluster(s) 9: 1.078802417391935\n",
      "Davies Bouldin score for number of cluster(s) 10: 1.1072021905876326\n",
      "Davies Bouldin score for number of cluster(s) 11: 1.0428915096172666\n"
     ]
    },
    {
     "data": {
      "text/plain": [
       "'    \\n    v_measure = v_measure_score(X,preds)\\n    vmeasure_score.append(v_measure)\\n    print(\"V-measure score for number of cluster(s) {}: {}\".format(i,v_measure))\\n    print(\"-\"*100)'"
      ]
     },
     "execution_count": 147,
     "metadata": {},
     "output_type": "execute_result"
    }
   ],
   "source": [
    "km_scores= []\n",
    "km_silhouette = []\n",
    "vmeasure_score =[]\n",
    "db_score = []\n",
    "for i in range(2,12):\n",
    "    km = KMeans(n_clusters=i, random_state=0).fit(X)\n",
    "    preds = km.predict(X)\n",
    "\n",
    "    db = davies_bouldin_score(X,preds)\n",
    "    db_score.append(db)\n",
    "    print(\"Davies Bouldin score for number of cluster(s) {}: {}\".format(i,db))\n",
    "\"\"\"    \n",
    "    v_measure = v_measure_score(X,preds)\n",
    "    vmeasure_score.append(v_measure)\n",
    "    print(\"V-measure score for number of cluster(s) {}: {}\".format(i,v_measure))\n",
    "    print(\"-\"*100)\"\"\""
   ]
  },
  {
   "cell_type": "code",
   "execution_count": 149,
   "metadata": {},
   "outputs": [
    {
     "data": {
      "image/png": "[encoded data removed]",
      "text/plain": [
       "<Figure size 504x288 with 1 Axes>"
      ]
     },
     "metadata": {
      "needs_background": "light"
     },
     "output_type": "display_data"
    }
   ],
   "source": [
    "plt.figure(figsize=(7,4))\n",
    "plt.title(\"The Davies Bouldin score method \\nfor determining number of clusters\\n\",fontsize=16)\n",
    "plt.scatter(x=[i for i in range(2,12)],y=db_score,s=150,edgecolor='k')\n",
    "plt.grid(True)\n",
    "plt.xlabel(\"Number of clusters\",fontsize=14)\n",
    "plt.ylabel(\"Davies Bouldin score\",fontsize=15)\n",
    "plt.xticks([i for i in range(2,12)],fontsize=14)\n",
    "plt.yticks(fontsize=15)\n",
    "plt.show()"
   ]
  },
  {
   "cell_type": "code",
   "execution_count": null,
   "metadata": {},
   "outputs": [],
   "source": [
    "#DBScan\n",
    "\n",
    "clustering_dbscan_labels = DBSCAN(eps=5, min_samples=2).fit(M)\n"
   ]
  },
  {
   "cell_type": "code",
   "execution_count": 47,
   "metadata": {},
   "outputs": [],
   "source": [
    "labels_DB = df[\"Violation Check\"]"
   ]
  },
  {
   "cell_type": "code",
   "execution_count": 117,
   "metadata": {},
   "outputs": [
    {
     "data": {
      "text/plain": [
       "100"
      ]
     },
     "execution_count": 117,
     "metadata": {},
     "output_type": "execute_result"
    }
   ],
   "source": [
    "len(labels_DB)"
   ]
  },
  {
   "cell_type": "code",
   "execution_count": 145,
   "metadata": {},
   "outputs": [],
   "source": [
    "M = X[0:40000]"
   ]
  },
  {
   "cell_type": "code",
   "execution_count": 48,
   "metadata": {},
   "outputs": [
    {
     "data": {
      "application/vnd.jupyter.widget-view+json": {
       "model_id": "5c775f85209445c0b80c86ed3f1bf581",
       "version_major": 2,
       "version_minor": 0
      },
      "text/plain": [
       "Figure(camera=PerspectiveCamera(fov=45.0, position=(0.0, 0.0, 2.0), quaternion=(0.0, 0.0, 0.0, 1.0), scale=(1.…"
      ]
     },
     "metadata": {},
     "output_type": "display_data"
    }
   ],
   "source": [
    "fig = ipv.figure(height=600, width=600, layout={'width':'100%', 'height':'100%'})\n",
    "scatter = ipv.scatter(*X.T, size=1, marker=\"sphere\")\n",
    "ipv.xlim(0, 1)\n",
    "ipv.ylim(0, 1)\n",
    "ipv.zlim(-1, 1)\n",
    "ipv.xlabel = \"Base Ship Length (Scaled, DLess)\"\n",
    "ipv.ylabel = \"Compared Ship Speed (Scaled, DLess)\"\n",
    "ipv.zlabel = \"Violation Distance per Base Ship Length (Scaled, DLess)\"\n",
    "\n",
    "display(fig)"
   ]
  },
  {
   "cell_type": "code",
   "execution_count": 119,
   "metadata": {},
   "outputs": [],
   "source": [
    "avaliable_colors = {\n",
    "    0: '#ff0000',\n",
    "    1: '#00ff00',\n",
    "    2: '#0000ff',\n",
    "    3: '#ffff00',\n",
    "    4: '#00ffff',\n",
    "    5: '#ff00ff',\n",
    "    6: '#000000'\n",
    "}"
   ]
  },
  {
   "cell_type": "code",
   "execution_count": 120,
   "metadata": {},
   "outputs": [],
   "source": [
    "def hex_to_rgb(hex):\n",
    "    hex = hex[1:]\n",
    "    return struct.unpack('BBB', bytes.fromhex(hex))"
   ]
  },
  {
   "cell_type": "code",
   "execution_count": 141,
   "metadata": {},
   "outputs": [],
   "source": [
    "labels = labels_DB"
   ]
  },
  {
   "cell_type": "code",
   "execution_count": 125,
   "metadata": {},
   "outputs": [],
   "source": [
    "def handle_cp_change(labels, **groups):\n",
    "    group_ids = [int(g.split(' ')[1]) for g in groups.keys()]\n",
    "    group_color = {k: hex_to_rgb(get_cp_value(cp)) for k, cp in zip(group_ids, groups.values())}\n",
    "    colors = list(map(lambda x: group_color[x], labels))\n",
    "    scatter.color = colors\n",
    "def get_cp_value(cp):\n",
    "    if type(cp) == ColorPicker:\n",
    "        return cp.value\n",
    "    else:\n",
    "        return cp"
   ]
  },
  {
   "cell_type": "code",
   "execution_count": 126,
   "metadata": {},
   "outputs": [],
   "source": [
    "def color_scatter_with_kmeans(n_clusters):\n",
    "    color_pickers = {f'group {k}': ColorPicker(value=avaliable_colors[k%7], description=f'group {k}') \n",
    "                     for k in range(n_clusters)}\n",
    "    handle_cp_change(labels=list(labels), **color_pickers)\n",
    "    return interact(handle_cp_change, labels=fixed(list(labels)) , **color_pickers)"
   ]
  },
  {
   "cell_type": "code",
   "execution_count": 49,
   "metadata": {},
   "outputs": [
    {
     "data": {
      "application/vnd.jupyter.widget-view+json": {
       "model_id": "80be9b306b3f41ee854208f1b8505b45",
       "version_major": 2,
       "version_minor": 0
      },
      "text/plain": [
       "VBox(children=(Figure(camera=PerspectiveCamera(fov=45.0, matrixWorldNeedsUpdate=True, position=(0.0, 1.2246467…"
      ]
     },
     "metadata": {},
     "output_type": "display_data"
    }
   ],
   "source": [
    "VBox([fig, interactive(color_scatter_with_kmeans, n_clusters=(1, 10, 1))])"
   ]
  },
  {
   "cell_type": "code",
   "execution_count": 105,
   "metadata": {},
   "outputs": [
    {
     "data": {
      "application/vnd.jupyter.widget-view+json": {
       "model_id": "1bc348e004194a2c8561f87ab6c64a3e",
       "version_major": 2,
       "version_minor": 0
      },
      "text/plain": [
       "VBox(children=(Figure(camera=PerspectiveCamera(fov=45.0, position=(0.0, 0.0, 2.0), quaternion=(0.0, 0.0, 0.0, …"
      ]
     },
     "metadata": {},
     "output_type": "display_data"
    }
   ],
   "source": [
    "ipv.figure()\n",
    "ipv.xlim(0, 1)\n",
    "ipv.ylim(0, 1)\n",
    "ipv.zlim(-1, 1)\n",
    "ipv.scatter(kmeans_3_fitted_centers[:,0], kmeans_3_fitted_centers[:,1], \n",
    "            kmeans_3_fitted_centers[:,2], size=10, color='red', marker=\"sphere\")\n",
    "ipv.scatter(kmeans_5_fitted_centers[:,0], kmeans_5_fitted_centers[:,1], \n",
    "            kmeans_5_fitted_centers[:,2], size=10, color='blue', marker=\"sphere\")\n",
    "ipv.scatter(kmeans_9_fitted_centers[:,0], kmeans_9_fitted_centers[:,1], \n",
    "            kmeans_9_fitted_centers[:,2], size=10, color='yellow', marker=\"sphere\")\n",
    "ipv.show()"
   ]
  },
  {
   "cell_type": "code",
   "execution_count": 20,
   "metadata": {},
   "outputs": [],
   "source": [
    "kmeans_3_fitted_centers = kmeans_3_fitted.cluster_centers_\n",
    "kmeans_5_fitted_centers = kmeans_5_fitted.cluster_centers_\n",
    "kmeans_9_fitted_centers = kmeans_9_fitted.cluster_centers_"
   ]
  },
  {
   "cell_type": "code",
   "execution_count": 101,
   "metadata": {},
   "outputs": [
    {
     "data": {
      "text/plain": [
       "array([[ 0.25580758,  0.52280273, -0.20279473],\n",
       "       [ 0.80152572,  0.35817362,  0.5729957 ],\n",
       "       [ 0.3949153 ,  0.33433304,  0.16102218]])"
      ]
     },
     "execution_count": 101,
     "metadata": {},
     "output_type": "execute_result"
    }
   ],
   "source": [
    "kmeans_3_fitted_centers"
   ]
  },
  {
   "cell_type": "code",
   "execution_count": 102,
   "metadata": {},
   "outputs": [
    {
     "data": {
      "text/plain": [
       "array([[ 0.68019577,  0.61312774,  0.27789948],\n",
       "       [ 0.29604621,  0.32514339,  0.05544896],\n",
       "       [ 0.25942994,  0.59081759, -0.27809471],\n",
       "       [ 0.54433967,  0.28938587,  0.3478992 ],\n",
       "       [ 0.85744049,  0.32273941,  0.6550341 ]])"
      ]
     },
     "execution_count": 102,
     "metadata": {},
     "output_type": "execute_result"
    }
   ],
   "source": [
    "kmeans_5_fitted_centers"
   ]
  },
  {
   "cell_type": "code",
   "execution_count": 103,
   "metadata": {},
   "outputs": [
    {
     "data": {
      "text/plain": [
       "array([[ 0.35890932,  0.55530862, -0.05415384],\n",
       "       [ 0.90193213,  0.28865193,  0.72418303],\n",
       "       [ 0.19088103,  0.31641174, -0.07996214],\n",
       "       [ 0.70164494,  0.2926508 ,  0.51107003],\n",
       "       [ 0.23805752,  0.64784319, -0.38951871],\n",
       "       [ 0.32115138,  0.28738813,  0.11465803],\n",
       "       [ 0.86196658,  0.57651545,  0.49308795],\n",
       "       [ 0.50214191,  0.29155956,  0.30212477],\n",
       "       [ 0.60336953,  0.59661922,  0.20807869]])"
      ]
     },
     "execution_count": 103,
     "metadata": {},
     "output_type": "execute_result"
    }
   ],
   "source": [
    "kmeans_9_fitted_centers"
   ]
  },
  {
   "cell_type": "code",
   "execution_count": null,
   "metadata": {},
   "outputs": [],
   "source": [
    "#X: Base Length\n",
    "#Y: Compared Speed\n",
    "#Z: Violation per Base Length"
   ]
  },
  {
   "cell_type": "code",
   "execution_count": 116,
   "metadata": {},
   "outputs": [],
   "source": [
    "#ML Applications"
   ]
  },
  {
   "cell_type": "code",
   "execution_count": 6,
   "metadata": {},
   "outputs": [],
   "source": [
    "df = pd.read_csv('22_March_Finalized_Dataframe.csv')"
   ]
  },
  {
   "cell_type": "code",
   "execution_count": 19,
   "metadata": {},
   "outputs": [],
   "source": [
    "X = df.iloc[:, lambda df: [13,14,11]].values\n",
    "\n",
    "kmeans_3 = KMeans(n_clusters=3)\n",
    "kmeans_5 = KMeans(n_clusters=5)\n",
    "kmeans_9 = KMeans(n_clusters=9)\n",
    "\n",
    "kmeans_3_fitted = kmeans_3.fit(X)\n",
    "kmeans_5_fitted = kmeans_5.fit(X)\n",
    "kmeans_9_fitted = kmeans_9.fit(X)"
   ]
  },
  {
   "cell_type": "code",
   "execution_count": 97,
   "metadata": {},
   "outputs": [],
   "source": [
    "labels_3 = kmeans_3_fitted.predict(X)\n",
    "labels_5 = kmeans_5_fitted.predict(X)\n",
    "labels_9 = kmeans_9_fitted.predict(X)"
   ]
  },
  {
   "cell_type": "code",
   "execution_count": 98,
   "metadata": {},
   "outputs": [],
   "source": [
    "df[\"KMeans_Labels_3_Clusters\"] = labels_3\n",
    "df[\"KMeans_Labels_5_Clusters\"] = labels_5\n",
    "df[\"KMeans_Labels_9_Clusters\"] = labels_9"
   ]
  },
  {
   "cell_type": "code",
   "execution_count": 99,
   "metadata": {},
   "outputs": [
    {
     "name": "stdout",
     "output_type": "stream",
     "text": [
      "<class 'pandas.core.frame.DataFrame'>\n",
      "RangeIndex: 73543 entries, 0 to 73542\n",
      "Data columns (total 19 columns):\n",
      " #   Column                               Non-Null Count  Dtype  \n",
      "---  ------                               --------------  -----  \n",
      " 0   Unnamed: 0                           73543 non-null  int64  \n",
      " 1   Unnamed: 0.1                         73543 non-null  int64  \n",
      " 2   Base Ship Length (m)                 73543 non-null  float64\n",
      " 3   Compared Ship Speed (m/s)            73543 non-null  float64\n",
      " 4   Distance (m)                         73543 non-null  float64\n",
      " 5   Ship Domain (m)(2*Base Ship Length)  73543 non-null  float64\n",
      " 6   Violation Distance (m)               73543 non-null  float64\n",
      " 7   Violation Check                      73543 non-null  int64  \n",
      " 8   Area                                 73543 non-null  int64  \n",
      " 9   Season                               73543 non-null  object \n",
      " 10  Violation/Length (m)                 73543 non-null  float64\n",
      " 11  VD_Dimensionless_2SD                 73543 non-null  float64\n",
      " 12  Speed_Dimensionless                  73543 non-null  float64\n",
      " 13  Distance_Dimensionless               73543 non-null  float64\n",
      " 14  Length_Dimensionless                 73543 non-null  float64\n",
      " 15  Speed_Dimensionless_Rescaled         73543 non-null  float64\n",
      " 16  KMeans_Labels_3_Clusters             73543 non-null  int32  \n",
      " 17  KMeans_Labels_5_Clusters             73543 non-null  int32  \n",
      " 18  KMeans_Labels_9_Clusters             73543 non-null  int32  \n",
      "dtypes: float64(11), int32(3), int64(4), object(1)\n",
      "memory usage: 9.8+ MB\n"
     ]
    }
   ],
   "source": [
    "df.info()"
   ]
  },
  {
   "cell_type": "code",
   "execution_count": 122,
   "metadata": {},
   "outputs": [],
   "source": [
    "#df_C3 = df.loc[df['KMeans_Labels_3_Clusters'].isin(0,2)]\n",
    "\n",
    "df_C3 = df.loc[df['KMeans_Labels_3_Clusters'] != 1]"
   ]
  },
  {
   "cell_type": "code",
   "execution_count": 123,
   "metadata": {},
   "outputs": [
    {
     "data": {
      "text/html": [
       "<div>\n",
       "<style scoped>\n",
       "    .dataframe tbody tr th:only-of-type {\n",
       "        vertical-align: middle;\n",
       "    }\n",
       "\n",
       "    .dataframe tbody tr th {\n",
       "        vertical-align: top;\n",
       "    }\n",
       "\n",
       "    .dataframe thead th {\n",
       "        text-align: right;\n",
       "    }\n",
       "</style>\n",
       "<table border=\"1\" class=\"dataframe\">\n",
       "  <thead>\n",
       "    <tr style=\"text-align: right;\">\n",
       "      <th></th>\n",
       "      <th>Unnamed: 0</th>\n",
       "      <th>Unnamed: 0.1</th>\n",
       "      <th>Base Ship Length (m)</th>\n",
       "      <th>Compared Ship Speed (m/s)</th>\n",
       "      <th>Distance (m)</th>\n",
       "      <th>Ship Domain (m)(2*Base Ship Length)</th>\n",
       "      <th>Violation Distance (m)</th>\n",
       "      <th>Violation Check</th>\n",
       "      <th>Area</th>\n",
       "      <th>Season</th>\n",
       "      <th>Violation/Length (m)</th>\n",
       "      <th>VD_Dimensionless_2SD</th>\n",
       "      <th>Speed_Dimensionless</th>\n",
       "      <th>Distance_Dimensionless</th>\n",
       "      <th>Length_Dimensionless</th>\n",
       "      <th>Speed_Dimensionless_Rescaled</th>\n",
       "      <th>KMeans_Labels_3_Clusters</th>\n",
       "      <th>KMeans_Labels_5_Clusters</th>\n",
       "      <th>KMeans_Labels_9_Clusters</th>\n",
       "    </tr>\n",
       "  </thead>\n",
       "  <tbody>\n",
       "    <tr>\n",
       "      <th>0</th>\n",
       "      <td>0</td>\n",
       "      <td>0</td>\n",
       "      <td>22.0</td>\n",
       "      <td>4.9858</td>\n",
       "      <td>93.806611</td>\n",
       "      <td>44.0</td>\n",
       "      <td>49.806611</td>\n",
       "      <td>0</td>\n",
       "      <td>1</td>\n",
       "      <td>Spring</td>\n",
       "      <td>2.263937</td>\n",
       "      <td>0.052428</td>\n",
       "      <td>0.278431</td>\n",
       "      <td>0.092319</td>\n",
       "      <td>0.016026</td>\n",
       "      <td>0.550388</td>\n",
       "      <td>2</td>\n",
       "      <td>1</td>\n",
       "      <td>2</td>\n",
       "    </tr>\n",
       "    <tr>\n",
       "      <th>4</th>\n",
       "      <td>4</td>\n",
       "      <td>5</td>\n",
       "      <td>185.0</td>\n",
       "      <td>5.1400</td>\n",
       "      <td>359.910324</td>\n",
       "      <td>370.0</td>\n",
       "      <td>-10.089676</td>\n",
       "      <td>1</td>\n",
       "      <td>1</td>\n",
       "      <td>Spring</td>\n",
       "      <td>-0.054539</td>\n",
       "      <td>-0.019752</td>\n",
       "      <td>0.290196</td>\n",
       "      <td>0.358875</td>\n",
       "      <td>0.538462</td>\n",
       "      <td>0.573643</td>\n",
       "      <td>0</td>\n",
       "      <td>1</td>\n",
       "      <td>0</td>\n",
       "    </tr>\n",
       "    <tr>\n",
       "      <th>8</th>\n",
       "      <td>8</td>\n",
       "      <td>9</td>\n",
       "      <td>173.0</td>\n",
       "      <td>5.3456</td>\n",
       "      <td>492.869688</td>\n",
       "      <td>346.0</td>\n",
       "      <td>146.869688</td>\n",
       "      <td>0</td>\n",
       "      <td>1</td>\n",
       "      <td>Spring</td>\n",
       "      <td>0.848958</td>\n",
       "      <td>0.154607</td>\n",
       "      <td>0.305882</td>\n",
       "      <td>0.492060</td>\n",
       "      <td>0.500000</td>\n",
       "      <td>0.604651</td>\n",
       "      <td>2</td>\n",
       "      <td>0</td>\n",
       "      <td>8</td>\n",
       "    </tr>\n",
       "    <tr>\n",
       "      <th>11</th>\n",
       "      <td>11</td>\n",
       "      <td>12</td>\n",
       "      <td>191.0</td>\n",
       "      <td>5.2428</td>\n",
       "      <td>285.506582</td>\n",
       "      <td>382.0</td>\n",
       "      <td>-96.493418</td>\n",
       "      <td>1</td>\n",
       "      <td>1</td>\n",
       "      <td>Spring</td>\n",
       "      <td>-0.505201</td>\n",
       "      <td>-0.188915</td>\n",
       "      <td>0.298039</td>\n",
       "      <td>0.284344</td>\n",
       "      <td>0.557692</td>\n",
       "      <td>0.589147</td>\n",
       "      <td>0</td>\n",
       "      <td>2</td>\n",
       "      <td>0</td>\n",
       "    </tr>\n",
       "    <tr>\n",
       "      <th>12</th>\n",
       "      <td>12</td>\n",
       "      <td>13</td>\n",
       "      <td>222.0</td>\n",
       "      <td>3.4952</td>\n",
       "      <td>366.573394</td>\n",
       "      <td>444.0</td>\n",
       "      <td>-77.426606</td>\n",
       "      <td>1</td>\n",
       "      <td>1</td>\n",
       "      <td>Spring</td>\n",
       "      <td>-0.348768</td>\n",
       "      <td>-0.151586</td>\n",
       "      <td>0.164706</td>\n",
       "      <td>0.365549</td>\n",
       "      <td>0.657051</td>\n",
       "      <td>0.325581</td>\n",
       "      <td>0</td>\n",
       "      <td>2</td>\n",
       "      <td>0</td>\n",
       "    </tr>\n",
       "    <tr>\n",
       "      <th>...</th>\n",
       "      <td>...</td>\n",
       "      <td>...</td>\n",
       "      <td>...</td>\n",
       "      <td>...</td>\n",
       "      <td>...</td>\n",
       "      <td>...</td>\n",
       "      <td>...</td>\n",
       "      <td>...</td>\n",
       "      <td>...</td>\n",
       "      <td>...</td>\n",
       "      <td>...</td>\n",
       "      <td>...</td>\n",
       "      <td>...</td>\n",
       "      <td>...</td>\n",
       "      <td>...</td>\n",
       "      <td>...</td>\n",
       "      <td>...</td>\n",
       "      <td>...</td>\n",
       "      <td>...</td>\n",
       "    </tr>\n",
       "    <tr>\n",
       "      <th>73538</th>\n",
       "      <td>73538</td>\n",
       "      <td>73793</td>\n",
       "      <td>97.0</td>\n",
       "      <td>6.3736</td>\n",
       "      <td>308.226661</td>\n",
       "      <td>194.0</td>\n",
       "      <td>114.226661</td>\n",
       "      <td>0</td>\n",
       "      <td>13</td>\n",
       "      <td>Summer</td>\n",
       "      <td>1.177594</td>\n",
       "      <td>0.120243</td>\n",
       "      <td>0.384314</td>\n",
       "      <td>0.307103</td>\n",
       "      <td>0.256410</td>\n",
       "      <td>0.759690</td>\n",
       "      <td>2</td>\n",
       "      <td>1</td>\n",
       "      <td>5</td>\n",
       "    </tr>\n",
       "    <tr>\n",
       "      <th>73539</th>\n",
       "      <td>73539</td>\n",
       "      <td>73794</td>\n",
       "      <td>226.0</td>\n",
       "      <td>4.9858</td>\n",
       "      <td>676.017564</td>\n",
       "      <td>452.0</td>\n",
       "      <td>224.017564</td>\n",
       "      <td>0</td>\n",
       "      <td>13</td>\n",
       "      <td>Summer</td>\n",
       "      <td>0.991228</td>\n",
       "      <td>0.235821</td>\n",
       "      <td>0.278431</td>\n",
       "      <td>0.675519</td>\n",
       "      <td>0.669872</td>\n",
       "      <td>0.550388</td>\n",
       "      <td>2</td>\n",
       "      <td>0</td>\n",
       "      <td>8</td>\n",
       "    </tr>\n",
       "    <tr>\n",
       "      <th>73540</th>\n",
       "      <td>73540</td>\n",
       "      <td>73795</td>\n",
       "      <td>183.0</td>\n",
       "      <td>4.0606</td>\n",
       "      <td>249.411345</td>\n",
       "      <td>366.0</td>\n",
       "      <td>-116.588655</td>\n",
       "      <td>1</td>\n",
       "      <td>13</td>\n",
       "      <td>Summer</td>\n",
       "      <td>-0.637096</td>\n",
       "      <td>-0.228258</td>\n",
       "      <td>0.207843</td>\n",
       "      <td>0.248188</td>\n",
       "      <td>0.532051</td>\n",
       "      <td>0.410853</td>\n",
       "      <td>0</td>\n",
       "      <td>2</td>\n",
       "      <td>4</td>\n",
       "    </tr>\n",
       "    <tr>\n",
       "      <th>73541</th>\n",
       "      <td>73541</td>\n",
       "      <td>73796</td>\n",
       "      <td>95.0</td>\n",
       "      <td>5.4998</td>\n",
       "      <td>250.140328</td>\n",
       "      <td>190.0</td>\n",
       "      <td>60.140328</td>\n",
       "      <td>0</td>\n",
       "      <td>13</td>\n",
       "      <td>Summer</td>\n",
       "      <td>0.633056</td>\n",
       "      <td>0.063306</td>\n",
       "      <td>0.317647</td>\n",
       "      <td>0.248918</td>\n",
       "      <td>0.250000</td>\n",
       "      <td>0.627907</td>\n",
       "      <td>2</td>\n",
       "      <td>1</td>\n",
       "      <td>5</td>\n",
       "    </tr>\n",
       "    <tr>\n",
       "      <th>73542</th>\n",
       "      <td>73542</td>\n",
       "      <td>73797</td>\n",
       "      <td>84.0</td>\n",
       "      <td>3.1354</td>\n",
       "      <td>428.676097</td>\n",
       "      <td>168.0</td>\n",
       "      <td>260.676097</td>\n",
       "      <td>0</td>\n",
       "      <td>13</td>\n",
       "      <td>Summer</td>\n",
       "      <td>3.103287</td>\n",
       "      <td>0.274412</td>\n",
       "      <td>0.137255</td>\n",
       "      <td>0.427757</td>\n",
       "      <td>0.214744</td>\n",
       "      <td>0.271318</td>\n",
       "      <td>2</td>\n",
       "      <td>3</td>\n",
       "      <td>7</td>\n",
       "    </tr>\n",
       "  </tbody>\n",
       "</table>\n",
       "<p>46947 rows × 19 columns</p>\n",
       "</div>"
      ],
      "text/plain": [
       "       Unnamed: 0  Unnamed: 0.1  Base Ship Length (m)  \\\n",
       "0               0             0                  22.0   \n",
       "4               4             5                 185.0   \n",
       "8               8             9                 173.0   \n",
       "11             11            12                 191.0   \n",
       "12             12            13                 222.0   \n",
       "...           ...           ...                   ...   \n",
       "73538       73538         73793                  97.0   \n",
       "73539       73539         73794                 226.0   \n",
       "73540       73540         73795                 183.0   \n",
       "73541       73541         73796                  95.0   \n",
       "73542       73542         73797                  84.0   \n",
       "\n",
       "       Compared Ship Speed (m/s)  Distance (m)  \\\n",
       "0                         4.9858     93.806611   \n",
       "4                         5.1400    359.910324   \n",
       "8                         5.3456    492.869688   \n",
       "11                        5.2428    285.506582   \n",
       "12                        3.4952    366.573394   \n",
       "...                          ...           ...   \n",
       "73538                     6.3736    308.226661   \n",
       "73539                     4.9858    676.017564   \n",
       "73540                     4.0606    249.411345   \n",
       "73541                     5.4998    250.140328   \n",
       "73542                     3.1354    428.676097   \n",
       "\n",
       "       Ship Domain (m)(2*Base Ship Length)  Violation Distance (m)  \\\n",
       "0                                     44.0               49.806611   \n",
       "4                                    370.0              -10.089676   \n",
       "8                                    346.0              146.869688   \n",
       "11                                   382.0              -96.493418   \n",
       "12                                   444.0              -77.426606   \n",
       "...                                    ...                     ...   \n",
       "73538                                194.0              114.226661   \n",
       "73539                                452.0              224.017564   \n",
       "73540                                366.0             -116.588655   \n",
       "73541                                190.0               60.140328   \n",
       "73542                                168.0              260.676097   \n",
       "\n",
       "       Violation Check  Area  Season  Violation/Length (m)  \\\n",
       "0                    0     1  Spring              2.263937   \n",
       "4                    1     1  Spring             -0.054539   \n",
       "8                    0     1  Spring              0.848958   \n",
       "11                   1     1  Spring             -0.505201   \n",
       "12                   1     1  Spring             -0.348768   \n",
       "...                ...   ...     ...                   ...   \n",
       "73538                0    13  Summer              1.177594   \n",
       "73539                0    13  Summer              0.991228   \n",
       "73540                1    13  Summer             -0.637096   \n",
       "73541                0    13  Summer              0.633056   \n",
       "73542                0    13  Summer              3.103287   \n",
       "\n",
       "       VD_Dimensionless_2SD  Speed_Dimensionless  Distance_Dimensionless  \\\n",
       "0                  0.052428             0.278431                0.092319   \n",
       "4                 -0.019752             0.290196                0.358875   \n",
       "8                  0.154607             0.305882                0.492060   \n",
       "11                -0.188915             0.298039                0.284344   \n",
       "12                -0.151586             0.164706                0.365549   \n",
       "...                     ...                  ...                     ...   \n",
       "73538              0.120243             0.384314                0.307103   \n",
       "73539              0.235821             0.278431                0.675519   \n",
       "73540             -0.228258             0.207843                0.248188   \n",
       "73541              0.063306             0.317647                0.248918   \n",
       "73542              0.274412             0.137255                0.427757   \n",
       "\n",
       "       Length_Dimensionless  Speed_Dimensionless_Rescaled  \\\n",
       "0                  0.016026                      0.550388   \n",
       "4                  0.538462                      0.573643   \n",
       "8                  0.500000                      0.604651   \n",
       "11                 0.557692                      0.589147   \n",
       "12                 0.657051                      0.325581   \n",
       "...                     ...                           ...   \n",
       "73538              0.256410                      0.759690   \n",
       "73539              0.669872                      0.550388   \n",
       "73540              0.532051                      0.410853   \n",
       "73541              0.250000                      0.627907   \n",
       "73542              0.214744                      0.271318   \n",
       "\n",
       "       KMeans_Labels_3_Clusters  KMeans_Labels_5_Clusters  \\\n",
       "0                             2                         1   \n",
       "4                             0                         1   \n",
       "8                             2                         0   \n",
       "11                            0                         2   \n",
       "12                            0                         2   \n",
       "...                         ...                       ...   \n",
       "73538                         2                         1   \n",
       "73539                         2                         0   \n",
       "73540                         0                         2   \n",
       "73541                         2                         1   \n",
       "73542                         2                         3   \n",
       "\n",
       "       KMeans_Labels_9_Clusters  \n",
       "0                             2  \n",
       "4                             0  \n",
       "8                             8  \n",
       "11                            0  \n",
       "12                            0  \n",
       "...                         ...  \n",
       "73538                         5  \n",
       "73539                         8  \n",
       "73540                         4  \n",
       "73541                         5  \n",
       "73542                         7  \n",
       "\n",
       "[46947 rows x 19 columns]"
      ]
     },
     "execution_count": 123,
     "metadata": {},
     "output_type": "execute_result"
    }
   ],
   "source": [
    "df_C3"
   ]
  },
  {
   "cell_type": "code",
   "execution_count": 9,
   "metadata": {},
   "outputs": [],
   "source": [
    "#13,14,6"
   ]
  },
  {
   "cell_type": "code",
   "execution_count": 10,
   "metadata": {},
   "outputs": [],
   "source": [
    "#Remember to re-do with k-fold!"
   ]
  },
  {
   "cell_type": "code",
   "execution_count": 11,
   "metadata": {},
   "outputs": [],
   "source": [
    "M_Predictors = df.iloc[:, lambda df: [14,15]].values\n",
    "M_Classes = df.iloc[:, lambda df: [7]].values"
   ]
  },
  {
   "cell_type": "code",
   "execution_count": 12,
   "metadata": {},
   "outputs": [],
   "source": [
    "X_train, X_test, Y_train, Y_test = train_test_split(\n",
    "M_Predictors, M_Classes, test_size = 0.3, random_state = 2)"
   ]
  },
  {
   "cell_type": "code",
   "execution_count": 83,
   "metadata": {},
   "outputs": [],
   "source": [
    "def KNeighbors(X, y, X_test, y_test):\n",
    "    from sklearn.metrics import confusion_matrix\n",
    "    from sklearn.neighbors import KNeighborsClassifier\n",
    "    from sklearn.metrics import roc_curve, roc_auc_score, accuracy_score, plot_confusion_matrix, auc\n",
    "    import matplotlib.pyplot as plt\n",
    "    from sklearn.metrics import precision_score\n",
    "    from sklearn.metrics import recall_score\n",
    "    accuracy_score_holder = []\n",
    "    misclassified_sample_count = []\n",
    "    precision_score_holder_KNN = []\n",
    "    roc_auc_score_holder = []\n",
    "    confusion_matrix_holder_KNN = []\n",
    "    recall_score_holder_KNN = []\n",
    "    for i in range (3,12):\n",
    "        knn=KNeighborsClassifier(n_neighbors=i, p=2, metric='minkowski') \n",
    "        knn.fit(X, y)\n",
    "        myprediction_knn = knn.predict(X_test)\n",
    "        accuracy_score_holder.append(accuracy_score(y_test, myprediction_knn))\n",
    "        misclassified_sample_count.append((y_test != myprediction_knn).sum())\n",
    "        roc_auc_score_holder.append(roc_auc_score(y_test, myprediction_knn))\n",
    "        recall_score_KNN = recall_score(y_test, myprediction_knn)\n",
    "        precision_score_holder_KNN.append(precision_score(y_test, myprediction_knn))\n",
    "        recall_score_holder_KNN.append(recall_score(y_test, myprediction_knn))\n",
    "        confusion_matrix_holder_KNN.append(confusion_matrix(y_test, myprediction_knn))\n",
    "        #precision_score_holder.append(y_test, knn.predict(X_test), average = 'micro')\n",
    "        i = i + 1\n",
    "    #print(\"Accuracy Score:\", accuracy_score_holder)\n",
    "    #print(\"Precision Score:\", precision_score_holder)\n",
    "    #print(\"Misclassified samples:\", misclassified_sample_count)\n",
    "    #print(\"ROC - AUC Score:\", roc_auc_score_holder)\n",
    "    #plot_confusion_matrix(knn, X_test, y_test)\n",
    "    #plt.show()\n",
    "    \n",
    "    #y_scores = knn.predict_proba(X_test)\n",
    "    #fpr, tpr, threshold = roc_curve(y_test, y_scores[:, 1], pos_label = 6)\n",
    "    #roc_auc = auc(fpr, tpr)\n",
    "\n",
    "    #plt.title('Receiver Operating Characteristic')\n",
    "    #plt.plot(fpr, tpr, 'b', label = 'AUC = %0.2f' % roc_auc)\n",
    "    #plt.legend(loc = 'lower right')\n",
    "    #plt.plot([0, 1], [0, 1],'r--')\n",
    "    #plt.xlim([0, 1])\n",
    "    #plt.ylim([0, 1])\n",
    "    #plt.ylabel('True Positive Rate')\n",
    "    #plt.xlabel('False Positive Rate')\n",
    "    #plt.title('ROC Curve of kNN')\n",
    "    #plt.show()\n",
    "    \n",
    "    return  confusion_matrix_holder_KNN, precision_score_holder_KNN, recall_score_holder_KNN, accuracy_score_holder, roc_auc_score_holder, misclassified_sample_count\n"
   ]
  },
  {
   "cell_type": "code",
   "execution_count": 84,
   "metadata": {},
   "outputs": [],
   "source": [
    "Conf_KNN, Precision_KNN, Recall_KNN, Accuracy_KNN, Roc_Auc_KNN, Misclassified_Count_KNN = KNeighbors(X_train, Y_train.ravel(), X_test, Y_test.ravel())\n"
   ]
  },
  {
   "cell_type": "code",
   "execution_count": 85,
   "metadata": {},
   "outputs": [
    {
     "data": {
      "text/plain": [
       "[array([[15796,  1830],\n",
       "        [ 3114,  1323]]),\n",
       " array([[16720,   906],\n",
       "        [ 3635,   802]]),\n",
       " array([[16072,  1554],\n",
       "        [ 3188,  1249]]),\n",
       " array([[16703,   923],\n",
       "        [ 3624,   813]]),\n",
       " array([[16204,  1422],\n",
       "        [ 3280,  1157]]),\n",
       " array([[16694,   932],\n",
       "        [ 3583,   854]]),\n",
       " array([[16309,  1317],\n",
       "        [ 3271,  1166]]),\n",
       " array([[16681,   945],\n",
       "        [ 3550,   887]]),\n",
       " array([[16351,  1275],\n",
       "        [ 3311,  1126]])]"
      ]
     },
     "execution_count": 85,
     "metadata": {},
     "output_type": "execute_result"
    }
   ],
   "source": [
    "Conf_KNN"
   ]
  },
  {
   "cell_type": "code",
   "execution_count": 87,
   "metadata": {},
   "outputs": [
    {
     "data": {
      "text/plain": [
       "[0.29817444219066935,\n",
       " 0.18075276087446474,\n",
       " 0.28149650664863646,\n",
       " 0.1832319134550372,\n",
       " 0.2607617759747577,\n",
       " 0.1924723912553527,\n",
       " 0.2627901735406806,\n",
       " 0.1999098489970701,\n",
       " 0.2537750732476899]"
      ]
     },
     "execution_count": 87,
     "metadata": {},
     "output_type": "execute_result"
    }
   ],
   "source": [
    "Recall_KNN"
   ]
  },
  {
   "cell_type": "code",
   "execution_count": 70,
   "metadata": {},
   "outputs": [],
   "source": [
    "def forest(X, y, X_test, y_test):\n",
    "    from sklearn.metrics import confusion_matrix\n",
    "    from sklearn.ensemble import RandomForestClassifier\n",
    "    from sklearn.metrics import accuracy_score, roc_auc_score, plot_confusion_matrix, roc_curve, auc\n",
    "    import matplotlib.pyplot as plt\n",
    "    from sklearn.metrics import precision_score\n",
    "    from sklearn.metrics import recall_score\n",
    "    myforest = RandomForestClassifier(criterion = 'entropy', n_estimators = 10, random_state = 60)\n",
    "    myforest.fit(X, y)\n",
    "    myprediction_forest = myforest.predict(X_test)\n",
    "    #print(\"Accuracy Score: \", accuracy_score(y_test,myprediction_forest))\n",
    "    #print(\"Number of Misclassified Samples: \", (y_test != myprediction_forest).sum())\n",
    "    #print(\"ROC - AUC Score:\", roc_auc_score(y_test, myprediction_forest))\n",
    "\n",
    "    #plot_confusion_matrix(myforest, X_test, y_test)\n",
    "    #plt.show()\n",
    "    \n",
    "    #y_scores = myforest.predict_proba(X_test)\n",
    "    #fpr, tpr, threshold = roc_curve(y_test, y_scores[:, 1], pos_label = 6)\n",
    "    #roc_auc = auc(fpr, tpr)\n",
    "\n",
    "    #plt.title('Receiver Operating Characteristic')\n",
    "    #plt.plot(fpr, tpr, 'b', label = 'AUC = %0.2f' % roc_auc)\n",
    "    #plt.legend(loc = 'lower right')\n",
    "    #plt.plot([0, 1], [0, 1],'r--')\n",
    "    #plt.xlim([0, 1])\n",
    "    #plt.ylim([0, 1])\n",
    "    #plt.ylabel('True Positive Rate')\n",
    "    #plt.xlabel('False Positive Rate')\n",
    "    #plt.title('ROC Curve of Random Forest')\n",
    "    #plt.show()\n",
    "    \n",
    "    return confusion_matrix(y_test, myprediction_forest), precision_score(y_test,myprediction_forest), recall_score(y_test,myprediction_forest), accuracy_score(y_test,myprediction_forest), roc_auc_score(y_test, myprediction_forest), (y_test != myprediction_forest).sum()\n"
   ]
  },
  {
   "cell_type": "code",
   "execution_count": 71,
   "metadata": {},
   "outputs": [],
   "source": [
    "Confusion_forest, Precision_forest, Recall_forest, Accuracy_forest, Roc_Auc_forest, Misclassified_Count_forest = forest(X_train, Y_train.ravel(), X_test, Y_test.ravel())\n"
   ]
  },
  {
   "cell_type": "code",
   "execution_count": null,
   "metadata": {},
   "outputs": [],
   "source": [
    "#Precision_svm, Recall_svm, Accuracy_svm, Roc_Auc_svm, Misclassified_Count_svm = svm(X_train, Y_train.ravel(), X_test, Y_test.ravel())\n"
   ]
  },
  {
   "cell_type": "code",
   "execution_count": 47,
   "metadata": {},
   "outputs": [],
   "source": [
    "def perceptron_(X, y, X_test, y_test):\n",
    "    from sklearn.linear_model import Perceptron\n",
    "    from sklearn.metrics import accuracy_score, roc_auc_score, plot_confusion_matrix, roc_curve, auc\n",
    "    import matplotlib.pyplot as plt\n",
    "    from sklearn.metrics import precision_score\n",
    "    from sklearn.metrics import recall_score\n",
    "\n",
    "    for i in range (30,31):\n",
    "        myperceptron = Perceptron(penalty = 'elasticnet', max_iter = i, eta0 = 0.001, random_state = 60)\n",
    "        myperceptron.fit(X, y)\n",
    "        myprediction_perceptron = myperceptron.predict(X_test)\n",
    "        #print(accuracy_score(y_test,myprediction_perceptron))\n",
    "        \n",
    "        #print(\"Accuracy Score: \", accuracy_score(y_test,myprediction_perceptron))\n",
    "        #print(\"Number of Misclassified Samples: \", (y_test != myprediction_perceptron).sum())\n",
    "        #print(\"ROC - AUC Score:\", roc_auc_score(y_test, myprediction_perceptron))\n",
    "\n",
    "    #plot_confusion_matrix(myperceptron, X_test, y_test)\n",
    "    #plt.show()\n",
    "    \n",
    "    return confusion_matrix(y_test, myprediction_perceptron),precision_score(y_test,myprediction_perceptron), recall_score(y_test,myprediction_perceptron) ,accuracy_score(y_test,myprediction_perceptron), roc_auc_score(y_test, myprediction_perceptron), (y_test != myprediction_perceptron).sum()\n"
   ]
  },
  {
   "cell_type": "code",
   "execution_count": 49,
   "metadata": {},
   "outputs": [],
   "source": [
    "Conf_perceptron, Precision_perceptron, Recall_perceptron, Accuracy_perceptron, Roc_Auc_perceptron, Misclassified_Count_perceptron = perceptron_(X_train, Y_train.ravel(), X_test, Y_test.ravel())\n"
   ]
  },
  {
   "cell_type": "code",
   "execution_count": 39,
   "metadata": {},
   "outputs": [
    {
     "data": {
      "text/plain": [
       "0.5443905845138672"
      ]
     },
     "execution_count": 39,
     "metadata": {},
     "output_type": "execute_result"
    }
   ],
   "source": [
    "Roc_Auc_perceptron"
   ]
  },
  {
   "cell_type": "code",
   "execution_count": 52,
   "metadata": {},
   "outputs": [
    {
     "data": {
      "text/plain": [
       "array([[16204,  1422],\n",
       "       [ 3280,  1157]])"
      ]
     },
     "execution_count": 52,
     "metadata": {},
     "output_type": "execute_result"
    }
   ],
   "source": [
    "Conf_KNN"
   ]
  },
  {
   "cell_type": "code",
   "execution_count": 40,
   "metadata": {},
   "outputs": [
    {
     "data": {
      "text/plain": [
       "array([[17292,   334],\n",
       "       [ 3959,   478]])"
      ]
     },
     "execution_count": 40,
     "metadata": {},
     "output_type": "execute_result"
    }
   ],
   "source": [
    "Conf_perceptron"
   ]
  },
  {
   "cell_type": "code",
   "execution_count": 50,
   "metadata": {},
   "outputs": [
    {
     "data": {
      "text/plain": [
       "0.5886699507389163"
      ]
     },
     "execution_count": 50,
     "metadata": {},
     "output_type": "execute_result"
    }
   ],
   "source": [
    "Precision_perceptron"
   ]
  },
  {
   "cell_type": "code",
   "execution_count": 51,
   "metadata": {},
   "outputs": [
    {
     "data": {
      "text/plain": [
       "0.10773044850123957"
      ]
     },
     "execution_count": 51,
     "metadata": {},
     "output_type": "execute_result"
    }
   ],
   "source": [
    "Recall_perceptron"
   ]
  },
  {
   "cell_type": "code",
   "execution_count": 118,
   "metadata": {},
   "outputs": [
    {
     "data": {
      "image/png": "[encoded data removed]",
      "text/plain": [
       "<Figure size 864x432 with 2 Axes>"
      ]
     },
     "metadata": {
      "needs_background": "light"
     },
     "output_type": "display_data"
    }
   ],
   "source": [
    "f, ax = plt.subplots(figsize=(12,6))\n",
    "sns.heatmap(Conf_perceptron, fmt='.0f', annot=True,ax=ax,\n",
    "xticklabels=[0,1], yticklabels=[0,1], cmap = 'Oranges');\n",
    "ax.set(xlabel = 'Predicted', ylabel='Truth',title='Single Layer Perceptron: Test Set', ylim=(2,0))\n",
    "plt.show()"
   ]
  },
  {
   "cell_type": "code",
   "execution_count": 117,
   "metadata": {},
   "outputs": [
    {
     "data": {
      "image/png": "[encoded data removed]",
      "text/plain": [
       "<Figure size 864x432 with 2 Axes>"
      ]
     },
     "metadata": {
      "needs_background": "light"
     },
     "output_type": "display_data"
    }
   ],
   "source": [
    "f, ax = plt.subplots(figsize=(12,6))\n",
    "sns.heatmap(Conf_KNN[1], fmt='.0f', annot=True,ax=ax,\n",
    "xticklabels=[0,1], yticklabels=[0,1], cmap = 'Oranges');\n",
    "ax.set(xlabel = 'Predicted', ylabel='Truth',title='K Nearest Neighbors: K = 7; Test Set', ylim=(2,0))\n",
    "plt.show()"
   ]
  },
  {
   "cell_type": "code",
   "execution_count": 115,
   "metadata": {},
   "outputs": [
    {
     "data": {
      "image/png": "[encoded data removed]",
      "text/plain": [
       "<Figure size 864x432 with 2 Axes>"
      ]
     },
     "metadata": {
      "needs_background": "light"
     },
     "output_type": "display_data"
    }
   ],
   "source": [
    "f, ax = plt.subplots(figsize=(12,6))\n",
    "sns.heatmap(Confusion_forest, fmt='.0f', annot=True,ax=ax,\n",
    "xticklabels=[0,1], yticklabels=[0,1], cmap = 'Oranges');\n",
    "ax.set(xlabel = 'Predicted', ylabel='Truth',title='Random Forest: Test Set', ylim=(2,0))\n",
    "plt.show()"
   ]
  },
  {
   "cell_type": "code",
   "execution_count": 150,
   "metadata": {},
   "outputs": [],
   "source": [
    "from sklearn.linear_model import LogisticRegression\n",
    "\n",
    "def logistic(X, y, X_test, y_test):\n",
    "    #from sklearn.linear_model import Perceptron\n",
    "    from sklearn.metrics import accuracy_score, roc_auc_score, plot_confusion_matrix, roc_curve, auc\n",
    "    import matplotlib.pyplot as plt\n",
    "    from sklearn.metrics import precision_score\n",
    "    from sklearn.metrics import recall_score\n",
    "\n",
    "    for i in range (30,31):\n",
    "        mylogreg = LogisticRegression(penalty = 'l2', random_state = 60)\n",
    "        mylogreg.fit(X, y)\n",
    "        myprediction_logreg = mylogreg.predict(X_test)\n",
    "        #print(accuracy_score(y_test,myprediction_perceptron))\n",
    "        \n",
    "        #print(\"Accuracy Score: \", accuracy_score(y_test,myprediction_perceptron))\n",
    "        #print(\"Number of Misclassified Samples: \", (y_test != myprediction_perceptron).sum())\n",
    "        #print(\"ROC - AUC Score:\", roc_auc_score(y_test, myprediction_perceptron))\n",
    "\n",
    "    #plot_confusion_matrix(myperceptron, X_test, y_test)\n",
    "    #plt.show()\n",
    "    \n",
    "    return confusion_matrix(y_test, myprediction_logreg),precision_score(y_test,myprediction_logreg), recall_score(y_test,myprediction_logreg) ,accuracy_score(y_test,myprediction_logreg), roc_auc_score(y_test, myprediction_logreg), (y_test != myprediction_logreg).sum()\n"
   ]
  },
  {
   "cell_type": "code",
   "execution_count": 151,
   "metadata": {},
   "outputs": [],
   "source": [
    "#Regular\n",
    "Conf_logistic, Precision_logistic, Recall_logistic, Accuracy_logistic, Roc_Auc_logistic, Misclassified_Count_logistic = logistic(X_train, Y_train.ravel(), X_test, Y_test.ravel())\n"
   ]
  },
  {
   "cell_type": "code",
   "execution_count": 155,
   "metadata": {},
   "outputs": [],
   "source": [
    "#C3 - 2 Clusters\n",
    "\n",
    "Conf_logistic_C3, Precision_logistic_C3, Recall_logistic_C3, Accuracy_logistic_C3, Roc_Auc_logistic_C3, Misclassified_Count_logistic_C3 = logistic(X_C3_train, Y_C3_train.ravel(), X_C3_test, Y_C3_test.ravel())\n"
   ]
  },
  {
   "cell_type": "code",
   "execution_count": 73,
   "metadata": {},
   "outputs": [],
   "source": [
    "def MultiLayerPerceptron(X, y, X_test, y_test, hidden_layer_units=25, alpha=0.03, epoch=20):\n",
    "    # Initialization\n",
    "    #X = tr_images\n",
    "    #y = tr_labels\n",
    "    y_reserved_train = y\n",
    "    y = pd.get_dummies(y).to_numpy()\n",
    "    #X_test = tt_images\n",
    "    #y_test = tt_labels\n",
    "    y_reserved_test = y_test\n",
    "    y_test = pd.get_dummies(y_test).to_numpy()\n",
    "\n",
    "    #hidden_layer_units = 25\n",
    "\n",
    "    W1 = Weight_Initialization(X.shape[1], hidden_layer_units, -0.0001, 0.0001)\n",
    "    W2 = Weight_Initialization(hidden_layer_units, y.shape[1], -0.0001, 0.0001)\n",
    "    b1 = Weight_Initialization(1, hidden_layer_units, -0.0001, 0.0001)\n",
    "    b2 = Weight_Initialization(1, y.shape[1], -0.0001, 0.0001)\n",
    "\n",
    "    #alpha = 0.03\n",
    "    #epoch = 20\n",
    "\n",
    "    Accuracy_train_accumulated = []\n",
    "    Accuracy_test_accumulated = []\n",
    "    # Forward Pass\n",
    "\n",
    "    for j in range(epoch):\n",
    "        start = time.time()\n",
    "        for i in range(X.shape[0]):\n",
    "            Z1 = np.dot(X[i],W1) + b1\n",
    "            A1 = sigmoid(Z1)\n",
    "            Z2 = np.dot(A1,W2) + b2\n",
    "            A2 = softmax(Z2)\n",
    "            classes = np.argmax(A2,axis=1)\n",
    "            Accuracy = (sum(classes == y_reserved_train[i]))\n",
    "            Loss = Loss_Perceptron(y[i],A2)\n",
    "            \n",
    "            W1_Update = alpha * np.dot(X[i].T.reshape(X.shape[1],1), np.multiply((np.dot(W2, (y[i]-A2).T)).T, A1 - np.power(A1, 2)))\n",
    "            b1_Update = alpha * np.sum(np.multiply(np.dot(W2, (y[i]-A2).T).T, A1 - np.power(A1, 2)), axis = 1, keepdims = True)\n",
    "\n",
    "            W2_Update = alpha * np.dot(A1.T, (y[i]-A2))\n",
    "            b2_Update = alpha * np.sum((y[i]-A2), axis = 1, keepdims = True)\n",
    "\n",
    "            W1 += W1_Update\n",
    "            W2 += W2_Update\n",
    "            b1 += b1_Update\n",
    "            b2 += b2_Update\n",
    "        \n",
    "        # Train Set Accuracy for Each Epoch\n",
    "        highest_weight_train = []\n",
    "        highest_bias_train = []\n",
    "        highest_accuracy_train = 0\n",
    "\n",
    "        Z1 = np.dot(X,W1) + b1\n",
    "        A1 = sigmoid(Z1)\n",
    "        Z2 = np.dot(A1,W2) + b2\n",
    "        A2 = softmax(Z2)\n",
    "\n",
    "        classes_train = np.argmax(A2,axis=1)\n",
    "        Accuracy_train = (sum(classes_train == y_reserved_train))/X.shape[0]\n",
    "        if Accuracy_train>highest_accuracy_train:\n",
    "            highest_weight_train = W1\n",
    "            highest_bias_train = b1\n",
    "            highest_accuracy_train = Accuracy_train\n",
    "        Accuracy_train_accumulated.append(Accuracy_train)\n",
    "        \n",
    "        # Test Set Accuracy for Each Epoch\n",
    "\n",
    "        Z1_test = np.dot(X_test,W1) + b1\n",
    "        A1_test = sigmoid(Z1_test)\n",
    "        Z2_test = np.dot(A1_test,W2) + b2\n",
    "        A2_test = softmax(Z2_test)\n",
    "        \n",
    "        classes_test = np.argmax(A2_test,axis=1)\n",
    "        Accuracy_test = (sum(classes_test == y_reserved_test))/X_test.shape[0]    \n",
    "        Accuracy_test_accumulated.append(Accuracy_test)\n",
    "        stop = time.time() \n",
    "\n",
    "        \n",
    "        print(f'for Epoch {j}, Training Accuracy: {Accuracy_train:.3f} & Testing Accuracy: {Accuracy_test:.3f}, Time per Epoch: {(stop-start):.2f} seconds')\n",
    "\n",
    "    return Accuracy_train_accumulated, Accuracy_test_accumulated, W1, W2, b1, b2, classes_train, classes_test"
   ]
  },
  {
   "cell_type": "code",
   "execution_count": 77,
   "metadata": {},
   "outputs": [
    {
     "name": "stdout",
     "output_type": "stream",
     "text": [
      "for Epoch 0, Training Accuracy: 0.796 & Testing Accuracy: 0.799, Time per Epoch: 7.90 seconds\n",
      "for Epoch 4, Training Accuracy: 0.796 & Testing Accuracy: 0.799, Time per Epoch: 9.69 seconds\n"
     ]
    }
   ],
   "source": [
    "Accuracy_Train_MLP, Accuracy_Test_MLP, W1_MLP, W2_MLP, b1_MLP, b2_MLP, classes_train_MLP, classes_test_MLP = MultiLayerPerceptron(X_train, Y_train.ravel(), X_test, Y_test.ravel(),hidden_layer_units=25, alpha=0.03, epoch=5)\n",
    "\n"
   ]
  },
  {
   "cell_type": "code",
   "execution_count": 114,
   "metadata": {},
   "outputs": [
    {
     "data": {
      "image/png": "[encoded data removed]",
      "text/plain": [
       "<Figure size 864x432 with 2 Axes>"
      ]
     },
     "metadata": {
      "needs_background": "light"
     },
     "output_type": "display_data"
    }
   ],
   "source": [
    "f, ax = plt.subplots(figsize=(12,6))\n",
    "sns.heatmap(confusion_matrix(Y_test, classes_test_MLP), fmt='.0f', annot=True,ax=ax,\n",
    "xticklabels=[0,1], yticklabels=[0,1], cmap = 'Oranges');\n",
    "ax.set(xlabel = 'Predicted', ylabel='Truth',title='MLP: Test Set', ylim=(2,0))\n",
    "plt.show()"
   ]
  },
  {
   "cell_type": "code",
   "execution_count": 126,
   "metadata": {},
   "outputs": [],
   "source": [
    "#3 Clusters Case\n",
    "\n",
    "M_Predictors_C3 = df_C3.iloc[:, lambda df: [14,15]].values\n",
    "M_Classes_C3 = df_C3.iloc[:, lambda df: [7]].values"
   ]
  },
  {
   "cell_type": "code",
   "execution_count": 127,
   "metadata": {},
   "outputs": [],
   "source": [
    "X_C3_train, X_C3_test, Y_C3_train, Y_C3_test = train_test_split(\n",
    "M_Predictors_C3, M_Classes_C3, test_size = 0.3, random_state = 2)"
   ]
  },
  {
   "cell_type": "code",
   "execution_count": 133,
   "metadata": {},
   "outputs": [],
   "source": [
    "Confusion_forest_C3, Precision_forest_C3, Recall_forest_C3, Accuracy_forest_C3, Roc_Auc_forest_C3, Misclassified_Count_forest_C3 = forest(X_C3_train, Y_C3_train.ravel(), X_C3_test, Y_C3_test.ravel())\n",
    "Conf_perceptron_C3, Precision_perceptron_C3, Recall_perceptron_C3, Accuracy_perceptron_C3, Roc_Auc_perceptron_C3, Misclassified_Count_perceptron_C3 = perceptron_(X_C3_train, Y_C3_train.ravel(), X_C3_test, Y_C3_test.ravel())\n",
    "Conf_KNN_C3, Precision_KNN_C3, Recall_KNN_C3, Accuracy_KNN_C3, Roc_Auc_KNN_C3, Misclassified_Count_KNN_C3 = KNeighbors(X_C3_train, Y_C3_train.ravel(), X_C3_test, Y_C3_test.ravel())\n"
   ]
  },
  {
   "cell_type": "code",
   "execution_count": 129,
   "metadata": {},
   "outputs": [
    {
     "data": {
      "text/plain": [
       "0.5523684210526316"
      ]
     },
     "execution_count": 129,
     "metadata": {},
     "output_type": "execute_result"
    }
   ],
   "source": [
    "Precision_forest_C3"
   ]
  },
  {
   "cell_type": "code",
   "execution_count": 130,
   "metadata": {},
   "outputs": [
    {
     "data": {
      "text/plain": [
       "0.47370796659896186"
      ]
     },
     "execution_count": 130,
     "metadata": {},
     "output_type": "execute_result"
    }
   ],
   "source": [
    "Recall_forest_C3"
   ]
  },
  {
   "cell_type": "code",
   "execution_count": 132,
   "metadata": {},
   "outputs": [
    {
     "data": {
      "image/png": "[encoded data removed]",
      "text/plain": [
       "<Figure size 864x432 with 2 Axes>"
      ]
     },
     "metadata": {
      "needs_background": "light"
     },
     "output_type": "display_data"
    }
   ],
   "source": [
    "f, ax = plt.subplots(figsize=(12,6))\n",
    "sns.heatmap(Confusion_forest_C3, fmt='.0f', annot=True,ax=ax,\n",
    "xticklabels=[0,1], yticklabels=[0,1], cmap = 'Oranges');\n",
    "ax.set(xlabel = 'Predicted', ylabel='Truth',title='Forest: 0th and 2nd Clusters; Test Set', ylim=(2,0))\n",
    "plt.show()"
   ]
  },
  {
   "cell_type": "code",
   "execution_count": 136,
   "metadata": {},
   "outputs": [
    {
     "data": {
      "image/png": "[encoded data removed]",
      "text/plain": [
       "<Figure size 864x432 with 2 Axes>"
      ]
     },
     "metadata": {
      "needs_background": "light"
     },
     "output_type": "display_data"
    }
   ],
   "source": [
    "f, ax = plt.subplots(figsize=(12,6))\n",
    "sns.heatmap(Conf_KNN_C3[0], fmt='.0f', annot=True,ax=ax,\n",
    "xticklabels=[0,1], yticklabels=[0,1], cmap = 'Oranges');\n",
    "ax.set(xlabel = 'Predicted', ylabel='Truth',title='KNN[3]: 0th and 2nd Clusters; Test Set', ylim=(2,0))\n",
    "plt.show()"
   ]
  },
  {
   "cell_type": "code",
   "execution_count": 152,
   "metadata": {},
   "outputs": [
    {
     "data": {
      "image/png": "[encoded data removed]",
      "text/plain": [
       "<Figure size 864x432 with 2 Axes>"
      ]
     },
     "metadata": {
      "needs_background": "light"
     },
     "output_type": "display_data"
    }
   ],
   "source": [
    "#Conf_logistic\n",
    "f, ax = plt.subplots(figsize=(12,6))\n",
    "sns.heatmap(Conf_logistic, fmt='.0f', annot=True,ax=ax,\n",
    "xticklabels=[0,1], yticklabels=[0,1], cmap = 'Oranges');\n",
    "ax.set(xlabel = 'Predicted', ylabel='Truth',title='Logistic Regression: Test Set', ylim=(2,0))\n",
    "plt.show()\n"
   ]
  },
  {
   "cell_type": "code",
   "execution_count": 154,
   "metadata": {},
   "outputs": [
    {
     "data": {
      "text/html": [
       "<style  type=\"text/css\" >\n",
       "    #T_d8f60f16_8b10_11eb_875c_9801a7d1f37brow0_col0 {\n",
       "            font-size:  15pt;\n",
       "        }    #T_d8f60f16_8b10_11eb_875c_9801a7d1f37brow0_col1 {\n",
       "            font-size:  15pt;\n",
       "        }    #T_d8f60f16_8b10_11eb_875c_9801a7d1f37brow0_col2 {\n",
       "            font-size:  15pt;\n",
       "        }    #T_d8f60f16_8b10_11eb_875c_9801a7d1f37brow0_col3 {\n",
       "            font-size:  15pt;\n",
       "        }    #T_d8f60f16_8b10_11eb_875c_9801a7d1f37brow1_col0 {\n",
       "            font-size:  15pt;\n",
       "        }    #T_d8f60f16_8b10_11eb_875c_9801a7d1f37brow1_col1 {\n",
       "            font-size:  15pt;\n",
       "        }    #T_d8f60f16_8b10_11eb_875c_9801a7d1f37brow1_col2 {\n",
       "            font-size:  15pt;\n",
       "        }    #T_d8f60f16_8b10_11eb_875c_9801a7d1f37brow1_col3 {\n",
       "            font-size:  15pt;\n",
       "        }    #T_d8f60f16_8b10_11eb_875c_9801a7d1f37brow2_col0 {\n",
       "            font-size:  15pt;\n",
       "        }    #T_d8f60f16_8b10_11eb_875c_9801a7d1f37brow2_col1 {\n",
       "            font-size:  15pt;\n",
       "        }    #T_d8f60f16_8b10_11eb_875c_9801a7d1f37brow2_col2 {\n",
       "            font-size:  15pt;\n",
       "        }    #T_d8f60f16_8b10_11eb_875c_9801a7d1f37brow2_col3 {\n",
       "            font-size:  15pt;\n",
       "        }    #T_d8f60f16_8b10_11eb_875c_9801a7d1f37brow3_col0 {\n",
       "            font-size:  15pt;\n",
       "        }    #T_d8f60f16_8b10_11eb_875c_9801a7d1f37brow3_col1 {\n",
       "            font-size:  15pt;\n",
       "        }    #T_d8f60f16_8b10_11eb_875c_9801a7d1f37brow3_col2 {\n",
       "            font-size:  15pt;\n",
       "        }    #T_d8f60f16_8b10_11eb_875c_9801a7d1f37brow3_col3 {\n",
       "            font-size:  15pt;\n",
       "        }</style><table id=\"T_d8f60f16_8b10_11eb_875c_9801a7d1f37b\" ><thead>    <tr>        <th class=\"blank level0\" ></th>        <th class=\"col_heading level0 col0\" >K Nearest Neighbors[3]</th>        <th class=\"col_heading level0 col1\" >Random Forest</th>        <th class=\"col_heading level0 col2\" >Single Layer Perceptron</th>        <th class=\"col_heading level0 col3\" >Logistic Regression</th>    </tr></thead><tbody>\n",
       "                <tr>\n",
       "                        <th id=\"T_d8f60f16_8b10_11eb_875c_9801a7d1f37blevel0_row0\" class=\"row_heading level0 row0\" >Precision</th>\n",
       "                        <td id=\"T_d8f60f16_8b10_11eb_875c_9801a7d1f37brow0_col0\" class=\"data row0 col0\" >0.419600</td>\n",
       "                        <td id=\"T_d8f60f16_8b10_11eb_875c_9801a7d1f37brow0_col1\" class=\"data row0 col1\" >0.438304</td>\n",
       "                        <td id=\"T_d8f60f16_8b10_11eb_875c_9801a7d1f37brow0_col2\" class=\"data row0 col2\" >0.588670</td>\n",
       "                        <td id=\"T_d8f60f16_8b10_11eb_875c_9801a7d1f37brow0_col3\" class=\"data row0 col3\" >0.529188</td>\n",
       "            </tr>\n",
       "            <tr>\n",
       "                        <th id=\"T_d8f60f16_8b10_11eb_875c_9801a7d1f37blevel0_row1\" class=\"row_heading level0 row1\" >Recall</th>\n",
       "                        <td id=\"T_d8f60f16_8b10_11eb_875c_9801a7d1f37brow1_col0\" class=\"data row1 col0\" >0.298174</td>\n",
       "                        <td id=\"T_d8f60f16_8b10_11eb_875c_9801a7d1f37brow1_col1\" class=\"data row1 col1\" >0.284201</td>\n",
       "                        <td id=\"T_d8f60f16_8b10_11eb_875c_9801a7d1f37brow1_col2\" class=\"data row1 col2\" >0.107730</td>\n",
       "                        <td id=\"T_d8f60f16_8b10_11eb_875c_9801a7d1f37brow1_col3\" class=\"data row1 col3\" >0.187965</td>\n",
       "            </tr>\n",
       "            <tr>\n",
       "                        <th id=\"T_d8f60f16_8b10_11eb_875c_9801a7d1f37blevel0_row2\" class=\"row_heading level0 row2\" >Accuracy</th>\n",
       "                        <td id=\"T_d8f60f16_8b10_11eb_875c_9801a7d1f37brow2_col0\" class=\"data row2 col0\" >0.775914</td>\n",
       "                        <td id=\"T_d8f60f16_8b10_11eb_875c_9801a7d1f37brow2_col1\" class=\"data row2 col1\" >0.782804</td>\n",
       "                        <td id=\"T_d8f60f16_8b10_11eb_875c_9801a7d1f37brow2_col2\" class=\"data row2 col2\" >0.805421</td>\n",
       "                        <td id=\"T_d8f60f16_8b10_11eb_875c_9801a7d1f37brow2_col3\" class=\"data row2 col3\" >0.803064</td>\n",
       "            </tr>\n",
       "            <tr>\n",
       "                        <th id=\"T_d8f60f16_8b10_11eb_875c_9801a7d1f37blevel0_row3\" class=\"row_heading level0 row3\" >Roc_Auc</th>\n",
       "                        <td id=\"T_d8f60f16_8b10_11eb_875c_9801a7d1f37brow3_col0\" class=\"data row3 col0\" >0.597175</td>\n",
       "                        <td id=\"T_d8f60f16_8b10_11eb_875c_9801a7d1f37brow3_col1\" class=\"data row3 col1\" >0.596259</td>\n",
       "                        <td id=\"T_d8f60f16_8b10_11eb_875c_9801a7d1f37brow3_col2\" class=\"data row3 col2\" >0.544391</td>\n",
       "                        <td id=\"T_d8f60f16_8b10_11eb_875c_9801a7d1f37brow3_col3\" class=\"data row3 col3\" >0.572934</td>\n",
       "            </tr>\n",
       "    </tbody></table>"
      ],
      "text/plain": [
       "<pandas.io.formats.style.Styler at 0x1a28a03f90>"
      ]
     },
     "execution_count": 154,
     "metadata": {},
     "output_type": "execute_result"
    }
   ],
   "source": [
    "results = {\n",
    "    \"K Nearest Neighbors[3]\" : [Precision_KNN[0], Recall_KNN[0], Accuracy_KNN[0], Roc_Auc_KNN[0]],\n",
    "    \"Random Forest\" : [Precision_forest, Recall_forest, Accuracy_forest, Roc_Auc_forest],\n",
    "    \"Single Layer Perceptron\" : [Precision_perceptron, Recall_perceptron, Accuracy_perceptron, Roc_Auc_perceptron],\n",
    "    \"Logistic Regression\" : [Precision_logistic, Recall_logistic, Accuracy_logistic, Roc_Auc_logistic]\n",
    "}\n",
    "\n",
    "outcomes_df = pd.DataFrame(results, columns = [\"K Nearest Neighbors[3]\", \"Random Forest\", \n",
    "                                               \"Single Layer Perceptron\", \"Logistic Regression\"],\n",
    "                          index = [\"Precision\", \"Recall\", \"Accuracy\", \"Roc_Auc\"])\n",
    "\n",
    "outcomes_df = outcomes_df.style.set_properties(**{\n",
    "    'font-size': '15pt',\n",
    "})\n",
    "\n",
    "outcomes_df"
   ]
  },
  {
   "cell_type": "code",
   "execution_count": 156,
   "metadata": {},
   "outputs": [
    {
     "data": {
      "text/html": [
       "<style  type=\"text/css\" >\n",
       "    #T_306b77fe_8b11_11eb_875c_9801a7d1f37brow0_col0 {\n",
       "            font-size:  15pt;\n",
       "        }    #T_306b77fe_8b11_11eb_875c_9801a7d1f37brow0_col1 {\n",
       "            font-size:  15pt;\n",
       "        }    #T_306b77fe_8b11_11eb_875c_9801a7d1f37brow0_col2 {\n",
       "            font-size:  15pt;\n",
       "        }    #T_306b77fe_8b11_11eb_875c_9801a7d1f37brow1_col0 {\n",
       "            font-size:  15pt;\n",
       "        }    #T_306b77fe_8b11_11eb_875c_9801a7d1f37brow1_col1 {\n",
       "            font-size:  15pt;\n",
       "        }    #T_306b77fe_8b11_11eb_875c_9801a7d1f37brow1_col2 {\n",
       "            font-size:  15pt;\n",
       "        }    #T_306b77fe_8b11_11eb_875c_9801a7d1f37brow2_col0 {\n",
       "            font-size:  15pt;\n",
       "        }    #T_306b77fe_8b11_11eb_875c_9801a7d1f37brow2_col1 {\n",
       "            font-size:  15pt;\n",
       "        }    #T_306b77fe_8b11_11eb_875c_9801a7d1f37brow2_col2 {\n",
       "            font-size:  15pt;\n",
       "        }    #T_306b77fe_8b11_11eb_875c_9801a7d1f37brow3_col0 {\n",
       "            font-size:  15pt;\n",
       "        }    #T_306b77fe_8b11_11eb_875c_9801a7d1f37brow3_col1 {\n",
       "            font-size:  15pt;\n",
       "        }    #T_306b77fe_8b11_11eb_875c_9801a7d1f37brow3_col2 {\n",
       "            font-size:  15pt;\n",
       "        }</style><table id=\"T_306b77fe_8b11_11eb_875c_9801a7d1f37b\" ><thead>    <tr>        <th class=\"blank level0\" ></th>        <th class=\"col_heading level0 col0\" >K Nearest Neighbors[3]</th>        <th class=\"col_heading level0 col1\" >Random Forest</th>        <th class=\"col_heading level0 col2\" >Logistic Regression</th>    </tr></thead><tbody>\n",
       "                <tr>\n",
       "                        <th id=\"T_306b77fe_8b11_11eb_875c_9801a7d1f37blevel0_row0\" class=\"row_heading level0 row0\" >Precision</th>\n",
       "                        <td id=\"T_306b77fe_8b11_11eb_875c_9801a7d1f37brow0_col0\" class=\"data row0 col0\" >0.527941</td>\n",
       "                        <td id=\"T_306b77fe_8b11_11eb_875c_9801a7d1f37brow0_col1\" class=\"data row0 col1\" >0.552368</td>\n",
       "                        <td id=\"T_306b77fe_8b11_11eb_875c_9801a7d1f37brow0_col2\" class=\"data row0 col2\" >0.642010</td>\n",
       "            </tr>\n",
       "            <tr>\n",
       "                        <th id=\"T_306b77fe_8b11_11eb_875c_9801a7d1f37blevel0_row1\" class=\"row_heading level0 row1\" >Recall</th>\n",
       "                        <td id=\"T_306b77fe_8b11_11eb_875c_9801a7d1f37brow1_col0\" class=\"data row1 col0\" >0.486121</td>\n",
       "                        <td id=\"T_306b77fe_8b11_11eb_875c_9801a7d1f37brow1_col1\" class=\"data row1 col1\" >0.473708</td>\n",
       "                        <td id=\"T_306b77fe_8b11_11eb_875c_9801a7d1f37brow1_col2\" class=\"data row1 col2\" >0.415256</td>\n",
       "            </tr>\n",
       "            <tr>\n",
       "                        <th id=\"T_306b77fe_8b11_11eb_875c_9801a7d1f37blevel0_row2\" class=\"row_heading level0 row2\" >Accuracy</th>\n",
       "                        <td id=\"T_306b77fe_8b11_11eb_875c_9801a7d1f37brow2_col0\" class=\"data row2 col0\" >0.701597</td>\n",
       "                        <td id=\"T_306b77fe_8b11_11eb_875c_9801a7d1f37brow2_col1\" class=\"data row2 col1\" >0.713667</td>\n",
       "                        <td id=\"T_306b77fe_8b11_11eb_875c_9801a7d1f37brow2_col2\" class=\"data row2 col2\" >0.743202</td>\n",
       "            </tr>\n",
       "            <tr>\n",
       "                        <th id=\"T_306b77fe_8b11_11eb_875c_9801a7d1f37blevel0_row3\" class=\"row_heading level0 row3\" >Roc_Auc</th>\n",
       "                        <td id=\"T_306b77fe_8b11_11eb_875c_9801a7d1f37brow3_col0\" class=\"data row3 col0\" >0.643309</td>\n",
       "                        <td id=\"T_306b77fe_8b11_11eb_875c_9801a7d1f37brow3_col1\" class=\"data row3 col1\" >0.648756</td>\n",
       "                        <td id=\"T_306b77fe_8b11_11eb_875c_9801a7d1f37brow3_col2\" class=\"data row3 col2\" >0.654489</td>\n",
       "            </tr>\n",
       "    </tbody></table>"
      ],
      "text/plain": [
       "<pandas.io.formats.style.Styler at 0x1a3f44cb10>"
      ]
     },
     "execution_count": 156,
     "metadata": {},
     "output_type": "execute_result"
    }
   ],
   "source": [
    "results_C3 = {\n",
    "    \"K Nearest Neighbors[3]\" : [Precision_KNN_C3[0], Recall_KNN_C3[0], Accuracy_KNN_C3[0], Roc_Auc_KNN_C3[0]],\n",
    "    \"Random Forest\" : [Precision_forest_C3, Recall_forest_C3, Accuracy_forest_C3, Roc_Auc_forest_C3],\n",
    "    \"Logistic Regression\" : [Precision_logistic_C3, Recall_logistic_C3, Accuracy_logistic_C3, Roc_Auc_logistic_C3]\n",
    "}\n",
    "\n",
    "outcomes_df_C3 = pd.DataFrame(results_C3, columns = [\"K Nearest Neighbors[3]\", \"Random Forest\", \"Logistic Regression\"],\n",
    "                          index = [\"Precision\", \"Recall\", \"Accuracy\", \"Roc_Auc\"])\n",
    "\n",
    "outcomes_df_C3 = outcomes_df_C3.style.set_properties(**{\n",
    "    'font-size': '15pt',\n",
    "})\n",
    "outcomes_df_C3"
   ]
  },
  {
   "cell_type": "code",
   "execution_count": 1,
   "metadata": {},
   "outputs": [
    {
     "ename": "NameError",
     "evalue": "name 'Precision_KNN_C3' is not defined",
     "output_type": "error",
     "traceback": [
      "\u001b[0;31m---------------------------------------------------------------------------\u001b[0m",
      "\u001b[0;31mNameError\u001b[0m                                 Traceback (most recent call last)",
      "\u001b[0;32m<ipython-input-1-ec5afd2210ae>\u001b[0m in \u001b[0;36m<module>\u001b[0;34m\u001b[0m\n\u001b[1;32m      1\u001b[0m results_C3 = {\n\u001b[0;32m----> 2\u001b[0;31m     \u001b[0;34m\"K Nearest Neighbors[3]\"\u001b[0m \u001b[0;34m:\u001b[0m \u001b[0;34m[\u001b[0m\u001b[0mPrecision_KNN_C3\u001b[0m\u001b[0;34m[\u001b[0m\u001b[0;36m0\u001b[0m\u001b[0;34m]\u001b[0m\u001b[0;34m,\u001b[0m \u001b[0mRecall_KNN_C3\u001b[0m\u001b[0;34m[\u001b[0m\u001b[0;36m0\u001b[0m\u001b[0;34m]\u001b[0m\u001b[0;34m,\u001b[0m \u001b[0mAccuracy_KNN_C3\u001b[0m\u001b[0;34m[\u001b[0m\u001b[0;36m0\u001b[0m\u001b[0;34m]\u001b[0m\u001b[0;34m,\u001b[0m \u001b[0mRoc_Auc_KNN_C3\u001b[0m\u001b[0;34m[\u001b[0m\u001b[0;36m0\u001b[0m\u001b[0;34m]\u001b[0m\u001b[0;34m]\u001b[0m\u001b[0;34m,\u001b[0m\u001b[0;34m\u001b[0m\u001b[0;34m\u001b[0m\u001b[0m\n\u001b[0m\u001b[1;32m      3\u001b[0m     \u001b[0;34m\"Random Forest\"\u001b[0m \u001b[0;34m:\u001b[0m \u001b[0;34m[\u001b[0m\u001b[0mPrecision_forest_C3\u001b[0m\u001b[0;34m,\u001b[0m \u001b[0mRecall_forest_C3\u001b[0m\u001b[0;34m,\u001b[0m \u001b[0mAccuracy_forest_C3\u001b[0m\u001b[0;34m,\u001b[0m \u001b[0mRoc_Auc_forest_C3\u001b[0m\u001b[0;34m]\u001b[0m\u001b[0;34m,\u001b[0m\u001b[0;34m\u001b[0m\u001b[0;34m\u001b[0m\u001b[0m\n\u001b[1;32m      4\u001b[0m     \u001b[0;34m\"Logistic Regression\"\u001b[0m \u001b[0;34m:\u001b[0m \u001b[0;34m[\u001b[0m\u001b[0mPrecision_logistic_C3\u001b[0m\u001b[0;34m,\u001b[0m \u001b[0mRecall_logistic_C3\u001b[0m\u001b[0;34m,\u001b[0m \u001b[0mAccuracy_logistic_C3\u001b[0m\u001b[0;34m,\u001b[0m \u001b[0mRoc_Auc_logistic_C3\u001b[0m\u001b[0;34m]\u001b[0m\u001b[0;34m\u001b[0m\u001b[0;34m\u001b[0m\u001b[0m\n\u001b[1;32m      5\u001b[0m }\n",
      "\u001b[0;31mNameError\u001b[0m: name 'Precision_KNN_C3' is not defined"
     ]
    }
   ],
   "source": []
  },
  {
   "cell_type": "code",
   "execution_count": null,
   "metadata": {},
   "outputs": [],
   "source": []
  }
 ],
 "metadata": {
  "kernelspec": {
   "display_name": "Python 3",
   "language": "python",
   "name": "python3"
  },
  "language_info": {
   "codemirror_mode": {
    "name": "ipython",
    "version": 3
   },
   "file_extension": ".py",
   "mimetype": "text/x-python",
   "name": "python",
   "nbconvert_exporter": "python",
   "pygments_lexer": "ipython3",
   "version": "3.7.6"
  }
 },
 "nbformat": 4,
 "nbformat_minor": 4
}
